{
 "cells": [
  {
   "cell_type": "markdown",
   "metadata": {},
   "source": [
    "# Wrangling of Accident Claims Data 2011-2017 - active claims - Julia "
   ]
  },
  {
   "cell_type": "code",
   "execution_count": 1,
   "metadata": {},
   "outputs": [],
   "source": [
    "using Pkg"
   ]
  },
  {
   "cell_type": "code",
   "execution_count": 2,
   "metadata": {},
   "outputs": [
    {
     "name": "stderr",
     "output_type": "stream",
     "text": [
      "\u001b[32m\u001b[1m   Updating\u001b[22m\u001b[39m registry at `~/.julia/registries/General`\n",
      "\u001b[32m\u001b[1mNo Changes\u001b[22m\u001b[39m to `~/.julia/environments/v1.5/Project.toml`\n",
      "\u001b[32m\u001b[1mNo Changes\u001b[22m\u001b[39m to `~/.julia/environments/v1.5/Manifest.toml`\n"
     ]
    }
   ],
   "source": [
    "Pkg.update()"
   ]
  },
  {
   "cell_type": "code",
   "execution_count": 3,
   "metadata": {},
   "outputs": [],
   "source": [
    "#Pkg.add(\"Queryverse\")\n",
    "#Pkg.add(\"DataFrames\")\n",
    "#Pkg.add(\"Query\")"
   ]
  },
  {
   "cell_type": "code",
   "execution_count": 4,
   "metadata": {},
   "outputs": [],
   "source": [
    "using Queryverse, DataFrames, Query"
   ]
  },
  {
   "cell_type": "code",
   "execution_count": 5,
   "metadata": {},
   "outputs": [
    {
     "name": "stderr",
     "output_type": "stream",
     "text": [
      "\u001b[32m\u001b[1m  Resolving\u001b[22m\u001b[39m package versions...\n",
      "\u001b[32m\u001b[1mNo Changes\u001b[22m\u001b[39m to `~/.julia/environments/v1.5/Project.toml`\n",
      "\u001b[32m\u001b[1mNo Changes\u001b[22m\u001b[39m to `~/.julia/environments/v1.5/Manifest.toml`\n"
     ]
    }
   ],
   "source": [
    "Pkg.add(\"CSV\")"
   ]
  },
  {
   "cell_type": "code",
   "execution_count": 6,
   "metadata": {},
   "outputs": [
    {
     "name": "stderr",
     "output_type": "stream",
     "text": [
      "┌ Info: Precompiling CSV [336ed68f-0bac-5ca0-87d4-7b16caf5d00b]\n",
      "└ @ Base loading.jl:1278\n"
     ]
    }
   ],
   "source": [
    "using CSV"
   ]
  },
  {
   "cell_type": "code",
   "execution_count": 7,
   "metadata": {},
   "outputs": [
    {
     "ename": "ErrorException",
     "evalue": "File has multiple column headers with the same name, specify `colnames` by hand\nalong with `header_exists=false`",
     "output_type": "error",
     "traceback": [
      "File has multiple column headers with the same name, specify `colnames` by hand\nalong with `header_exists=false`",
      "",
      "Stacktrace:",
      " [1] error(::String) at ./error.jl:33",
      " [2] _csvread_internal(::TextParse.VectorBackedUTF8String, ::Char; spacedelim::Bool, quotechar::Char, escapechar::Char, commentchar::Nothing, stringtype::Type{T} where T, stringarraytype::Type{T} where T, noresize::Bool, rowno::Int64, prevheaders::Nothing, pooledstrings::Nothing, skiplines_begin::Int64, samecols::Nothing, header_exists::Bool, nastrings::Array{String,1}, colnames::Array{String,1}, colspool::OrderedCollections.OrderedDict{Union{Int64, String},Union{Nothing, AbstractArray{T,1} where T}}, row_estimate::Int64, prev_parsers::Nothing, colparsers::Array{Any,1}, filename::String, type_detect_rows::Int64) at /Users/oscar/.julia/packages/TextParse/dv6SU/src/csv.jl:246",
      " [3] (::TextParse.var\"#34#36\"{Base.Iterators.Pairs{Symbol,UnionAll,Tuple{Symbol},NamedTuple{(:stringarraytype,),Tuple{UnionAll}}},String,Char})(::IOStream) at /Users/oscar/.julia/packages/TextParse/dv6SU/src/csv.jl:117",
      " [4] open(::TextParse.var\"#34#36\"{Base.Iterators.Pairs{Symbol,UnionAll,Tuple{Symbol},NamedTuple{(:stringarraytype,),Tuple{UnionAll}}},String,Char}, ::String, ::Vararg{String,N} where N; kwargs::Base.Iterators.Pairs{Union{},Union{},Tuple{},NamedTuple{(),Tuple{}}}) at ./io.jl:325",
      " [5] open at ./io.jl:323 [inlined]",
      " [6] #_csvread_f#32 at /Users/oscar/.julia/packages/TextParse/dv6SU/src/csv.jl:114 [inlined]",
      " [7] csvread(::String, ::Char; kwargs::Base.Iterators.Pairs{Symbol,UnionAll,Tuple{Symbol},NamedTuple{(:stringarraytype,),Tuple{UnionAll}}}) at /Users/oscar/.julia/packages/TextParse/dv6SU/src/csv.jl:80",
      " [8] _loaddata(::CSVFiles.CSVFile) at /Users/oscar/.julia/packages/CSVFiles/C68zw/src/CSVFiles.jl:103",
      " [9] getiterator(::CSVFiles.CSVFile) at /Users/oscar/.julia/packages/CSVFiles/C68zw/src/CSVFiles.jl:108",
      " [10] show(::IOContext{Base.GenericIOBuffer{Array{UInt8,1}}}, ::CSVFiles.CSVFile) at /Users/oscar/.julia/packages/CSVFiles/C68zw/src/CSVFiles.jl:22",
      " [11] show at ./multimedia.jl:47 [inlined]",
      " [12] limitstringmime(::MIME{Symbol(\"text/plain\")}, ::CSVFiles.CSVFile) at /Users/oscar/.julia/packages/IJulia/rWZ9e/src/inline.jl:43",
      " [13] display_mimestring at /Users/oscar/.julia/packages/IJulia/rWZ9e/src/display.jl:71 [inlined]",
      " [14] display_dict(::CSVFiles.CSVFile) at /Users/oscar/.julia/packages/IJulia/rWZ9e/src/display.jl:102",
      " [15] #invokelatest#1 at ./essentials.jl:710 [inlined]",
      " [16] invokelatest at ./essentials.jl:709 [inlined]",
      " [17] execute_request(::ZMQ.Socket, ::IJulia.Msg) at /Users/oscar/.julia/packages/IJulia/rWZ9e/src/execute_request.jl:130",
      " [18] #invokelatest#1 at ./essentials.jl:710 [inlined]",
      " [19] invokelatest at ./essentials.jl:709 [inlined]",
      " [20] eventloop(::ZMQ.Socket) at /Users/oscar/.julia/packages/IJulia/rWZ9e/src/eventloop.jl:8",
      " [21] (::IJulia.var\"#15#18\")() at ./task.jl:356"
     ]
    }
   ],
   "source": [
    "active_claims_csv = load(\"active_claimsCSV.csv\")"
   ]
  },
  {
   "cell_type": "code",
   "execution_count": 8,
   "metadata": {},
   "outputs": [
    {
     "data": {
      "text/html": [
       "<table class=\"data-frame\"><thead><tr><th></th><th>features</th><th>2011</th><th>2012</th><th>2013</th><th>2014</th><th>2015</th><th>2016</th></tr><tr><th></th><th>String?</th><th>String?</th><th>String?</th><th>String?</th><th>String?</th><th>String?</th><th>String?</th></tr></thead><tbody><p>66 rows × 8 columns (omitted printing of 1 columns)</p><tr><th>1</th><td>Client gender</td><td>2011/12</td><td>2012/13</td><td>2013/14</td><td>2014/15</td><td>2015/16</td><td>2016/17</td></tr><tr><th>2</th><td>Female</td><td>23,010</td><td>22,744</td><td>23,365</td><td>22,483</td><td>23,157</td><td>24,402</td></tr><tr><th>3</th><td>Male</td><td>25,948</td><td>25,172</td><td>25,834</td><td>25,058</td><td>25,433</td><td>26,621</td></tr><tr><th>4</th><td>Client Age</td><td><em>missing</em></td><td><em>missing</em></td><td><em>missing</em></td><td><em>missing</em></td><td><em>missing</em></td><td><em>missing</em></td></tr><tr><th>5</th><td>00 to 19 Years of age</td><td>9,303</td><td>8,485</td><td>8,574</td><td>7,916</td><td>7,755</td><td>8,165</td></tr><tr><th>6</th><td>20 to 29 Years of age</td><td>11,318</td><td>11,126</td><td>11,438</td><td>11,103</td><td>11,362</td><td>12,029</td></tr><tr><th>7</th><td>30 to 39 Years of age</td><td>8,029</td><td>7,800</td><td>7,936</td><td>7,733</td><td>7,842</td><td>8,383</td></tr><tr><th>8</th><td>40 to 49 Years of age</td><td>8,415</td><td>8,255</td><td>8,345</td><td>8,032</td><td>8,257</td><td>8,428</td></tr><tr><th>9</th><td>50 to 59 Years of age</td><td>6,030</td><td>6,194</td><td>6,506</td><td>6,614</td><td>6,895</td><td>7,127</td></tr><tr><th>10</th><td>60 to 69 Years of age</td><td>3,264</td><td>3,379</td><td>3,572</td><td>3,566</td><td>3,776</td><td>3,952</td></tr><tr><th>11</th><td>70 to 79 Years of age</td><td>1,653</td><td>1,745</td><td>1,823</td><td>1,662</td><td>1,798</td><td>1,967</td></tr><tr><th>12</th><td>80 Years and older</td><td>946</td><td>932</td><td>1,005</td><td>915</td><td>905</td><td>972</td></tr><tr><th>13</th><td>Client Ethnicity</td><td><em>missing</em></td><td><em>missing</em></td><td><em>missing</em></td><td><em>missing</em></td><td><em>missing</em></td><td><em>missing</em></td></tr><tr><th>14</th><td>Asian</td><td>3,281</td><td>3,376</td><td>3,533</td><td>3,570</td><td>3,956</td><td>4,247</td></tr><tr><th>15</th><td>European</td><td>33,137</td><td>32,324</td><td>33,100</td><td>31,964</td><td>32,460</td><td>33,858</td></tr><tr><th>16</th><td>Maori</td><td>6,887</td><td>6,695</td><td>6,859</td><td>6,615</td><td>6,858</td><td>7,343</td></tr><tr><th>17</th><td>Other Ethnicities /Not stated</td><td>3,707</td><td>3,599</td><td>3,632</td><td>3,406</td><td>3,216</td><td>3,291</td></tr><tr><th>18</th><td>Pacific Peoples</td><td>1,946</td><td>1,922</td><td>2,075</td><td>1,986</td><td>2,100</td><td>2,284</td></tr><tr><th>19</th><td>Active Month</td><td><em>missing</em></td><td><em>missing</em></td><td><em>missing</em></td><td><em>missing</em></td><td><em>missing</em></td><td><em>missing</em></td></tr><tr><th>20</th><td>January </td><td>12,004</td><td>11,750</td><td>12,035</td><td>11,497</td><td>11,872</td><td>12,817</td></tr><tr><th>21</th><td>February</td><td>12,521</td><td>11,957</td><td>12,276</td><td>12,112</td><td>12,894</td><td>13,375</td></tr><tr><th>22</th><td>March</td><td>13,474</td><td>12,645</td><td>12,724</td><td>13,322</td><td>13,924</td><td>14,905</td></tr><tr><th>23</th><td>April</td><td>12,078</td><td>13,393</td><td>12,929</td><td>12,898</td><td>13,562</td><td>13,801</td></tr><tr><th>24</th><td>May</td><td>13,810</td><td>13,387</td><td>13,694</td><td>13,063</td><td>13,965</td><td>14,734</td></tr><tr><th>25</th><td>June</td><td>13,128</td><td>12,792</td><td>13,132</td><td>13,278</td><td>14,426</td><td>14,533</td></tr><tr><th>26</th><td>July</td><td>13,372</td><td>13,183</td><td>13,566</td><td>13,777</td><td>13,479</td><td>14,074</td></tr><tr><th>27</th><td>August</td><td>13,266</td><td>13,184</td><td>13,111</td><td>12,962</td><td>12,978</td><td>14,270</td></tr><tr><th>28</th><td>September</td><td>13,495</td><td>12,484</td><td>12,761</td><td>13,211</td><td>13,460</td><td>13,966</td></tr><tr><th>29</th><td>October</td><td>12,720</td><td>12,562</td><td>13,006</td><td>13,358</td><td>13,259</td><td>13,684</td></tr><tr><th>30</th><td>November</td><td>13,523</td><td>12,949</td><td>13,043</td><td>12,717</td><td>13,029</td><td>14,139</td></tr><tr><th>&vellip;</th><td>&vellip;</td><td>&vellip;</td><td>&vellip;</td><td>&vellip;</td><td>&vellip;</td><td>&vellip;</td><td>&vellip;</td></tr></tbody></table>"
      ],
      "text/latex": [
       "\\begin{tabular}{r|cccccccc}\n",
       "\t& features & 2011 & 2012 & 2013 & 2014 & 2015 & 2016 & \\\\\n",
       "\t\\hline\n",
       "\t& String? & String? & String? & String? & String? & String? & String? & \\\\\n",
       "\t\\hline\n",
       "\t1 & Client gender & 2011/12 & 2012/13 & 2013/14 & 2014/15 & 2015/16 & 2016/17 & $\\dots$ \\\\\n",
       "\t2 & Female & 23,010 & 22,744 & 23,365 & 22,483 & 23,157 & 24,402 & $\\dots$ \\\\\n",
       "\t3 & Male & 25,948 & 25,172 & 25,834 & 25,058 & 25,433 & 26,621 & $\\dots$ \\\\\n",
       "\t4 & Client Age & \\emph{missing} & \\emph{missing} & \\emph{missing} & \\emph{missing} & \\emph{missing} & \\emph{missing} & $\\dots$ \\\\\n",
       "\t5 & 00 to 19 Years of age & 9,303 & 8,485 & 8,574 & 7,916 & 7,755 & 8,165 & $\\dots$ \\\\\n",
       "\t6 & 20 to 29 Years of age & 11,318 & 11,126 & 11,438 & 11,103 & 11,362 & 12,029 & $\\dots$ \\\\\n",
       "\t7 & 30 to 39 Years of age & 8,029 & 7,800 & 7,936 & 7,733 & 7,842 & 8,383 & $\\dots$ \\\\\n",
       "\t8 & 40 to 49 Years of age & 8,415 & 8,255 & 8,345 & 8,032 & 8,257 & 8,428 & $\\dots$ \\\\\n",
       "\t9 & 50 to 59 Years of age & 6,030 & 6,194 & 6,506 & 6,614 & 6,895 & 7,127 & $\\dots$ \\\\\n",
       "\t10 & 60 to 69 Years of age & 3,264 & 3,379 & 3,572 & 3,566 & 3,776 & 3,952 & $\\dots$ \\\\\n",
       "\t11 & 70 to 79 Years of age & 1,653 & 1,745 & 1,823 & 1,662 & 1,798 & 1,967 & $\\dots$ \\\\\n",
       "\t12 & 80 Years and older & 946 & 932 & 1,005 & 915 & 905 & 972 & $\\dots$ \\\\\n",
       "\t13 & Client Ethnicity & \\emph{missing} & \\emph{missing} & \\emph{missing} & \\emph{missing} & \\emph{missing} & \\emph{missing} & $\\dots$ \\\\\n",
       "\t14 & Asian & 3,281 & 3,376 & 3,533 & 3,570 & 3,956 & 4,247 & $\\dots$ \\\\\n",
       "\t15 & European & 33,137 & 32,324 & 33,100 & 31,964 & 32,460 & 33,858 & $\\dots$ \\\\\n",
       "\t16 & Maori & 6,887 & 6,695 & 6,859 & 6,615 & 6,858 & 7,343 & $\\dots$ \\\\\n",
       "\t17 & Other Ethnicities /Not stated & 3,707 & 3,599 & 3,632 & 3,406 & 3,216 & 3,291 & $\\dots$ \\\\\n",
       "\t18 & Pacific Peoples & 1,946 & 1,922 & 2,075 & 1,986 & 2,100 & 2,284 & $\\dots$ \\\\\n",
       "\t19 & Active Month & \\emph{missing} & \\emph{missing} & \\emph{missing} & \\emph{missing} & \\emph{missing} & \\emph{missing} & $\\dots$ \\\\\n",
       "\t20 & January  & 12,004 & 11,750 & 12,035 & 11,497 & 11,872 & 12,817 & $\\dots$ \\\\\n",
       "\t21 & February & 12,521 & 11,957 & 12,276 & 12,112 & 12,894 & 13,375 & $\\dots$ \\\\\n",
       "\t22 & March & 13,474 & 12,645 & 12,724 & 13,322 & 13,924 & 14,905 & $\\dots$ \\\\\n",
       "\t23 & April & 12,078 & 13,393 & 12,929 & 12,898 & 13,562 & 13,801 & $\\dots$ \\\\\n",
       "\t24 & May & 13,810 & 13,387 & 13,694 & 13,063 & 13,965 & 14,734 & $\\dots$ \\\\\n",
       "\t25 & June & 13,128 & 12,792 & 13,132 & 13,278 & 14,426 & 14,533 & $\\dots$ \\\\\n",
       "\t26 & July & 13,372 & 13,183 & 13,566 & 13,777 & 13,479 & 14,074 & $\\dots$ \\\\\n",
       "\t27 & August & 13,266 & 13,184 & 13,111 & 12,962 & 12,978 & 14,270 & $\\dots$ \\\\\n",
       "\t28 & September & 13,495 & 12,484 & 12,761 & 13,211 & 13,460 & 13,966 & $\\dots$ \\\\\n",
       "\t29 & October & 12,720 & 12,562 & 13,006 & 13,358 & 13,259 & 13,684 & $\\dots$ \\\\\n",
       "\t30 & November & 13,523 & 12,949 & 13,043 & 12,717 & 13,029 & 14,139 & $\\dots$ \\\\\n",
       "\t$\\dots$ & $\\dots$ & $\\dots$ & $\\dots$ & $\\dots$ & $\\dots$ & $\\dots$ & $\\dots$ &  \\\\\n",
       "\\end{tabular}\n"
      ],
      "text/plain": [
       "66×8 DataFrame. Omitted printing of 3 columns\n",
       "│ Row │ features              │ 2011    │ 2012    │ 2013    │ 2014    │\n",
       "│     │ \u001b[90mString?\u001b[39m               │ \u001b[90mString?\u001b[39m │ \u001b[90mString?\u001b[39m │ \u001b[90mString?\u001b[39m │ \u001b[90mString?\u001b[39m │\n",
       "├─────┼───────────────────────┼─────────┼─────────┼─────────┼─────────┤\n",
       "│ 1   │ Client gender         │ 2011/12 │ 2012/13 │ 2013/14 │ 2014/15 │\n",
       "│ 2   │ Female                │ 23,010  │ 22,744  │ 23,365  │ 22,483  │\n",
       "│ 3   │ Male                  │ 25,948  │ 25,172  │ 25,834  │ 25,058  │\n",
       "│ 4   │ Client Age            │ \u001b[90mmissing\u001b[39m │ \u001b[90mmissing\u001b[39m │ \u001b[90mmissing\u001b[39m │ \u001b[90mmissing\u001b[39m │\n",
       "│ 5   │ 00 to 19 Years of age │ 9,303   │ 8,485   │ 8,574   │ 7,916   │\n",
       "│ 6   │ 20 to 29 Years of age │ 11,318  │ 11,126  │ 11,438  │ 11,103  │\n",
       "│ 7   │ 30 to 39 Years of age │ 8,029   │ 7,800   │ 7,936   │ 7,733   │\n",
       "│ 8   │ 40 to 49 Years of age │ 8,415   │ 8,255   │ 8,345   │ 8,032   │\n",
       "│ 9   │ 50 to 59 Years of age │ 6,030   │ 6,194   │ 6,506   │ 6,614   │\n",
       "│ 10  │ 60 to 69 Years of age │ 3,264   │ 3,379   │ 3,572   │ 3,566   │\n",
       "⋮\n",
       "│ 56  │ Canterbury            │ 6,613   │ 6,341   │ 6,601   │ 6,430   │\n",
       "│ 57  │ West Coast            │ 476     │ 459     │ 477     │ 448     │\n",
       "│ 58  │ Otago                 │ 2,128   │ 2,005   │ 2,074   │ 2,064   │\n",
       "│ 59  │ Southland             │ 945     │ 931     │ 901     │ 859     │\n",
       "│ 60  │ Other                 │ 417     │ 416     │ 456     │ 518     │\n",
       "│ 61  │ Unknown               │ 3,628   │ 3,413   │ 3,430   │ 3,409   │\n",
       "│ 62  │ \u001b[90mmissing\u001b[39m               │ \u001b[90mmissing\u001b[39m │ \u001b[90mmissing\u001b[39m │ \u001b[90mmissing\u001b[39m │ \u001b[90mmissing\u001b[39m │\n",
       "│ 63  │ \u001b[90mmissing\u001b[39m               │ \u001b[90mmissing\u001b[39m │ \u001b[90mmissing\u001b[39m │ \u001b[90mmissing\u001b[39m │ \u001b[90mmissing\u001b[39m │\n",
       "│ 64  │ \u001b[90mmissing\u001b[39m               │ \u001b[90mmissing\u001b[39m │ \u001b[90mmissing\u001b[39m │ \u001b[90mmissing\u001b[39m │ \u001b[90mmissing\u001b[39m │\n",
       "│ 65  │ \u001b[90mmissing\u001b[39m               │ \u001b[90mmissing\u001b[39m │ \u001b[90mmissing\u001b[39m │ \u001b[90mmissing\u001b[39m │ \u001b[90mmissing\u001b[39m │\n",
       "│ 66  │ \u001b[90mmissing\u001b[39m               │ \u001b[90mmissing\u001b[39m │ \u001b[90mmissing\u001b[39m │ \u001b[90mmissing\u001b[39m │ \u001b[90mmissing\u001b[39m │"
      ]
     },
     "execution_count": 8,
     "metadata": {},
     "output_type": "execute_result"
    }
   ],
   "source": [
    "names_variables = [\"features\", \"2011\", \"2012\", \"2013\", \"2014\", \"2015\", \"2016\", \"2017\"]\n",
    "\n",
    "active_claims_csv = CSV.File(\"active_claimsCSV.csv\", skipto=5, header = names_variables) |> DataFrame"
   ]
  },
  {
   "cell_type": "code",
   "execution_count": 9,
   "metadata": {},
   "outputs": [
    {
     "data": {
      "text/html": [
       "<table class=\"data-frame\"><thead><tr><th></th><th>features</th><th>2011</th><th>2012</th><th>2013</th><th>2014</th><th>2015</th><th>2016</th><th>2017</th></tr><tr><th></th><th>String?</th><th>String?</th><th>String?</th><th>String?</th><th>String?</th><th>String?</th><th>String?</th><th>String?</th></tr></thead><tbody><p>2 rows × 8 columns</p><tr><th>1</th><td>Female</td><td>23,010</td><td>22,744</td><td>23,365</td><td>22,483</td><td>23,157</td><td>24,402</td><td>24,957</td></tr><tr><th>2</th><td>Male</td><td>25,948</td><td>25,172</td><td>25,834</td><td>25,058</td><td>25,433</td><td>26,621</td><td>27,247</td></tr></tbody></table>"
      ],
      "text/latex": [
       "\\begin{tabular}{r|cccccccc}\n",
       "\t& features & 2011 & 2012 & 2013 & 2014 & 2015 & 2016 & 2017\\\\\n",
       "\t\\hline\n",
       "\t& String? & String? & String? & String? & String? & String? & String? & String?\\\\\n",
       "\t\\hline\n",
       "\t1 & Female & 23,010 & 22,744 & 23,365 & 22,483 & 23,157 & 24,402 & 24,957 \\\\\n",
       "\t2 & Male & 25,948 & 25,172 & 25,834 & 25,058 & 25,433 & 26,621 & 27,247 \\\\\n",
       "\\end{tabular}\n"
      ],
      "text/plain": [
       "2×8 DataFrame. Omitted printing of 1 columns\n",
       "│ Row │ features │ 2011    │ 2012    │ 2013    │ 2014    │ 2015    │ 2016    │\n",
       "│     │ \u001b[90mString?\u001b[39m  │ \u001b[90mString?\u001b[39m │ \u001b[90mString?\u001b[39m │ \u001b[90mString?\u001b[39m │ \u001b[90mString?\u001b[39m │ \u001b[90mString?\u001b[39m │ \u001b[90mString?\u001b[39m │\n",
       "├─────┼──────────┼─────────┼─────────┼─────────┼─────────┼─────────┼─────────┤\n",
       "│ 1   │ Female   │ 23,010  │ 22,744  │ 23,365  │ 22,483  │ 23,157  │ 24,402  │\n",
       "│ 2   │ Male     │ 25,948  │ 25,172  │ 25,834  │ 25,058  │ 25,433  │ 26,621  │"
      ]
     },
     "execution_count": 9,
     "metadata": {},
     "output_type": "execute_result"
    }
   ],
   "source": [
    "#make wide tibble of gender by years \n",
    "gender_df = active_claims_csv[2:3, :]"
   ]
  },
  {
   "cell_type": "code",
   "execution_count": 10,
   "metadata": {},
   "outputs": [
    {
     "data": {
      "text/html": [
       "<table class=\"data-frame\"><thead><tr><th></th><th>features</th><th>2011</th><th>2012</th><th>2013</th><th>2014</th><th>2015</th><th>2016</th><th>2017</th></tr><tr><th></th><th>String?</th><th>String?</th><th>String?</th><th>String?</th><th>String?</th><th>String?</th><th>String?</th><th>String?</th></tr></thead><tbody><p>8 rows × 8 columns</p><tr><th>1</th><td>00 to 19 Years of age</td><td>9,303</td><td>8,485</td><td>8,574</td><td>7,916</td><td>7,755</td><td>8,165</td><td>8,291</td></tr><tr><th>2</th><td>20 to 29 Years of age</td><td>11,318</td><td>11,126</td><td>11,438</td><td>11,103</td><td>11,362</td><td>12,029</td><td>12,311</td></tr><tr><th>3</th><td>30 to 39 Years of age</td><td>8,029</td><td>7,800</td><td>7,936</td><td>7,733</td><td>7,842</td><td>8,383</td><td>8,627</td></tr><tr><th>4</th><td>40 to 49 Years of age</td><td>8,415</td><td>8,255</td><td>8,345</td><td>8,032</td><td>8,257</td><td>8,428</td><td>8,408</td></tr><tr><th>5</th><td>50 to 59 Years of age</td><td>6,030</td><td>6,194</td><td>6,506</td><td>6,614</td><td>6,895</td><td>7,127</td><td>7,262</td></tr><tr><th>6</th><td>60 to 69 Years of age</td><td>3,264</td><td>3,379</td><td>3,572</td><td>3,566</td><td>3,776</td><td>3,952</td><td>4,244</td></tr><tr><th>7</th><td>70 to 79 Years of age</td><td>1,653</td><td>1,745</td><td>1,823</td><td>1,662</td><td>1,798</td><td>1,967</td><td>2,096</td></tr><tr><th>8</th><td>80 Years and older</td><td>946</td><td>932</td><td>1,005</td><td>915</td><td>905</td><td>972</td><td>965</td></tr></tbody></table>"
      ],
      "text/latex": [
       "\\begin{tabular}{r|cccccccc}\n",
       "\t& features & 2011 & 2012 & 2013 & 2014 & 2015 & 2016 & 2017\\\\\n",
       "\t\\hline\n",
       "\t& String? & String? & String? & String? & String? & String? & String? & String?\\\\\n",
       "\t\\hline\n",
       "\t1 & 00 to 19 Years of age & 9,303 & 8,485 & 8,574 & 7,916 & 7,755 & 8,165 & 8,291 \\\\\n",
       "\t2 & 20 to 29 Years of age & 11,318 & 11,126 & 11,438 & 11,103 & 11,362 & 12,029 & 12,311 \\\\\n",
       "\t3 & 30 to 39 Years of age & 8,029 & 7,800 & 7,936 & 7,733 & 7,842 & 8,383 & 8,627 \\\\\n",
       "\t4 & 40 to 49 Years of age & 8,415 & 8,255 & 8,345 & 8,032 & 8,257 & 8,428 & 8,408 \\\\\n",
       "\t5 & 50 to 59 Years of age & 6,030 & 6,194 & 6,506 & 6,614 & 6,895 & 7,127 & 7,262 \\\\\n",
       "\t6 & 60 to 69 Years of age & 3,264 & 3,379 & 3,572 & 3,566 & 3,776 & 3,952 & 4,244 \\\\\n",
       "\t7 & 70 to 79 Years of age & 1,653 & 1,745 & 1,823 & 1,662 & 1,798 & 1,967 & 2,096 \\\\\n",
       "\t8 & 80 Years and older & 946 & 932 & 1,005 & 915 & 905 & 972 & 965 \\\\\n",
       "\\end{tabular}\n"
      ],
      "text/plain": [
       "8×8 DataFrame. Omitted printing of 3 columns\n",
       "│ Row │ features              │ 2011    │ 2012    │ 2013    │ 2014    │\n",
       "│     │ \u001b[90mString?\u001b[39m               │ \u001b[90mString?\u001b[39m │ \u001b[90mString?\u001b[39m │ \u001b[90mString?\u001b[39m │ \u001b[90mString?\u001b[39m │\n",
       "├─────┼───────────────────────┼─────────┼─────────┼─────────┼─────────┤\n",
       "│ 1   │ 00 to 19 Years of age │ 9,303   │ 8,485   │ 8,574   │ 7,916   │\n",
       "│ 2   │ 20 to 29 Years of age │ 11,318  │ 11,126  │ 11,438  │ 11,103  │\n",
       "│ 3   │ 30 to 39 Years of age │ 8,029   │ 7,800   │ 7,936   │ 7,733   │\n",
       "│ 4   │ 40 to 49 Years of age │ 8,415   │ 8,255   │ 8,345   │ 8,032   │\n",
       "│ 5   │ 50 to 59 Years of age │ 6,030   │ 6,194   │ 6,506   │ 6,614   │\n",
       "│ 6   │ 60 to 69 Years of age │ 3,264   │ 3,379   │ 3,572   │ 3,566   │\n",
       "│ 7   │ 70 to 79 Years of age │ 1,653   │ 1,745   │ 1,823   │ 1,662   │\n",
       "│ 8   │ 80 Years and older    │ 946     │ 932     │ 1,005   │ 915     │"
      ]
     },
     "execution_count": 10,
     "metadata": {},
     "output_type": "execute_result"
    }
   ],
   "source": [
    "#make wide tibble of age ranges by years \n",
    "age_df = active_claims_csv[5:12, :]"
   ]
  },
  {
   "cell_type": "code",
   "execution_count": 11,
   "metadata": {},
   "outputs": [
    {
     "ename": "LoadError",
     "evalue": "syntax: \"gender_df[1:8, :features]\" is not a valid function argument name around In[11]:1",
     "output_type": "error",
     "traceback": [
      "syntax: \"gender_df[1:8, :features]\" is not a valid function argument name around In[11]:1",
      "",
      "Stacktrace:",
      " [1] top-level scope at In[11]:1",
      " [2] include_string(::Function, ::Module, ::String, ::String) at ./loading.jl:1091",
      " [3] execute_code(::String, ::String) at /Users/oscar/.julia/packages/IJulia/rWZ9e/src/execute_request.jl:27",
      " [4] execute_request(::ZMQ.Socket, ::IJulia.Msg) at /Users/oscar/.julia/packages/IJulia/rWZ9e/src/execute_request.jl:86",
      " [5] #invokelatest#1 at ./essentials.jl:710 [inlined]",
      " [6] invokelatest at ./essentials.jl:709 [inlined]",
      " [7] eventloop(::ZMQ.Socket) at /Users/oscar/.julia/packages/IJulia/rWZ9e/src/eventloop.jl:8",
      " [8] (::IJulia.var\"#15#18\")() at ./task.jl:356"
     ]
    }
   ],
   "source": [
    "gender_df[1:8, :features] |> ages = \"00-19\"\n"
   ]
  },
  {
   "cell_type": "code",
   "execution_count": 12,
   "metadata": {},
   "outputs": [
    {
     "data": {
      "text/html": [
       "<table class=\"data-frame\"><thead><tr><th></th><th>features</th><th>2011</th><th>2012</th><th>2013</th><th>2014</th><th>2015</th><th>2016</th></tr><tr><th></th><th>String?</th><th>String?</th><th>String?</th><th>String?</th><th>String?</th><th>String?</th><th>String?</th></tr></thead><tbody><p>5 rows × 8 columns (omitted printing of 1 columns)</p><tr><th>1</th><td>Asian</td><td>3,281</td><td>3,376</td><td>3,533</td><td>3,570</td><td>3,956</td><td>4,247</td></tr><tr><th>2</th><td>European</td><td>33,137</td><td>32,324</td><td>33,100</td><td>31,964</td><td>32,460</td><td>33,858</td></tr><tr><th>3</th><td>Maori</td><td>6,887</td><td>6,695</td><td>6,859</td><td>6,615</td><td>6,858</td><td>7,343</td></tr><tr><th>4</th><td>Other Ethnicities /Not stated</td><td>3,707</td><td>3,599</td><td>3,632</td><td>3,406</td><td>3,216</td><td>3,291</td></tr><tr><th>5</th><td>Pacific Peoples</td><td>1,946</td><td>1,922</td><td>2,075</td><td>1,986</td><td>2,100</td><td>2,284</td></tr></tbody></table>"
      ],
      "text/latex": [
       "\\begin{tabular}{r|cccccccc}\n",
       "\t& features & 2011 & 2012 & 2013 & 2014 & 2015 & 2016 & \\\\\n",
       "\t\\hline\n",
       "\t& String? & String? & String? & String? & String? & String? & String? & \\\\\n",
       "\t\\hline\n",
       "\t1 & Asian & 3,281 & 3,376 & 3,533 & 3,570 & 3,956 & 4,247 & $\\dots$ \\\\\n",
       "\t2 & European & 33,137 & 32,324 & 33,100 & 31,964 & 32,460 & 33,858 & $\\dots$ \\\\\n",
       "\t3 & Maori & 6,887 & 6,695 & 6,859 & 6,615 & 6,858 & 7,343 & $\\dots$ \\\\\n",
       "\t4 & Other Ethnicities /Not stated & 3,707 & 3,599 & 3,632 & 3,406 & 3,216 & 3,291 & $\\dots$ \\\\\n",
       "\t5 & Pacific Peoples & 1,946 & 1,922 & 2,075 & 1,986 & 2,100 & 2,284 & $\\dots$ \\\\\n",
       "\\end{tabular}\n"
      ],
      "text/plain": [
       "5×8 DataFrame. Omitted printing of 3 columns\n",
       "│ Row │ features                      │ 2011    │ 2012    │ 2013    │ 2014    │\n",
       "│     │ \u001b[90mUnion{Missing, String}\u001b[39m        │ \u001b[90mString?\u001b[39m │ \u001b[90mString?\u001b[39m │ \u001b[90mString?\u001b[39m │ \u001b[90mString?\u001b[39m │\n",
       "├─────┼───────────────────────────────┼─────────┼─────────┼─────────┼─────────┤\n",
       "│ 1   │ Asian                         │ 3,281   │ 3,376   │ 3,533   │ 3,570   │\n",
       "│ 2   │ European                      │ 33,137  │ 32,324  │ 33,100  │ 31,964  │\n",
       "│ 3   │ Maori                         │ 6,887   │ 6,695   │ 6,859   │ 6,615   │\n",
       "│ 4   │ Other Ethnicities /Not stated │ 3,707   │ 3,599   │ 3,632   │ 3,406   │\n",
       "│ 5   │ Pacific Peoples               │ 1,946   │ 1,922   │ 2,075   │ 1,986   │"
      ]
     },
     "execution_count": 12,
     "metadata": {},
     "output_type": "execute_result"
    }
   ],
   "source": [
    "#make wide tibble of ethnicity by years \n",
    "ethnicity_df = active_claims_csv[14:18, :]"
   ]
  },
  {
   "cell_type": "code",
   "execution_count": 13,
   "metadata": {},
   "outputs": [
    {
     "data": {
      "text/html": [
       "<table class=\"data-frame\"><thead><tr><th></th><th>features</th><th>2011</th><th>2012</th><th>2013</th><th>2014</th><th>2015</th><th>2016</th><th>2017</th></tr><tr><th></th><th>String?</th><th>String?</th><th>String?</th><th>String?</th><th>String?</th><th>String?</th><th>String?</th><th>String?</th></tr></thead><tbody><p>12 rows × 8 columns</p><tr><th>1</th><td>January </td><td>12,004</td><td>11,750</td><td>12,035</td><td>11,497</td><td>11,872</td><td>12,817</td><td>13,149</td></tr><tr><th>2</th><td>February</td><td>12,521</td><td>11,957</td><td>12,276</td><td>12,112</td><td>12,894</td><td>13,375</td><td>13,865</td></tr><tr><th>3</th><td>March</td><td>13,474</td><td>12,645</td><td>12,724</td><td>13,322</td><td>13,924</td><td>14,905</td><td>15,011</td></tr><tr><th>4</th><td>April</td><td>12,078</td><td>13,393</td><td>12,929</td><td>12,898</td><td>13,562</td><td>13,801</td><td>14,844</td></tr><tr><th>5</th><td>May</td><td>13,810</td><td>13,387</td><td>13,694</td><td>13,063</td><td>13,965</td><td>14,734</td><td>15,808</td></tr><tr><th>6</th><td>June</td><td>13,128</td><td>12,792</td><td>13,132</td><td>13,278</td><td>14,426</td><td>14,533</td><td>15,236</td></tr><tr><th>7</th><td>July</td><td>13,372</td><td>13,183</td><td>13,566</td><td>13,777</td><td>13,479</td><td>14,074</td><td>14,255</td></tr><tr><th>8</th><td>August</td><td>13,266</td><td>13,184</td><td>13,111</td><td>12,962</td><td>12,978</td><td>14,270</td><td>14,914</td></tr><tr><th>9</th><td>September</td><td>13,495</td><td>12,484</td><td>12,761</td><td>13,211</td><td>13,460</td><td>13,966</td><td>14,409</td></tr><tr><th>10</th><td>October</td><td>12,720</td><td>12,562</td><td>13,006</td><td>13,358</td><td>13,259</td><td>13,684</td><td>14,464</td></tr><tr><th>11</th><td>November</td><td>13,523</td><td>12,949</td><td>13,043</td><td>12,717</td><td>13,029</td><td>14,139</td><td>14,624</td></tr><tr><th>12</th><td>December</td><td>12,970</td><td>12,484</td><td>13,142</td><td>13,440</td><td>14,033</td><td>14,428</td><td>14,789</td></tr></tbody></table>"
      ],
      "text/latex": [
       "\\begin{tabular}{r|cccccccc}\n",
       "\t& features & 2011 & 2012 & 2013 & 2014 & 2015 & 2016 & 2017\\\\\n",
       "\t\\hline\n",
       "\t& String? & String? & String? & String? & String? & String? & String? & String?\\\\\n",
       "\t\\hline\n",
       "\t1 & January  & 12,004 & 11,750 & 12,035 & 11,497 & 11,872 & 12,817 & 13,149 \\\\\n",
       "\t2 & February & 12,521 & 11,957 & 12,276 & 12,112 & 12,894 & 13,375 & 13,865 \\\\\n",
       "\t3 & March & 13,474 & 12,645 & 12,724 & 13,322 & 13,924 & 14,905 & 15,011 \\\\\n",
       "\t4 & April & 12,078 & 13,393 & 12,929 & 12,898 & 13,562 & 13,801 & 14,844 \\\\\n",
       "\t5 & May & 13,810 & 13,387 & 13,694 & 13,063 & 13,965 & 14,734 & 15,808 \\\\\n",
       "\t6 & June & 13,128 & 12,792 & 13,132 & 13,278 & 14,426 & 14,533 & 15,236 \\\\\n",
       "\t7 & July & 13,372 & 13,183 & 13,566 & 13,777 & 13,479 & 14,074 & 14,255 \\\\\n",
       "\t8 & August & 13,266 & 13,184 & 13,111 & 12,962 & 12,978 & 14,270 & 14,914 \\\\\n",
       "\t9 & September & 13,495 & 12,484 & 12,761 & 13,211 & 13,460 & 13,966 & 14,409 \\\\\n",
       "\t10 & October & 12,720 & 12,562 & 13,006 & 13,358 & 13,259 & 13,684 & 14,464 \\\\\n",
       "\t11 & November & 13,523 & 12,949 & 13,043 & 12,717 & 13,029 & 14,139 & 14,624 \\\\\n",
       "\t12 & December & 12,970 & 12,484 & 13,142 & 13,440 & 14,033 & 14,428 & 14,789 \\\\\n",
       "\\end{tabular}\n"
      ],
      "text/plain": [
       "12×8 DataFrame. Omitted printing of 1 columns\n",
       "│ Row │ features  │ 2011    │ 2012    │ 2013    │ 2014    │ 2015    │ 2016    │\n",
       "│     │ \u001b[90mString?\u001b[39m   │ \u001b[90mString?\u001b[39m │ \u001b[90mString?\u001b[39m │ \u001b[90mString?\u001b[39m │ \u001b[90mString?\u001b[39m │ \u001b[90mString?\u001b[39m │ \u001b[90mString?\u001b[39m │\n",
       "├─────┼───────────┼─────────┼─────────┼─────────┼─────────┼─────────┼─────────┤\n",
       "│ 1   │ January   │ 12,004  │ 11,750  │ 12,035  │ 11,497  │ 11,872  │ 12,817  │\n",
       "│ 2   │ February  │ 12,521  │ 11,957  │ 12,276  │ 12,112  │ 12,894  │ 13,375  │\n",
       "│ 3   │ March     │ 13,474  │ 12,645  │ 12,724  │ 13,322  │ 13,924  │ 14,905  │\n",
       "│ 4   │ April     │ 12,078  │ 13,393  │ 12,929  │ 12,898  │ 13,562  │ 13,801  │\n",
       "│ 5   │ May       │ 13,810  │ 13,387  │ 13,694  │ 13,063  │ 13,965  │ 14,734  │\n",
       "│ 6   │ June      │ 13,128  │ 12,792  │ 13,132  │ 13,278  │ 14,426  │ 14,533  │\n",
       "│ 7   │ July      │ 13,372  │ 13,183  │ 13,566  │ 13,777  │ 13,479  │ 14,074  │\n",
       "│ 8   │ August    │ 13,266  │ 13,184  │ 13,111  │ 12,962  │ 12,978  │ 14,270  │\n",
       "│ 9   │ September │ 13,495  │ 12,484  │ 12,761  │ 13,211  │ 13,460  │ 13,966  │\n",
       "│ 10  │ October   │ 12,720  │ 12,562  │ 13,006  │ 13,358  │ 13,259  │ 13,684  │\n",
       "│ 11  │ November  │ 13,523  │ 12,949  │ 13,043  │ 12,717  │ 13,029  │ 14,139  │\n",
       "│ 12  │ December  │ 12,970  │ 12,484  │ 13,142  │ 13,440  │ 14,033  │ 14,428  │"
      ]
     },
     "execution_count": 13,
     "metadata": {},
     "output_type": "execute_result"
    }
   ],
   "source": [
    "#make wide tibble of months by years \n",
    "months_df = active_claims_csv[20:31, :]"
   ]
  },
  {
   "cell_type": "code",
   "execution_count": 14,
   "metadata": {},
   "outputs": [
    {
     "data": {
      "text/html": [
       "<table class=\"data-frame\"><thead><tr><th></th><th>features</th><th>2011</th><th>2012</th><th>2013</th><th>2014</th><th>2015</th><th>2016</th></tr><tr><th></th><th>String?</th><th>String?</th><th>String?</th><th>String?</th><th>String?</th><th>String?</th><th>String?</th></tr></thead><tbody><p>10 rows × 8 columns (omitted printing of 1 columns)</p><tr><th>1</th><td>ATV</td><td>20</td><td>24</td><td>42</td><td>47</td><td>49</td><td>61</td></tr><tr><th>2</th><td>Cycling</td><td>2,470</td><td>2,501</td><td>2,508</td><td>2,318</td><td>2,283</td><td>2,186</td></tr><tr><th>3</th><td>Driving/Passenger - Bus</td><td>730</td><td>741</td><td>674</td><td>668</td><td>742</td><td>886</td></tr><tr><th>4</th><td>Driving/Passenger - Car</td><td>32,777</td><td>32,004</td><td>32,970</td><td>31,661</td><td>32,615</td><td>33,705</td></tr><tr><th>5</th><td>Driving/Passenger - Motorcycle</td><td>7,113</td><td>6,933</td><td>7,099</td><td>7,247</td><td>7,168</td><td>7,410</td></tr><tr><th>6</th><td>Driving/Passenger - Truck</td><td>1,044</td><td>990</td><td>1,056</td><td>991</td><td>1,070</td><td>1,153</td></tr><tr><th>7</th><td>Driving/Passenger-Other Veh</td><td>868</td><td>989</td><td>1,106</td><td>1,062</td><td>1,191</td><td>1,908</td></tr><tr><th>8</th><td>Not Obtainable</td><td>399</td><td>388</td><td>420</td><td>377</td><td>358</td><td>396</td></tr><tr><th>9</th><td>Other</td><td>196</td><td>231</td><td>273</td><td>255</td><td>240</td><td>334</td></tr><tr><th>10</th><td>Pedestrian</td><td>3,341</td><td>3,115</td><td>3,051</td><td>2,915</td><td>2,874</td><td>2,984</td></tr></tbody></table>"
      ],
      "text/latex": [
       "\\begin{tabular}{r|cccccccc}\n",
       "\t& features & 2011 & 2012 & 2013 & 2014 & 2015 & 2016 & \\\\\n",
       "\t\\hline\n",
       "\t& String? & String? & String? & String? & String? & String? & String? & \\\\\n",
       "\t\\hline\n",
       "\t1 & ATV & 20 & 24 & 42 & 47 & 49 & 61 & $\\dots$ \\\\\n",
       "\t2 & Cycling & 2,470 & 2,501 & 2,508 & 2,318 & 2,283 & 2,186 & $\\dots$ \\\\\n",
       "\t3 & Driving/Passenger - Bus & 730 & 741 & 674 & 668 & 742 & 886 & $\\dots$ \\\\\n",
       "\t4 & Driving/Passenger - Car & 32,777 & 32,004 & 32,970 & 31,661 & 32,615 & 33,705 & $\\dots$ \\\\\n",
       "\t5 & Driving/Passenger - Motorcycle & 7,113 & 6,933 & 7,099 & 7,247 & 7,168 & 7,410 & $\\dots$ \\\\\n",
       "\t6 & Driving/Passenger - Truck & 1,044 & 990 & 1,056 & 991 & 1,070 & 1,153 & $\\dots$ \\\\\n",
       "\t7 & Driving/Passenger-Other Veh & 868 & 989 & 1,106 & 1,062 & 1,191 & 1,908 & $\\dots$ \\\\\n",
       "\t8 & Not Obtainable & 399 & 388 & 420 & 377 & 358 & 396 & $\\dots$ \\\\\n",
       "\t9 & Other & 196 & 231 & 273 & 255 & 240 & 334 & $\\dots$ \\\\\n",
       "\t10 & Pedestrian & 3,341 & 3,115 & 3,051 & 2,915 & 2,874 & 2,984 & $\\dots$ \\\\\n",
       "\\end{tabular}\n"
      ],
      "text/plain": [
       "10×8 DataFrame. Omitted printing of 3 columns\n",
       "│ Row │ features                       │ 2011    │ 2012    │ 2013    │ 2014    │\n",
       "│     │ \u001b[90mUnion{Missing, String}\u001b[39m         │ \u001b[90mString?\u001b[39m │ \u001b[90mString?\u001b[39m │ \u001b[90mString?\u001b[39m │ \u001b[90mString?\u001b[39m │\n",
       "├─────┼────────────────────────────────┼─────────┼─────────┼─────────┼─────────┤\n",
       "│ 1   │ ATV                            │ 20      │ 24      │ 42      │ 47      │\n",
       "│ 2   │ Cycling                        │ 2,470   │ 2,501   │ 2,508   │ 2,318   │\n",
       "│ 3   │ Driving/Passenger - Bus        │ 730     │ 741     │ 674     │ 668     │\n",
       "│ 4   │ Driving/Passenger - Car        │ 32,777  │ 32,004  │ 32,970  │ 31,661  │\n",
       "│ 5   │ Driving/Passenger - Motorcycle │ 7,113   │ 6,933   │ 7,099   │ 7,247   │\n",
       "│ 6   │ Driving/Passenger - Truck      │ 1,044   │ 990     │ 1,056   │ 991     │\n",
       "│ 7   │ Driving/Passenger-Other Veh    │ 868     │ 989     │ 1,106   │ 1,062   │\n",
       "│ 8   │ Not Obtainable                 │ 399     │ 388     │ 420     │ 377     │\n",
       "│ 9   │ Other                          │ 196     │ 231     │ 273     │ 255     │\n",
       "│ 10  │ Pedestrian                     │ 3,341   │ 3,115   │ 3,051   │ 2,915   │"
      ]
     },
     "execution_count": 14,
     "metadata": {},
     "output_type": "execute_result"
    }
   ],
   "source": [
    "#make wide tibble of road factor by years \n",
    "road_factor_df = active_claims_csv[33:42, :]"
   ]
  },
  {
   "cell_type": "code",
   "execution_count": 15,
   "metadata": {},
   "outputs": [
    {
     "data": {
      "text/html": [
       "<table class=\"data-frame\"><thead><tr><th></th><th>features</th><th>2011</th><th>2012</th><th>2013</th><th>2014</th><th>2015</th><th>2016</th><th>2017</th></tr><tr><th></th><th>String?</th><th>String?</th><th>String?</th><th>String?</th><th>String?</th><th>String?</th><th>String?</th><th>String?</th></tr></thead><tbody><p>18 rows × 8 columns</p><tr><th>1</th><td>Northland</td><td>2,168</td><td>2,296</td><td>2,301</td><td>2,228</td><td>2,293</td><td>2,504</td><td>2,636</td></tr><tr><th>2</th><td>Auckland</td><td>13,615</td><td>13,612</td><td>14,141</td><td>13,694</td><td>14,678</td><td>15,674</td><td>15,955</td></tr><tr><th>3</th><td>Waikato</td><td>4,954</td><td>5,021</td><td>5,149</td><td>5,024</td><td>5,093</td><td>5,336</td><td>5,695</td></tr><tr><th>4</th><td>Bay of Plenty</td><td>2,769</td><td>2,775</td><td>2,788</td><td>2,613</td><td>2,810</td><td>3,019</td><td>3,053</td></tr><tr><th>5</th><td>Gisborne</td><td>472</td><td>482</td><td>490</td><td>482</td><td>442</td><td>526</td><td>521</td></tr><tr><th>6</th><td>Hawkes Bay</td><td>1,846</td><td>1,754</td><td>1,810</td><td>1,641</td><td>1,623</td><td>1,785</td><td>1,763</td></tr><tr><th>7</th><td>Taranaki</td><td>1,115</td><td>1,090</td><td>1,104</td><td>1,041</td><td>1,041</td><td>1,078</td><td>1,149</td></tr><tr><th>8</th><td>Manawatu-Wanganui</td><td>2,780</td><td>2,568</td><td>2,647</td><td>2,549</td><td>2,503</td><td>2,604</td><td>2,593</td></tr><tr><th>9</th><td>Wellington</td><td>3,706</td><td>3,462</td><td>3,465</td><td>3,287</td><td>3,213</td><td>3,488</td><td>3,640</td></tr><tr><th>10</th><td>Tasman</td><td>359</td><td>363</td><td>372</td><td>324</td><td>329</td><td>416</td><td>375</td></tr><tr><th>11</th><td>Nelson</td><td>547</td><td>538</td><td>574</td><td>543</td><td>595</td><td>636</td><td>605</td></tr><tr><th>12</th><td>Marlborough</td><td>420</td><td>390</td><td>419</td><td>387</td><td>396</td><td>452</td><td>458</td></tr><tr><th>13</th><td>Canterbury</td><td>6,613</td><td>6,341</td><td>6,601</td><td>6,430</td><td>6,242</td><td>6,111</td><td>6,191</td></tr><tr><th>14</th><td>West Coast</td><td>476</td><td>459</td><td>477</td><td>448</td><td>460</td><td>435</td><td>462</td></tr><tr><th>15</th><td>Otago</td><td>2,128</td><td>2,005</td><td>2,074</td><td>2,064</td><td>2,171</td><td>2,214</td><td>2,404</td></tr><tr><th>16</th><td>Southland</td><td>945</td><td>931</td><td>901</td><td>859</td><td>891</td><td>882</td><td>1,036</td></tr><tr><th>17</th><td>Other</td><td>417</td><td>416</td><td>456</td><td>518</td><td>547</td><td>652</td><td>618</td></tr><tr><th>18</th><td>Unknown</td><td>3,628</td><td>3,413</td><td>3,430</td><td>3,409</td><td>3,263</td><td>3,211</td><td>3,050</td></tr></tbody></table>"
      ],
      "text/latex": [
       "\\begin{tabular}{r|cccccccc}\n",
       "\t& features & 2011 & 2012 & 2013 & 2014 & 2015 & 2016 & 2017\\\\\n",
       "\t\\hline\n",
       "\t& String? & String? & String? & String? & String? & String? & String? & String?\\\\\n",
       "\t\\hline\n",
       "\t1 & Northland & 2,168 & 2,296 & 2,301 & 2,228 & 2,293 & 2,504 & 2,636 \\\\\n",
       "\t2 & Auckland & 13,615 & 13,612 & 14,141 & 13,694 & 14,678 & 15,674 & 15,955 \\\\\n",
       "\t3 & Waikato & 4,954 & 5,021 & 5,149 & 5,024 & 5,093 & 5,336 & 5,695 \\\\\n",
       "\t4 & Bay of Plenty & 2,769 & 2,775 & 2,788 & 2,613 & 2,810 & 3,019 & 3,053 \\\\\n",
       "\t5 & Gisborne & 472 & 482 & 490 & 482 & 442 & 526 & 521 \\\\\n",
       "\t6 & Hawkes Bay & 1,846 & 1,754 & 1,810 & 1,641 & 1,623 & 1,785 & 1,763 \\\\\n",
       "\t7 & Taranaki & 1,115 & 1,090 & 1,104 & 1,041 & 1,041 & 1,078 & 1,149 \\\\\n",
       "\t8 & Manawatu-Wanganui & 2,780 & 2,568 & 2,647 & 2,549 & 2,503 & 2,604 & 2,593 \\\\\n",
       "\t9 & Wellington & 3,706 & 3,462 & 3,465 & 3,287 & 3,213 & 3,488 & 3,640 \\\\\n",
       "\t10 & Tasman & 359 & 363 & 372 & 324 & 329 & 416 & 375 \\\\\n",
       "\t11 & Nelson & 547 & 538 & 574 & 543 & 595 & 636 & 605 \\\\\n",
       "\t12 & Marlborough & 420 & 390 & 419 & 387 & 396 & 452 & 458 \\\\\n",
       "\t13 & Canterbury & 6,613 & 6,341 & 6,601 & 6,430 & 6,242 & 6,111 & 6,191 \\\\\n",
       "\t14 & West Coast & 476 & 459 & 477 & 448 & 460 & 435 & 462 \\\\\n",
       "\t15 & Otago & 2,128 & 2,005 & 2,074 & 2,064 & 2,171 & 2,214 & 2,404 \\\\\n",
       "\t16 & Southland & 945 & 931 & 901 & 859 & 891 & 882 & 1,036 \\\\\n",
       "\t17 & Other & 417 & 416 & 456 & 518 & 547 & 652 & 618 \\\\\n",
       "\t18 & Unknown & 3,628 & 3,413 & 3,430 & 3,409 & 3,263 & 3,211 & 3,050 \\\\\n",
       "\\end{tabular}\n"
      ],
      "text/plain": [
       "18×8 DataFrame. Omitted printing of 2 columns\n",
       "│ Row │ features          │ 2011    │ 2012    │ 2013    │ 2014    │ 2015    │\n",
       "│     │ \u001b[90mString?\u001b[39m           │ \u001b[90mString?\u001b[39m │ \u001b[90mString?\u001b[39m │ \u001b[90mString?\u001b[39m │ \u001b[90mString?\u001b[39m │ \u001b[90mString?\u001b[39m │\n",
       "├─────┼───────────────────┼─────────┼─────────┼─────────┼─────────┼─────────┤\n",
       "│ 1   │ Northland         │ 2,168   │ 2,296   │ 2,301   │ 2,228   │ 2,293   │\n",
       "│ 2   │ Auckland          │ 13,615  │ 13,612  │ 14,141  │ 13,694  │ 14,678  │\n",
       "│ 3   │ Waikato           │ 4,954   │ 5,021   │ 5,149   │ 5,024   │ 5,093   │\n",
       "│ 4   │ Bay of Plenty     │ 2,769   │ 2,775   │ 2,788   │ 2,613   │ 2,810   │\n",
       "│ 5   │ Gisborne          │ 472     │ 482     │ 490     │ 482     │ 442     │\n",
       "│ 6   │ Hawkes Bay        │ 1,846   │ 1,754   │ 1,810   │ 1,641   │ 1,623   │\n",
       "│ 7   │ Taranaki          │ 1,115   │ 1,090   │ 1,104   │ 1,041   │ 1,041   │\n",
       "│ 8   │ Manawatu-Wanganui │ 2,780   │ 2,568   │ 2,647   │ 2,549   │ 2,503   │\n",
       "│ 9   │ Wellington        │ 3,706   │ 3,462   │ 3,465   │ 3,287   │ 3,213   │\n",
       "│ 10  │ Tasman            │ 359     │ 363     │ 372     │ 324     │ 329     │\n",
       "│ 11  │ Nelson            │ 547     │ 538     │ 574     │ 543     │ 595     │\n",
       "│ 12  │ Marlborough       │ 420     │ 390     │ 419     │ 387     │ 396     │\n",
       "│ 13  │ Canterbury        │ 6,613   │ 6,341   │ 6,601   │ 6,430   │ 6,242   │\n",
       "│ 14  │ West Coast        │ 476     │ 459     │ 477     │ 448     │ 460     │\n",
       "│ 15  │ Otago             │ 2,128   │ 2,005   │ 2,074   │ 2,064   │ 2,171   │\n",
       "│ 16  │ Southland         │ 945     │ 931     │ 901     │ 859     │ 891     │\n",
       "│ 17  │ Other             │ 417     │ 416     │ 456     │ 518     │ 547     │\n",
       "│ 18  │ Unknown           │ 3,628   │ 3,413   │ 3,430   │ 3,409   │ 3,263   │"
      ]
     },
     "execution_count": 15,
     "metadata": {},
     "output_type": "execute_result"
    }
   ],
   "source": [
    "#make wide tibble of region by years \n",
    "region_df = active_claims_csv[44:61, :]"
   ]
  },
  {
   "cell_type": "code",
   "execution_count": 16,
   "metadata": {},
   "outputs": [
    {
     "data": {
      "text/html": [
       "<table class=\"data-frame\"><thead><tr><th></th><th>features</th><th>years</th><th>active_claims</th></tr><tr><th></th><th>String?</th><th>Cat…</th><th>String?</th></tr></thead><tbody><p>56 rows × 3 columns</p><tr><th>1</th><td>00 to 19 Years of age</td><td>2011</td><td>9,303</td></tr><tr><th>2</th><td>20 to 29 Years of age</td><td>2011</td><td>11,318</td></tr><tr><th>3</th><td>30 to 39 Years of age</td><td>2011</td><td>8,029</td></tr><tr><th>4</th><td>40 to 49 Years of age</td><td>2011</td><td>8,415</td></tr><tr><th>5</th><td>50 to 59 Years of age</td><td>2011</td><td>6,030</td></tr><tr><th>6</th><td>60 to 69 Years of age</td><td>2011</td><td>3,264</td></tr><tr><th>7</th><td>70 to 79 Years of age</td><td>2011</td><td>1,653</td></tr><tr><th>8</th><td>80 Years and older</td><td>2011</td><td>946</td></tr><tr><th>9</th><td>00 to 19 Years of age</td><td>2012</td><td>8,485</td></tr><tr><th>10</th><td>20 to 29 Years of age</td><td>2012</td><td>11,126</td></tr><tr><th>11</th><td>30 to 39 Years of age</td><td>2012</td><td>7,800</td></tr><tr><th>12</th><td>40 to 49 Years of age</td><td>2012</td><td>8,255</td></tr><tr><th>13</th><td>50 to 59 Years of age</td><td>2012</td><td>6,194</td></tr><tr><th>14</th><td>60 to 69 Years of age</td><td>2012</td><td>3,379</td></tr><tr><th>15</th><td>70 to 79 Years of age</td><td>2012</td><td>1,745</td></tr><tr><th>16</th><td>80 Years and older</td><td>2012</td><td>932</td></tr><tr><th>17</th><td>00 to 19 Years of age</td><td>2013</td><td>8,574</td></tr><tr><th>18</th><td>20 to 29 Years of age</td><td>2013</td><td>11,438</td></tr><tr><th>19</th><td>30 to 39 Years of age</td><td>2013</td><td>7,936</td></tr><tr><th>20</th><td>40 to 49 Years of age</td><td>2013</td><td>8,345</td></tr><tr><th>21</th><td>50 to 59 Years of age</td><td>2013</td><td>6,506</td></tr><tr><th>22</th><td>60 to 69 Years of age</td><td>2013</td><td>3,572</td></tr><tr><th>23</th><td>70 to 79 Years of age</td><td>2013</td><td>1,823</td></tr><tr><th>24</th><td>80 Years and older</td><td>2013</td><td>1,005</td></tr><tr><th>25</th><td>00 to 19 Years of age</td><td>2014</td><td>7,916</td></tr><tr><th>26</th><td>20 to 29 Years of age</td><td>2014</td><td>11,103</td></tr><tr><th>27</th><td>30 to 39 Years of age</td><td>2014</td><td>7,733</td></tr><tr><th>28</th><td>40 to 49 Years of age</td><td>2014</td><td>8,032</td></tr><tr><th>29</th><td>50 to 59 Years of age</td><td>2014</td><td>6,614</td></tr><tr><th>30</th><td>60 to 69 Years of age</td><td>2014</td><td>3,566</td></tr><tr><th>&vellip;</th><td>&vellip;</td><td>&vellip;</td><td>&vellip;</td></tr></tbody></table>"
      ],
      "text/latex": [
       "\\begin{tabular}{r|ccc}\n",
       "\t& features & years & active\\_claims\\\\\n",
       "\t\\hline\n",
       "\t& String? & Cat… & String?\\\\\n",
       "\t\\hline\n",
       "\t1 & 00 to 19 Years of age & 2011 & 9,303 \\\\\n",
       "\t2 & 20 to 29 Years of age & 2011 & 11,318 \\\\\n",
       "\t3 & 30 to 39 Years of age & 2011 & 8,029 \\\\\n",
       "\t4 & 40 to 49 Years of age & 2011 & 8,415 \\\\\n",
       "\t5 & 50 to 59 Years of age & 2011 & 6,030 \\\\\n",
       "\t6 & 60 to 69 Years of age & 2011 & 3,264 \\\\\n",
       "\t7 & 70 to 79 Years of age & 2011 & 1,653 \\\\\n",
       "\t8 & 80 Years and older & 2011 & 946 \\\\\n",
       "\t9 & 00 to 19 Years of age & 2012 & 8,485 \\\\\n",
       "\t10 & 20 to 29 Years of age & 2012 & 11,126 \\\\\n",
       "\t11 & 30 to 39 Years of age & 2012 & 7,800 \\\\\n",
       "\t12 & 40 to 49 Years of age & 2012 & 8,255 \\\\\n",
       "\t13 & 50 to 59 Years of age & 2012 & 6,194 \\\\\n",
       "\t14 & 60 to 69 Years of age & 2012 & 3,379 \\\\\n",
       "\t15 & 70 to 79 Years of age & 2012 & 1,745 \\\\\n",
       "\t16 & 80 Years and older & 2012 & 932 \\\\\n",
       "\t17 & 00 to 19 Years of age & 2013 & 8,574 \\\\\n",
       "\t18 & 20 to 29 Years of age & 2013 & 11,438 \\\\\n",
       "\t19 & 30 to 39 Years of age & 2013 & 7,936 \\\\\n",
       "\t20 & 40 to 49 Years of age & 2013 & 8,345 \\\\\n",
       "\t21 & 50 to 59 Years of age & 2013 & 6,506 \\\\\n",
       "\t22 & 60 to 69 Years of age & 2013 & 3,572 \\\\\n",
       "\t23 & 70 to 79 Years of age & 2013 & 1,823 \\\\\n",
       "\t24 & 80 Years and older & 2013 & 1,005 \\\\\n",
       "\t25 & 00 to 19 Years of age & 2014 & 7,916 \\\\\n",
       "\t26 & 20 to 29 Years of age & 2014 & 11,103 \\\\\n",
       "\t27 & 30 to 39 Years of age & 2014 & 7,733 \\\\\n",
       "\t28 & 40 to 49 Years of age & 2014 & 8,032 \\\\\n",
       "\t29 & 50 to 59 Years of age & 2014 & 6,614 \\\\\n",
       "\t30 & 60 to 69 Years of age & 2014 & 3,566 \\\\\n",
       "\t$\\dots$ & $\\dots$ & $\\dots$ & $\\dots$ \\\\\n",
       "\\end{tabular}\n"
      ],
      "text/plain": [
       "56×3 DataFrame\n",
       "│ Row │ features              │ years │ active_claims │\n",
       "│     │ \u001b[90mString?\u001b[39m               │ \u001b[90mCat…\u001b[39m  │ \u001b[90mString?\u001b[39m       │\n",
       "├─────┼───────────────────────┼───────┼───────────────┤\n",
       "│ 1   │ 00 to 19 Years of age │ 2011  │ 9,303         │\n",
       "│ 2   │ 20 to 29 Years of age │ 2011  │ 11,318        │\n",
       "│ 3   │ 30 to 39 Years of age │ 2011  │ 8,029         │\n",
       "│ 4   │ 40 to 49 Years of age │ 2011  │ 8,415         │\n",
       "│ 5   │ 50 to 59 Years of age │ 2011  │ 6,030         │\n",
       "│ 6   │ 60 to 69 Years of age │ 2011  │ 3,264         │\n",
       "│ 7   │ 70 to 79 Years of age │ 2011  │ 1,653         │\n",
       "│ 8   │ 80 Years and older    │ 2011  │ 946           │\n",
       "│ 9   │ 00 to 19 Years of age │ 2012  │ 8,485         │\n",
       "│ 10  │ 20 to 29 Years of age │ 2012  │ 11,126        │\n",
       "⋮\n",
       "│ 46  │ 60 to 69 Years of age │ 2016  │ 3,952         │\n",
       "│ 47  │ 70 to 79 Years of age │ 2016  │ 1,967         │\n",
       "│ 48  │ 80 Years and older    │ 2016  │ 972           │\n",
       "│ 49  │ 00 to 19 Years of age │ 2017  │ 8,291         │\n",
       "│ 50  │ 20 to 29 Years of age │ 2017  │ 12,311        │\n",
       "│ 51  │ 30 to 39 Years of age │ 2017  │ 8,627         │\n",
       "│ 52  │ 40 to 49 Years of age │ 2017  │ 8,408         │\n",
       "│ 53  │ 50 to 59 Years of age │ 2017  │ 7,262         │\n",
       "│ 54  │ 60 to 69 Years of age │ 2017  │ 4,244         │\n",
       "│ 55  │ 70 to 79 Years of age │ 2017  │ 2,096         │\n",
       "│ 56  │ 80 Years and older    │ 2017  │ 965           │"
      ]
     },
     "execution_count": 16,
     "metadata": {},
     "output_type": "execute_result"
    }
   ],
   "source": [
    "# Convert wide age_df to long\n",
    "age_long_df = stack(age_df, 2:8, :features, variable_name= \"years\", value_name= \"active_claims\")"
   ]
  },
  {
   "cell_type": "code",
   "execution_count": 17,
   "metadata": {},
   "outputs": [
    {
     "data": {
      "text/html": [
       "<table class=\"data-frame\"><thead><tr><th></th><th>features</th><th>years</th><th>active_claims</th></tr><tr><th></th><th>String?</th><th>Cat…</th><th>String?</th></tr></thead><tbody><p>14 rows × 3 columns</p><tr><th>1</th><td>Female</td><td>2011</td><td>23,010</td></tr><tr><th>2</th><td>Male</td><td>2011</td><td>25,948</td></tr><tr><th>3</th><td>Female</td><td>2012</td><td>22,744</td></tr><tr><th>4</th><td>Male</td><td>2012</td><td>25,172</td></tr><tr><th>5</th><td>Female</td><td>2013</td><td>23,365</td></tr><tr><th>6</th><td>Male</td><td>2013</td><td>25,834</td></tr><tr><th>7</th><td>Female</td><td>2014</td><td>22,483</td></tr><tr><th>8</th><td>Male</td><td>2014</td><td>25,058</td></tr><tr><th>9</th><td>Female</td><td>2015</td><td>23,157</td></tr><tr><th>10</th><td>Male</td><td>2015</td><td>25,433</td></tr><tr><th>11</th><td>Female</td><td>2016</td><td>24,402</td></tr><tr><th>12</th><td>Male</td><td>2016</td><td>26,621</td></tr><tr><th>13</th><td>Female</td><td>2017</td><td>24,957</td></tr><tr><th>14</th><td>Male</td><td>2017</td><td>27,247</td></tr></tbody></table>"
      ],
      "text/latex": [
       "\\begin{tabular}{r|ccc}\n",
       "\t& features & years & active\\_claims\\\\\n",
       "\t\\hline\n",
       "\t& String? & Cat… & String?\\\\\n",
       "\t\\hline\n",
       "\t1 & Female & 2011 & 23,010 \\\\\n",
       "\t2 & Male & 2011 & 25,948 \\\\\n",
       "\t3 & Female & 2012 & 22,744 \\\\\n",
       "\t4 & Male & 2012 & 25,172 \\\\\n",
       "\t5 & Female & 2013 & 23,365 \\\\\n",
       "\t6 & Male & 2013 & 25,834 \\\\\n",
       "\t7 & Female & 2014 & 22,483 \\\\\n",
       "\t8 & Male & 2014 & 25,058 \\\\\n",
       "\t9 & Female & 2015 & 23,157 \\\\\n",
       "\t10 & Male & 2015 & 25,433 \\\\\n",
       "\t11 & Female & 2016 & 24,402 \\\\\n",
       "\t12 & Male & 2016 & 26,621 \\\\\n",
       "\t13 & Female & 2017 & 24,957 \\\\\n",
       "\t14 & Male & 2017 & 27,247 \\\\\n",
       "\\end{tabular}\n"
      ],
      "text/plain": [
       "14×3 DataFrame\n",
       "│ Row │ features │ years │ active_claims │\n",
       "│     │ \u001b[90mString?\u001b[39m  │ \u001b[90mCat…\u001b[39m  │ \u001b[90mString?\u001b[39m       │\n",
       "├─────┼──────────┼───────┼───────────────┤\n",
       "│ 1   │ Female   │ 2011  │ 23,010        │\n",
       "│ 2   │ Male     │ 2011  │ 25,948        │\n",
       "│ 3   │ Female   │ 2012  │ 22,744        │\n",
       "│ 4   │ Male     │ 2012  │ 25,172        │\n",
       "│ 5   │ Female   │ 2013  │ 23,365        │\n",
       "│ 6   │ Male     │ 2013  │ 25,834        │\n",
       "│ 7   │ Female   │ 2014  │ 22,483        │\n",
       "│ 8   │ Male     │ 2014  │ 25,058        │\n",
       "│ 9   │ Female   │ 2015  │ 23,157        │\n",
       "│ 10  │ Male     │ 2015  │ 25,433        │\n",
       "│ 11  │ Female   │ 2016  │ 24,402        │\n",
       "│ 12  │ Male     │ 2016  │ 26,621        │\n",
       "│ 13  │ Female   │ 2017  │ 24,957        │\n",
       "│ 14  │ Male     │ 2017  │ 27,247        │"
      ]
     },
     "execution_count": 17,
     "metadata": {},
     "output_type": "execute_result"
    }
   ],
   "source": [
    "# Convert wide gender_df to long\n",
    "gender_long_df = stack(gender_df, 2:8, :features, variable_name= \"years\", value_name= \"active_claims\")"
   ]
  },
  {
   "cell_type": "code",
   "execution_count": 18,
   "metadata": {},
   "outputs": [
    {
     "data": {
      "text/html": [
       "<table class=\"data-frame\"><thead><tr><th></th><th>features</th><th>years</th><th>active_claims</th></tr><tr><th></th><th>String?</th><th>Cat…</th><th>String?</th></tr></thead><tbody><p>35 rows × 3 columns</p><tr><th>1</th><td>Asian</td><td>2011</td><td>3,281</td></tr><tr><th>2</th><td>European</td><td>2011</td><td>33,137</td></tr><tr><th>3</th><td>Maori</td><td>2011</td><td>6,887</td></tr><tr><th>4</th><td>Other Ethnicities /Not stated</td><td>2011</td><td>3,707</td></tr><tr><th>5</th><td>Pacific Peoples</td><td>2011</td><td>1,946</td></tr><tr><th>6</th><td>Asian</td><td>2012</td><td>3,376</td></tr><tr><th>7</th><td>European</td><td>2012</td><td>32,324</td></tr><tr><th>8</th><td>Maori</td><td>2012</td><td>6,695</td></tr><tr><th>9</th><td>Other Ethnicities /Not stated</td><td>2012</td><td>3,599</td></tr><tr><th>10</th><td>Pacific Peoples</td><td>2012</td><td>1,922</td></tr><tr><th>11</th><td>Asian</td><td>2013</td><td>3,533</td></tr><tr><th>12</th><td>European</td><td>2013</td><td>33,100</td></tr><tr><th>13</th><td>Maori</td><td>2013</td><td>6,859</td></tr><tr><th>14</th><td>Other Ethnicities /Not stated</td><td>2013</td><td>3,632</td></tr><tr><th>15</th><td>Pacific Peoples</td><td>2013</td><td>2,075</td></tr><tr><th>16</th><td>Asian</td><td>2014</td><td>3,570</td></tr><tr><th>17</th><td>European</td><td>2014</td><td>31,964</td></tr><tr><th>18</th><td>Maori</td><td>2014</td><td>6,615</td></tr><tr><th>19</th><td>Other Ethnicities /Not stated</td><td>2014</td><td>3,406</td></tr><tr><th>20</th><td>Pacific Peoples</td><td>2014</td><td>1,986</td></tr><tr><th>21</th><td>Asian</td><td>2015</td><td>3,956</td></tr><tr><th>22</th><td>European</td><td>2015</td><td>32,460</td></tr><tr><th>23</th><td>Maori</td><td>2015</td><td>6,858</td></tr><tr><th>24</th><td>Other Ethnicities /Not stated</td><td>2015</td><td>3,216</td></tr><tr><th>25</th><td>Pacific Peoples</td><td>2015</td><td>2,100</td></tr><tr><th>26</th><td>Asian</td><td>2016</td><td>4,247</td></tr><tr><th>27</th><td>European</td><td>2016</td><td>33,858</td></tr><tr><th>28</th><td>Maori</td><td>2016</td><td>7,343</td></tr><tr><th>29</th><td>Other Ethnicities /Not stated</td><td>2016</td><td>3,291</td></tr><tr><th>30</th><td>Pacific Peoples</td><td>2016</td><td>2,284</td></tr><tr><th>&vellip;</th><td>&vellip;</td><td>&vellip;</td><td>&vellip;</td></tr></tbody></table>"
      ],
      "text/latex": [
       "\\begin{tabular}{r|ccc}\n",
       "\t& features & years & active\\_claims\\\\\n",
       "\t\\hline\n",
       "\t& String? & Cat… & String?\\\\\n",
       "\t\\hline\n",
       "\t1 & Asian & 2011 & 3,281 \\\\\n",
       "\t2 & European & 2011 & 33,137 \\\\\n",
       "\t3 & Maori & 2011 & 6,887 \\\\\n",
       "\t4 & Other Ethnicities /Not stated & 2011 & 3,707 \\\\\n",
       "\t5 & Pacific Peoples & 2011 & 1,946 \\\\\n",
       "\t6 & Asian & 2012 & 3,376 \\\\\n",
       "\t7 & European & 2012 & 32,324 \\\\\n",
       "\t8 & Maori & 2012 & 6,695 \\\\\n",
       "\t9 & Other Ethnicities /Not stated & 2012 & 3,599 \\\\\n",
       "\t10 & Pacific Peoples & 2012 & 1,922 \\\\\n",
       "\t11 & Asian & 2013 & 3,533 \\\\\n",
       "\t12 & European & 2013 & 33,100 \\\\\n",
       "\t13 & Maori & 2013 & 6,859 \\\\\n",
       "\t14 & Other Ethnicities /Not stated & 2013 & 3,632 \\\\\n",
       "\t15 & Pacific Peoples & 2013 & 2,075 \\\\\n",
       "\t16 & Asian & 2014 & 3,570 \\\\\n",
       "\t17 & European & 2014 & 31,964 \\\\\n",
       "\t18 & Maori & 2014 & 6,615 \\\\\n",
       "\t19 & Other Ethnicities /Not stated & 2014 & 3,406 \\\\\n",
       "\t20 & Pacific Peoples & 2014 & 1,986 \\\\\n",
       "\t21 & Asian & 2015 & 3,956 \\\\\n",
       "\t22 & European & 2015 & 32,460 \\\\\n",
       "\t23 & Maori & 2015 & 6,858 \\\\\n",
       "\t24 & Other Ethnicities /Not stated & 2015 & 3,216 \\\\\n",
       "\t25 & Pacific Peoples & 2015 & 2,100 \\\\\n",
       "\t26 & Asian & 2016 & 4,247 \\\\\n",
       "\t27 & European & 2016 & 33,858 \\\\\n",
       "\t28 & Maori & 2016 & 7,343 \\\\\n",
       "\t29 & Other Ethnicities /Not stated & 2016 & 3,291 \\\\\n",
       "\t30 & Pacific Peoples & 2016 & 2,284 \\\\\n",
       "\t$\\dots$ & $\\dots$ & $\\dots$ & $\\dots$ \\\\\n",
       "\\end{tabular}\n"
      ],
      "text/plain": [
       "35×3 DataFrame\n",
       "│ Row │ features                      │ years │ active_claims │\n",
       "│     │ \u001b[90mUnion{Missing, String}\u001b[39m        │ \u001b[90mCat…\u001b[39m  │ \u001b[90mString?\u001b[39m       │\n",
       "├─────┼───────────────────────────────┼───────┼───────────────┤\n",
       "│ 1   │ Asian                         │ 2011  │ 3,281         │\n",
       "│ 2   │ European                      │ 2011  │ 33,137        │\n",
       "│ 3   │ Maori                         │ 2011  │ 6,887         │\n",
       "│ 4   │ Other Ethnicities /Not stated │ 2011  │ 3,707         │\n",
       "│ 5   │ Pacific Peoples               │ 2011  │ 1,946         │\n",
       "│ 6   │ Asian                         │ 2012  │ 3,376         │\n",
       "│ 7   │ European                      │ 2012  │ 32,324        │\n",
       "│ 8   │ Maori                         │ 2012  │ 6,695         │\n",
       "│ 9   │ Other Ethnicities /Not stated │ 2012  │ 3,599         │\n",
       "│ 10  │ Pacific Peoples               │ 2012  │ 1,922         │\n",
       "⋮\n",
       "│ 25  │ Pacific Peoples               │ 2015  │ 2,100         │\n",
       "│ 26  │ Asian                         │ 2016  │ 4,247         │\n",
       "│ 27  │ European                      │ 2016  │ 33,858        │\n",
       "│ 28  │ Maori                         │ 2016  │ 7,343         │\n",
       "│ 29  │ Other Ethnicities /Not stated │ 2016  │ 3,291         │\n",
       "│ 30  │ Pacific Peoples               │ 2016  │ 2,284         │\n",
       "│ 31  │ Asian                         │ 2017  │ 4,646         │\n",
       "│ 32  │ European                      │ 2017  │ 34,186        │\n",
       "│ 33  │ Maori                         │ 2017  │ 7,601         │\n",
       "│ 34  │ Other Ethnicities /Not stated │ 2017  │ 3,401         │\n",
       "│ 35  │ Pacific Peoples               │ 2017  │ 2,370         │"
      ]
     },
     "execution_count": 18,
     "metadata": {},
     "output_type": "execute_result"
    }
   ],
   "source": [
    "# Convert wide ethnicity_df to long\n",
    "\n",
    "ethnicity_long_df = stack(ethnicity_df, 2:8, :features, variable_name= \"years\", value_name= \"active_claims\")"
   ]
  },
  {
   "cell_type": "code",
   "execution_count": 19,
   "metadata": {},
   "outputs": [
    {
     "data": {
      "text/html": [
       "<table class=\"data-frame\"><thead><tr><th></th><th>features</th><th>years</th><th>active_claims</th></tr><tr><th></th><th>String?</th><th>Cat…</th><th>String?</th></tr></thead><tbody><p>84 rows × 3 columns</p><tr><th>1</th><td>January </td><td>2011</td><td>12,004</td></tr><tr><th>2</th><td>February</td><td>2011</td><td>12,521</td></tr><tr><th>3</th><td>March</td><td>2011</td><td>13,474</td></tr><tr><th>4</th><td>April</td><td>2011</td><td>12,078</td></tr><tr><th>5</th><td>May</td><td>2011</td><td>13,810</td></tr><tr><th>6</th><td>June</td><td>2011</td><td>13,128</td></tr><tr><th>7</th><td>July</td><td>2011</td><td>13,372</td></tr><tr><th>8</th><td>August</td><td>2011</td><td>13,266</td></tr><tr><th>9</th><td>September</td><td>2011</td><td>13,495</td></tr><tr><th>10</th><td>October</td><td>2011</td><td>12,720</td></tr><tr><th>11</th><td>November</td><td>2011</td><td>13,523</td></tr><tr><th>12</th><td>December</td><td>2011</td><td>12,970</td></tr><tr><th>13</th><td>January </td><td>2012</td><td>11,750</td></tr><tr><th>14</th><td>February</td><td>2012</td><td>11,957</td></tr><tr><th>15</th><td>March</td><td>2012</td><td>12,645</td></tr><tr><th>16</th><td>April</td><td>2012</td><td>13,393</td></tr><tr><th>17</th><td>May</td><td>2012</td><td>13,387</td></tr><tr><th>18</th><td>June</td><td>2012</td><td>12,792</td></tr><tr><th>19</th><td>July</td><td>2012</td><td>13,183</td></tr><tr><th>20</th><td>August</td><td>2012</td><td>13,184</td></tr><tr><th>21</th><td>September</td><td>2012</td><td>12,484</td></tr><tr><th>22</th><td>October</td><td>2012</td><td>12,562</td></tr><tr><th>23</th><td>November</td><td>2012</td><td>12,949</td></tr><tr><th>24</th><td>December</td><td>2012</td><td>12,484</td></tr><tr><th>25</th><td>January </td><td>2013</td><td>12,035</td></tr><tr><th>26</th><td>February</td><td>2013</td><td>12,276</td></tr><tr><th>27</th><td>March</td><td>2013</td><td>12,724</td></tr><tr><th>28</th><td>April</td><td>2013</td><td>12,929</td></tr><tr><th>29</th><td>May</td><td>2013</td><td>13,694</td></tr><tr><th>30</th><td>June</td><td>2013</td><td>13,132</td></tr><tr><th>&vellip;</th><td>&vellip;</td><td>&vellip;</td><td>&vellip;</td></tr></tbody></table>"
      ],
      "text/latex": [
       "\\begin{tabular}{r|ccc}\n",
       "\t& features & years & active\\_claims\\\\\n",
       "\t\\hline\n",
       "\t& String? & Cat… & String?\\\\\n",
       "\t\\hline\n",
       "\t1 & January  & 2011 & 12,004 \\\\\n",
       "\t2 & February & 2011 & 12,521 \\\\\n",
       "\t3 & March & 2011 & 13,474 \\\\\n",
       "\t4 & April & 2011 & 12,078 \\\\\n",
       "\t5 & May & 2011 & 13,810 \\\\\n",
       "\t6 & June & 2011 & 13,128 \\\\\n",
       "\t7 & July & 2011 & 13,372 \\\\\n",
       "\t8 & August & 2011 & 13,266 \\\\\n",
       "\t9 & September & 2011 & 13,495 \\\\\n",
       "\t10 & October & 2011 & 12,720 \\\\\n",
       "\t11 & November & 2011 & 13,523 \\\\\n",
       "\t12 & December & 2011 & 12,970 \\\\\n",
       "\t13 & January  & 2012 & 11,750 \\\\\n",
       "\t14 & February & 2012 & 11,957 \\\\\n",
       "\t15 & March & 2012 & 12,645 \\\\\n",
       "\t16 & April & 2012 & 13,393 \\\\\n",
       "\t17 & May & 2012 & 13,387 \\\\\n",
       "\t18 & June & 2012 & 12,792 \\\\\n",
       "\t19 & July & 2012 & 13,183 \\\\\n",
       "\t20 & August & 2012 & 13,184 \\\\\n",
       "\t21 & September & 2012 & 12,484 \\\\\n",
       "\t22 & October & 2012 & 12,562 \\\\\n",
       "\t23 & November & 2012 & 12,949 \\\\\n",
       "\t24 & December & 2012 & 12,484 \\\\\n",
       "\t25 & January  & 2013 & 12,035 \\\\\n",
       "\t26 & February & 2013 & 12,276 \\\\\n",
       "\t27 & March & 2013 & 12,724 \\\\\n",
       "\t28 & April & 2013 & 12,929 \\\\\n",
       "\t29 & May & 2013 & 13,694 \\\\\n",
       "\t30 & June & 2013 & 13,132 \\\\\n",
       "\t$\\dots$ & $\\dots$ & $\\dots$ & $\\dots$ \\\\\n",
       "\\end{tabular}\n"
      ],
      "text/plain": [
       "84×3 DataFrame\n",
       "│ Row │ features  │ years │ active_claims │\n",
       "│     │ \u001b[90mString?\u001b[39m   │ \u001b[90mCat…\u001b[39m  │ \u001b[90mString?\u001b[39m       │\n",
       "├─────┼───────────┼───────┼───────────────┤\n",
       "│ 1   │ January   │ 2011  │ 12,004        │\n",
       "│ 2   │ February  │ 2011  │ 12,521        │\n",
       "│ 3   │ March     │ 2011  │ 13,474        │\n",
       "│ 4   │ April     │ 2011  │ 12,078        │\n",
       "│ 5   │ May       │ 2011  │ 13,810        │\n",
       "│ 6   │ June      │ 2011  │ 13,128        │\n",
       "│ 7   │ July      │ 2011  │ 13,372        │\n",
       "│ 8   │ August    │ 2011  │ 13,266        │\n",
       "│ 9   │ September │ 2011  │ 13,495        │\n",
       "│ 10  │ October   │ 2011  │ 12,720        │\n",
       "⋮\n",
       "│ 74  │ February  │ 2017  │ 13,865        │\n",
       "│ 75  │ March     │ 2017  │ 15,011        │\n",
       "│ 76  │ April     │ 2017  │ 14,844        │\n",
       "│ 77  │ May       │ 2017  │ 15,808        │\n",
       "│ 78  │ June      │ 2017  │ 15,236        │\n",
       "│ 79  │ July      │ 2017  │ 14,255        │\n",
       "│ 80  │ August    │ 2017  │ 14,914        │\n",
       "│ 81  │ September │ 2017  │ 14,409        │\n",
       "│ 82  │ October   │ 2017  │ 14,464        │\n",
       "│ 83  │ November  │ 2017  │ 14,624        │\n",
       "│ 84  │ December  │ 2017  │ 14,789        │"
      ]
     },
     "execution_count": 19,
     "metadata": {},
     "output_type": "execute_result"
    }
   ],
   "source": [
    "# Convert wide months_df to long\n",
    "\n",
    "months_long_df = stack(months_df, 2:8, :features, variable_name= \"years\", value_name= \"active_claims\")"
   ]
  },
  {
   "cell_type": "code",
   "execution_count": 20,
   "metadata": {},
   "outputs": [
    {
     "data": {
      "text/html": [
       "<table class=\"data-frame\"><thead><tr><th></th><th>features</th><th>years</th><th>active_claims</th></tr><tr><th></th><th>String?</th><th>Cat…</th><th>String?</th></tr></thead><tbody><p>70 rows × 3 columns</p><tr><th>1</th><td>ATV</td><td>2011</td><td>20</td></tr><tr><th>2</th><td>Cycling</td><td>2011</td><td>2,470</td></tr><tr><th>3</th><td>Driving/Passenger - Bus</td><td>2011</td><td>730</td></tr><tr><th>4</th><td>Driving/Passenger - Car</td><td>2011</td><td>32,777</td></tr><tr><th>5</th><td>Driving/Passenger - Motorcycle</td><td>2011</td><td>7,113</td></tr><tr><th>6</th><td>Driving/Passenger - Truck</td><td>2011</td><td>1,044</td></tr><tr><th>7</th><td>Driving/Passenger-Other Veh</td><td>2011</td><td>868</td></tr><tr><th>8</th><td>Not Obtainable</td><td>2011</td><td>399</td></tr><tr><th>9</th><td>Other</td><td>2011</td><td>196</td></tr><tr><th>10</th><td>Pedestrian</td><td>2011</td><td>3,341</td></tr><tr><th>11</th><td>ATV</td><td>2012</td><td>24</td></tr><tr><th>12</th><td>Cycling</td><td>2012</td><td>2,501</td></tr><tr><th>13</th><td>Driving/Passenger - Bus</td><td>2012</td><td>741</td></tr><tr><th>14</th><td>Driving/Passenger - Car</td><td>2012</td><td>32,004</td></tr><tr><th>15</th><td>Driving/Passenger - Motorcycle</td><td>2012</td><td>6,933</td></tr><tr><th>16</th><td>Driving/Passenger - Truck</td><td>2012</td><td>990</td></tr><tr><th>17</th><td>Driving/Passenger-Other Veh</td><td>2012</td><td>989</td></tr><tr><th>18</th><td>Not Obtainable</td><td>2012</td><td>388</td></tr><tr><th>19</th><td>Other</td><td>2012</td><td>231</td></tr><tr><th>20</th><td>Pedestrian</td><td>2012</td><td>3,115</td></tr><tr><th>21</th><td>ATV</td><td>2013</td><td>42</td></tr><tr><th>22</th><td>Cycling</td><td>2013</td><td>2,508</td></tr><tr><th>23</th><td>Driving/Passenger - Bus</td><td>2013</td><td>674</td></tr><tr><th>24</th><td>Driving/Passenger - Car</td><td>2013</td><td>32,970</td></tr><tr><th>25</th><td>Driving/Passenger - Motorcycle</td><td>2013</td><td>7,099</td></tr><tr><th>26</th><td>Driving/Passenger - Truck</td><td>2013</td><td>1,056</td></tr><tr><th>27</th><td>Driving/Passenger-Other Veh</td><td>2013</td><td>1,106</td></tr><tr><th>28</th><td>Not Obtainable</td><td>2013</td><td>420</td></tr><tr><th>29</th><td>Other</td><td>2013</td><td>273</td></tr><tr><th>30</th><td>Pedestrian</td><td>2013</td><td>3,051</td></tr><tr><th>&vellip;</th><td>&vellip;</td><td>&vellip;</td><td>&vellip;</td></tr></tbody></table>"
      ],
      "text/latex": [
       "\\begin{tabular}{r|ccc}\n",
       "\t& features & years & active\\_claims\\\\\n",
       "\t\\hline\n",
       "\t& String? & Cat… & String?\\\\\n",
       "\t\\hline\n",
       "\t1 & ATV & 2011 & 20 \\\\\n",
       "\t2 & Cycling & 2011 & 2,470 \\\\\n",
       "\t3 & Driving/Passenger - Bus & 2011 & 730 \\\\\n",
       "\t4 & Driving/Passenger - Car & 2011 & 32,777 \\\\\n",
       "\t5 & Driving/Passenger - Motorcycle & 2011 & 7,113 \\\\\n",
       "\t6 & Driving/Passenger - Truck & 2011 & 1,044 \\\\\n",
       "\t7 & Driving/Passenger-Other Veh & 2011 & 868 \\\\\n",
       "\t8 & Not Obtainable & 2011 & 399 \\\\\n",
       "\t9 & Other & 2011 & 196 \\\\\n",
       "\t10 & Pedestrian & 2011 & 3,341 \\\\\n",
       "\t11 & ATV & 2012 & 24 \\\\\n",
       "\t12 & Cycling & 2012 & 2,501 \\\\\n",
       "\t13 & Driving/Passenger - Bus & 2012 & 741 \\\\\n",
       "\t14 & Driving/Passenger - Car & 2012 & 32,004 \\\\\n",
       "\t15 & Driving/Passenger - Motorcycle & 2012 & 6,933 \\\\\n",
       "\t16 & Driving/Passenger - Truck & 2012 & 990 \\\\\n",
       "\t17 & Driving/Passenger-Other Veh & 2012 & 989 \\\\\n",
       "\t18 & Not Obtainable & 2012 & 388 \\\\\n",
       "\t19 & Other & 2012 & 231 \\\\\n",
       "\t20 & Pedestrian & 2012 & 3,115 \\\\\n",
       "\t21 & ATV & 2013 & 42 \\\\\n",
       "\t22 & Cycling & 2013 & 2,508 \\\\\n",
       "\t23 & Driving/Passenger - Bus & 2013 & 674 \\\\\n",
       "\t24 & Driving/Passenger - Car & 2013 & 32,970 \\\\\n",
       "\t25 & Driving/Passenger - Motorcycle & 2013 & 7,099 \\\\\n",
       "\t26 & Driving/Passenger - Truck & 2013 & 1,056 \\\\\n",
       "\t27 & Driving/Passenger-Other Veh & 2013 & 1,106 \\\\\n",
       "\t28 & Not Obtainable & 2013 & 420 \\\\\n",
       "\t29 & Other & 2013 & 273 \\\\\n",
       "\t30 & Pedestrian & 2013 & 3,051 \\\\\n",
       "\t$\\dots$ & $\\dots$ & $\\dots$ & $\\dots$ \\\\\n",
       "\\end{tabular}\n"
      ],
      "text/plain": [
       "70×3 DataFrame\n",
       "│ Row │ features                       │ years │ active_claims │\n",
       "│     │ \u001b[90mUnion{Missing, String}\u001b[39m         │ \u001b[90mCat…\u001b[39m  │ \u001b[90mString?\u001b[39m       │\n",
       "├─────┼────────────────────────────────┼───────┼───────────────┤\n",
       "│ 1   │ ATV                            │ 2011  │ 20            │\n",
       "│ 2   │ Cycling                        │ 2011  │ 2,470         │\n",
       "│ 3   │ Driving/Passenger - Bus        │ 2011  │ 730           │\n",
       "│ 4   │ Driving/Passenger - Car        │ 2011  │ 32,777        │\n",
       "│ 5   │ Driving/Passenger - Motorcycle │ 2011  │ 7,113         │\n",
       "│ 6   │ Driving/Passenger - Truck      │ 2011  │ 1,044         │\n",
       "│ 7   │ Driving/Passenger-Other Veh    │ 2011  │ 868           │\n",
       "│ 8   │ Not Obtainable                 │ 2011  │ 399           │\n",
       "│ 9   │ Other                          │ 2011  │ 196           │\n",
       "│ 10  │ Pedestrian                     │ 2011  │ 3,341         │\n",
       "⋮\n",
       "│ 60  │ Pedestrian                     │ 2016  │ 2,984         │\n",
       "│ 61  │ ATV                            │ 2017  │ 52            │\n",
       "│ 62  │ Cycling                        │ 2017  │ 2,182         │\n",
       "│ 63  │ Driving/Passenger - Bus        │ 2017  │ 767           │\n",
       "│ 64  │ Driving/Passenger - Car        │ 2017  │ 34,122        │\n",
       "│ 65  │ Driving/Passenger - Motorcycle │ 2017  │ 7,589         │\n",
       "│ 66  │ Driving/Passenger - Truck      │ 2017  │ 1,111         │\n",
       "│ 67  │ Driving/Passenger-Other Veh    │ 2017  │ 2,584         │\n",
       "│ 68  │ Not Obtainable                 │ 2017  │ 511           │\n",
       "│ 69  │ Other                          │ 2017  │ 282           │\n",
       "│ 70  │ Pedestrian                     │ 2017  │ 3,004         │"
      ]
     },
     "execution_count": 20,
     "metadata": {},
     "output_type": "execute_result"
    }
   ],
   "source": [
    "# Convert wide road_factor_df to long\n",
    "\n",
    "road_factor_long_df = stack(road_factor_df, 2:8, :features, variable_name= \"years\", value_name= \"active_claims\")"
   ]
  },
  {
   "cell_type": "code",
   "execution_count": 21,
   "metadata": {},
   "outputs": [
    {
     "data": {
      "text/html": [
       "<table class=\"data-frame\"><thead><tr><th></th><th>features</th><th>years</th><th>active_claims</th></tr><tr><th></th><th>String?</th><th>Cat…</th><th>String?</th></tr></thead><tbody><p>126 rows × 3 columns</p><tr><th>1</th><td>Northland</td><td>2011</td><td>2,168</td></tr><tr><th>2</th><td>Auckland</td><td>2011</td><td>13,615</td></tr><tr><th>3</th><td>Waikato</td><td>2011</td><td>4,954</td></tr><tr><th>4</th><td>Bay of Plenty</td><td>2011</td><td>2,769</td></tr><tr><th>5</th><td>Gisborne</td><td>2011</td><td>472</td></tr><tr><th>6</th><td>Hawkes Bay</td><td>2011</td><td>1,846</td></tr><tr><th>7</th><td>Taranaki</td><td>2011</td><td>1,115</td></tr><tr><th>8</th><td>Manawatu-Wanganui</td><td>2011</td><td>2,780</td></tr><tr><th>9</th><td>Wellington</td><td>2011</td><td>3,706</td></tr><tr><th>10</th><td>Tasman</td><td>2011</td><td>359</td></tr><tr><th>11</th><td>Nelson</td><td>2011</td><td>547</td></tr><tr><th>12</th><td>Marlborough</td><td>2011</td><td>420</td></tr><tr><th>13</th><td>Canterbury</td><td>2011</td><td>6,613</td></tr><tr><th>14</th><td>West Coast</td><td>2011</td><td>476</td></tr><tr><th>15</th><td>Otago</td><td>2011</td><td>2,128</td></tr><tr><th>16</th><td>Southland</td><td>2011</td><td>945</td></tr><tr><th>17</th><td>Other</td><td>2011</td><td>417</td></tr><tr><th>18</th><td>Unknown</td><td>2011</td><td>3,628</td></tr><tr><th>19</th><td>Northland</td><td>2012</td><td>2,296</td></tr><tr><th>20</th><td>Auckland</td><td>2012</td><td>13,612</td></tr><tr><th>21</th><td>Waikato</td><td>2012</td><td>5,021</td></tr><tr><th>22</th><td>Bay of Plenty</td><td>2012</td><td>2,775</td></tr><tr><th>23</th><td>Gisborne</td><td>2012</td><td>482</td></tr><tr><th>24</th><td>Hawkes Bay</td><td>2012</td><td>1,754</td></tr><tr><th>25</th><td>Taranaki</td><td>2012</td><td>1,090</td></tr><tr><th>26</th><td>Manawatu-Wanganui</td><td>2012</td><td>2,568</td></tr><tr><th>27</th><td>Wellington</td><td>2012</td><td>3,462</td></tr><tr><th>28</th><td>Tasman</td><td>2012</td><td>363</td></tr><tr><th>29</th><td>Nelson</td><td>2012</td><td>538</td></tr><tr><th>30</th><td>Marlborough</td><td>2012</td><td>390</td></tr><tr><th>&vellip;</th><td>&vellip;</td><td>&vellip;</td><td>&vellip;</td></tr></tbody></table>"
      ],
      "text/latex": [
       "\\begin{tabular}{r|ccc}\n",
       "\t& features & years & active\\_claims\\\\\n",
       "\t\\hline\n",
       "\t& String? & Cat… & String?\\\\\n",
       "\t\\hline\n",
       "\t1 & Northland & 2011 & 2,168 \\\\\n",
       "\t2 & Auckland & 2011 & 13,615 \\\\\n",
       "\t3 & Waikato & 2011 & 4,954 \\\\\n",
       "\t4 & Bay of Plenty & 2011 & 2,769 \\\\\n",
       "\t5 & Gisborne & 2011 & 472 \\\\\n",
       "\t6 & Hawkes Bay & 2011 & 1,846 \\\\\n",
       "\t7 & Taranaki & 2011 & 1,115 \\\\\n",
       "\t8 & Manawatu-Wanganui & 2011 & 2,780 \\\\\n",
       "\t9 & Wellington & 2011 & 3,706 \\\\\n",
       "\t10 & Tasman & 2011 & 359 \\\\\n",
       "\t11 & Nelson & 2011 & 547 \\\\\n",
       "\t12 & Marlborough & 2011 & 420 \\\\\n",
       "\t13 & Canterbury & 2011 & 6,613 \\\\\n",
       "\t14 & West Coast & 2011 & 476 \\\\\n",
       "\t15 & Otago & 2011 & 2,128 \\\\\n",
       "\t16 & Southland & 2011 & 945 \\\\\n",
       "\t17 & Other & 2011 & 417 \\\\\n",
       "\t18 & Unknown & 2011 & 3,628 \\\\\n",
       "\t19 & Northland & 2012 & 2,296 \\\\\n",
       "\t20 & Auckland & 2012 & 13,612 \\\\\n",
       "\t21 & Waikato & 2012 & 5,021 \\\\\n",
       "\t22 & Bay of Plenty & 2012 & 2,775 \\\\\n",
       "\t23 & Gisborne & 2012 & 482 \\\\\n",
       "\t24 & Hawkes Bay & 2012 & 1,754 \\\\\n",
       "\t25 & Taranaki & 2012 & 1,090 \\\\\n",
       "\t26 & Manawatu-Wanganui & 2012 & 2,568 \\\\\n",
       "\t27 & Wellington & 2012 & 3,462 \\\\\n",
       "\t28 & Tasman & 2012 & 363 \\\\\n",
       "\t29 & Nelson & 2012 & 538 \\\\\n",
       "\t30 & Marlborough & 2012 & 390 \\\\\n",
       "\t$\\dots$ & $\\dots$ & $\\dots$ & $\\dots$ \\\\\n",
       "\\end{tabular}\n"
      ],
      "text/plain": [
       "126×3 DataFrame\n",
       "│ Row │ features          │ years │ active_claims │\n",
       "│     │ \u001b[90mString?\u001b[39m           │ \u001b[90mCat…\u001b[39m  │ \u001b[90mString?\u001b[39m       │\n",
       "├─────┼───────────────────┼───────┼───────────────┤\n",
       "│ 1   │ Northland         │ 2011  │ 2,168         │\n",
       "│ 2   │ Auckland          │ 2011  │ 13,615        │\n",
       "│ 3   │ Waikato           │ 2011  │ 4,954         │\n",
       "│ 4   │ Bay of Plenty     │ 2011  │ 2,769         │\n",
       "│ 5   │ Gisborne          │ 2011  │ 472           │\n",
       "│ 6   │ Hawkes Bay        │ 2011  │ 1,846         │\n",
       "│ 7   │ Taranaki          │ 2011  │ 1,115         │\n",
       "│ 8   │ Manawatu-Wanganui │ 2011  │ 2,780         │\n",
       "│ 9   │ Wellington        │ 2011  │ 3,706         │\n",
       "│ 10  │ Tasman            │ 2011  │ 359           │\n",
       "⋮\n",
       "│ 116 │ Manawatu-Wanganui │ 2017  │ 2,593         │\n",
       "│ 117 │ Wellington        │ 2017  │ 3,640         │\n",
       "│ 118 │ Tasman            │ 2017  │ 375           │\n",
       "│ 119 │ Nelson            │ 2017  │ 605           │\n",
       "│ 120 │ Marlborough       │ 2017  │ 458           │\n",
       "│ 121 │ Canterbury        │ 2017  │ 6,191         │\n",
       "│ 122 │ West Coast        │ 2017  │ 462           │\n",
       "│ 123 │ Otago             │ 2017  │ 2,404         │\n",
       "│ 124 │ Southland         │ 2017  │ 1,036         │\n",
       "│ 125 │ Other             │ 2017  │ 618           │\n",
       "│ 126 │ Unknown           │ 2017  │ 3,050         │"
      ]
     },
     "execution_count": 21,
     "metadata": {},
     "output_type": "execute_result"
    }
   ],
   "source": [
    "# Convert wide region_df to long\n",
    "region_long_df = stack(region_df, 2:8, :features, variable_name= \"years\", value_name= \"active_claims\")"
   ]
  },
  {
   "cell_type": "markdown",
   "metadata": {},
   "source": [
    "# Wrangling of Accident Claims Data 2011-2017 - New Claims"
   ]
  },
  {
   "cell_type": "code",
   "execution_count": 22,
   "metadata": {},
   "outputs": [],
   "source": [
    "# wide df for new claims\n",
    "\n",
    "#gender_df2\n",
    "#age_df2 \n",
    "#ethnicity_df2 \n",
    "#months_df2 \n",
    "#road_factor_df2\n",
    "#region_df2\n",
    "\n",
    "# long df for new claims\n",
    "\n",
    "#gender_long_df2\n",
    "#age_long_df2 \n",
    "#ethnicity_long_df2 \n",
    "#months_long_df2 \n",
    "#road_factor_long_df2\n",
    "#region_long_df2"
   ]
  },
  {
   "cell_type": "code",
   "execution_count": 23,
   "metadata": {},
   "outputs": [
    {
     "name": "stdout",
     "output_type": "stream",
     "text": [
      "thread = 1 warning: parsed expected 8 columns, but didn't reach end of line around data row: 5. Ignoring any extra columns on this row\n",
      "thread = 1 warning: parsed expected 8 columns, but didn't reach end of line around data row: 6. Ignoring any extra columns on this row\n",
      "thread = 1 warning: parsed expected 8 columns, but didn't reach end of line around data row: 7. Ignoring any extra columns on this row\n",
      "thread = 1 warning: parsed expected 8 columns, but didn't reach end of line around data row: 8. Ignoring any extra columns on this row\n",
      "thread = 1 warning: parsed expected 8 columns, but didn't reach end of line around data row: 9. Ignoring any extra columns on this row\n",
      "thread = 1 warning: parsed expected 8 columns, but didn't reach end of line around data row: 10. Ignoring any extra columns on this row\n",
      "thread = 1 warning: parsed expected 8 columns, but didn't reach end of line around data row: 11. Ignoring any extra columns on this row\n",
      "thread = 1 warning: parsed expected 8 columns, but didn't reach end of line around data row: 12. Ignoring any extra columns on this row\n",
      "thread = 1 warning: parsed expected 8 columns, but didn't reach end of line around data row: 13. Ignoring any extra columns on this row\n",
      "thread = 1 warning: parsed expected 8 columns, but didn't reach end of line around data row: 14. Ignoring any extra columns on this row\n",
      "thread = 1 warning: parsed expected 8 columns, but didn't reach end of line around data row: 15. Ignoring any extra columns on this row\n",
      "thread = 1 warning: parsed expected 8 columns, but didn't reach end of line around data row: 16. Ignoring any extra columns on this row\n",
      "thread = 1 warning: parsed expected 8 columns, but didn't reach end of line around data row: 17. Ignoring any extra columns on this row\n",
      "thread = 1 warning: parsed expected 8 columns, but didn't reach end of line around data row: 18. Ignoring any extra columns on this row\n",
      "thread = 1 warning: parsed expected 8 columns, but didn't reach end of line around data row: 19. Ignoring any extra columns on this row\n",
      "thread = 1 warning: parsed expected 8 columns, but didn't reach end of line around data row: 20. Ignoring any extra columns on this row\n",
      "thread = 1 warning: parsed expected 8 columns, but didn't reach end of line around data row: 21. Ignoring any extra columns on this row\n",
      "thread = 1 warning: parsed expected 8 columns, but didn't reach end of line around data row: 22. Ignoring any extra columns on this row\n",
      "thread = 1 warning: parsed expected 8 columns, but didn't reach end of line around data row: 23. Ignoring any extra columns on this row\n",
      "thread = 1 warning: parsed expected 8 columns, but didn't reach end of line around data row: 24. Ignoring any extra columns on this row\n",
      "thread = 1 warning: parsed expected 8 columns, but didn't reach end of line around data row: 25. Ignoring any extra columns on this row\n",
      "thread = 1 warning: parsed expected 8 columns, but didn't reach end of line around data row: 26. Ignoring any extra columns on this row\n",
      "thread = 1 warning: parsed expected 8 columns, but didn't reach end of line around data row: 27. Ignoring any extra columns on this row\n",
      "thread = 1 warning: parsed expected 8 columns, but didn't reach end of line around data row: 28. Ignoring any extra columns on this row\n",
      "thread = 1 warning: parsed expected 8 columns, but didn't reach end of line around data row: 29. Ignoring any extra columns on this row\n",
      "thread = 1 warning: parsed expected 8 columns, but didn't reach end of line around data row: 30. Ignoring any extra columns on this row\n",
      "thread = 1 warning: parsed expected 8 columns, but didn't reach end of line around data row: 31. Ignoring any extra columns on this row\n",
      "thread = 1 warning: parsed expected 8 columns, but didn't reach end of line around data row: 32. Ignoring any extra columns on this row\n",
      "thread = 1 warning: parsed expected 8 columns, but didn't reach end of line around data row: 33. Ignoring any extra columns on this row\n",
      "thread = 1 warning: parsed expected 8 columns, but didn't reach end of line around data row: 34. Ignoring any extra columns on this row\n",
      "thread = 1 warning: parsed expected 8 columns, but didn't reach end of line around data row: 35. Ignoring any extra columns on this row\n",
      "thread = 1 warning: parsed expected 8 columns, but didn't reach end of line around data row: 36. Ignoring any extra columns on this row\n",
      "thread = 1 warning: parsed expected 8 columns, but didn't reach end of line around data row: 37. Ignoring any extra columns on this row\n",
      "thread = 1 warning: parsed expected 8 columns, but didn't reach end of line around data row: 38. Ignoring any extra columns on this row\n",
      "thread = 1 warning: parsed expected 8 columns, but didn't reach end of line around data row: 39. Ignoring any extra columns on this row\n",
      "thread = 1 warning: parsed expected 8 columns, but didn't reach end of line around data row: 40. Ignoring any extra columns on this row\n",
      "thread = 1 warning: parsed expected 8 columns, but didn't reach end of line around data row: 41. Ignoring any extra columns on this row\n",
      "thread = 1 warning: parsed expected 8 columns, but didn't reach end of line around data row: 42. Ignoring any extra columns on this row\n",
      "thread = 1 warning: parsed expected 8 columns, but didn't reach end of line around data row: 43. Ignoring any extra columns on this row\n",
      "thread = 1 warning: parsed expected 8 columns, but didn't reach end of line around data row: 44. Ignoring any extra columns on this row\n",
      "thread = 1 warning: parsed expected 8 columns, but didn't reach end of line around data row: 45. Ignoring any extra columns on this row\n",
      "thread = 1 warning: parsed expected 8 columns, but didn't reach end of line around data row: 46. Ignoring any extra columns on this row\n",
      "thread = 1 warning: parsed expected 8 columns, but didn't reach end of line around data row: 47. Ignoring any extra columns on this row\n",
      "thread = 1 warning: parsed expected 8 columns, but didn't reach end of line around data row: 48. Ignoring any extra columns on this row\n",
      "thread = 1 warning: parsed expected 8 columns, but didn't reach end of line around data row: 49. Ignoring any extra columns on this row\n",
      "thread = 1 warning: parsed expected 8 columns, but didn't reach end of line around data row: 50. Ignoring any extra columns on this row\n",
      "thread = 1 warning: parsed expected 8 columns, but didn't reach end of line around data row: 51. Ignoring any extra columns on this row\n",
      "thread = 1 warning: parsed expected 8 columns, but didn't reach end of line around data row: 52. Ignoring any extra columns on this row\n",
      "thread = 1 warning: parsed expected 8 columns, but didn't reach end of line around data row: 53. Ignoring any extra columns on this row\n",
      "thread = 1 warning: parsed expected 8 columns, but didn't reach end of line around data row: 54. Ignoring any extra columns on this row\n",
      "thread = 1 warning: parsed expected 8 columns, but didn't reach end of line around data row: 55. Ignoring any extra columns on this row\n",
      "thread = 1 warning: parsed expected 8 columns, but didn't reach end of line around data row: 56. Ignoring any extra columns on this row\n",
      "thread = 1 warning: parsed expected 8 columns, but didn't reach end of line around data row: 57. Ignoring any extra columns on this row\n",
      "thread = 1 warning: parsed expected 8 columns, but didn't reach end of line around data row: 58. Ignoring any extra columns on this row\n",
      "thread = 1 warning: parsed expected 8 columns, but didn't reach end of line around data row: 59. Ignoring any extra columns on this row\n",
      "thread = 1 warning: parsed expected 8 columns, but didn't reach end of line around data row: 60. Ignoring any extra columns on this row\n",
      "thread = 1 warning: parsed expected 8 columns, but didn't reach end of line around data row: 61. Ignoring any extra columns on this row\n",
      "thread = 1 warning: parsed expected 8 columns, but didn't reach end of line around data row: 62. Ignoring any extra columns on this row\n",
      "thread = 1 warning: parsed expected 8 columns, but didn't reach end of line around data row: 63. Ignoring any extra columns on this row\n",
      "thread = 1 warning: parsed expected 8 columns, but didn't reach end of line around data row: 64. Ignoring any extra columns on this row\n",
      "thread = 1 warning: parsed expected 8 columns, but didn't reach end of line around data row: 65. Ignoring any extra columns on this row\n"
     ]
    },
    {
     "data": {
      "text/html": [
       "<table class=\"data-frame\"><thead><tr><th></th><th>features</th><th>2011</th><th>2012</th><th>2013</th><th>2014</th><th>2015</th><th>2016</th></tr><tr><th></th><th>String?</th><th>String?</th><th>String?</th><th>String?</th><th>String?</th><th>String?</th><th>String?</th></tr></thead><tbody><p>61 rows × 8 columns (omitted printing of 1 columns)</p><tr><th>1</th><td>Client gender</td><td>2011/12</td><td>2012/13</td><td>2013/14</td><td>2014/15</td><td>2015/16</td><td>2016/17</td></tr><tr><th>2</th><td>Female</td><td>16,642</td><td>16,321</td><td>16,865</td><td>16,658</td><td>18,639</td><td>19,488</td></tr><tr><th>3</th><td>Male</td><td>15,657</td><td>15,360</td><td>15,580</td><td>15,840</td><td>17,506</td><td>18,390</td></tr><tr><th>4</th><td>Client Age</td><td><em>missing</em></td><td><em>missing</em></td><td><em>missing</em></td><td><em>missing</em></td><td><em>missing</em></td><td><em>missing</em></td></tr><tr><th>5</th><td>00 to 19 Years of age</td><td>6,465</td><td>5,863</td><td>5,932</td><td>5,780</td><td>6,341</td><td>6,671</td></tr><tr><th>6</th><td>20 to 29 Years of age</td><td>7,562</td><td>7,438</td><td>7,528</td><td>7,802</td><td>8,889</td><td>9,418</td></tr><tr><th>7</th><td>30 to 39 Years of age</td><td>4,650</td><td>4,594</td><td>4,706</td><td>4,719</td><td>5,279</td><td>5,644</td></tr><tr><th>8</th><td>40 to 49 Years of age</td><td>5,170</td><td>5,108</td><td>5,104</td><td>4,958</td><td>5,425</td><td>5,487</td></tr><tr><th>9</th><td>50 to 59 Years of age</td><td>4,034</td><td>4,094</td><td>4,305</td><td>4,454</td><td>4,915</td><td>4,960</td></tr><tr><th>10</th><td>60 to 69 Years of age</td><td>2,379</td><td>2,452</td><td>2,612</td><td>2,673</td><td>2,919</td><td>3,115</td></tr><tr><th>11</th><td>70 to 79 Years of age</td><td>1,259</td><td>1,364</td><td>1,426</td><td>1,351</td><td>1,525</td><td>1,666</td></tr><tr><th>12</th><td>80 Years and older</td><td>780</td><td>768</td><td>832</td><td>761</td><td>852</td><td>917</td></tr><tr><th>13</th><td>Client Ethnicity</td><td><em>missing</em></td><td><em>missing</em></td><td><em>missing</em></td><td><em>missing</em></td><td><em>missing</em></td><td><em>missing</em></td></tr><tr><th>14</th><td>Asian</td><td>2,784</td><td>2,917</td><td>2,982</td><td>3,191</td><td>3,874</td><td>4,042</td></tr><tr><th>15</th><td>European</td><td>21,170</td><td>20,661</td><td>21,079</td><td>20,784</td><td>22,567</td><td>23,416</td></tr><tr><th>16</th><td>Maori</td><td>4,450</td><td>4,311</td><td>4,347</td><td>4,564</td><td>5,399</td><td>5,842</td></tr><tr><th>17</th><td>Other Ethnicities /Not stated</td><td>2,320</td><td>2,271</td><td>2,322</td><td>2,206</td><td>2,256</td><td>2,368</td></tr><tr><th>18</th><td>Pacific Peoples</td><td>1,575</td><td>1,521</td><td>1,715</td><td>1,753</td><td>2,049</td><td>2,210</td></tr><tr><th>19</th><td>Lodgement Month</td><td><em>missing</em></td><td><em>missing</em></td><td><em>missing</em></td><td><em>missing</em></td><td><em>missing</em></td><td><em>missing</em></td></tr><tr><th>20</th><td>January </td><td>2,416</td><td>2,575</td><td>2,578</td><td>2,420</td><td>2,800</td><td>2,946</td></tr><tr><th>21</th><td>February</td><td>2,723</td><td>2,549</td><td>2,583</td><td>2,615</td><td>3,048</td><td>3,169</td></tr><tr><th>22</th><td>March</td><td>3,075</td><td>2,982</td><td>2,928</td><td>3,140</td><td>3,400</td><td>3,633</td></tr><tr><th>23</th><td>April</td><td>2,510</td><td>2,855</td><td>2,695</td><td>2,643</td><td>2,850</td><td>2,776</td></tr><tr><th>24</th><td>May</td><td>2,989</td><td>2,853</td><td>2,899</td><td>2,875</td><td>3,513</td><td>3,516</td></tr><tr><th>25</th><td>June</td><td>2,597</td><td>2,509</td><td>2,808</td><td>2,874</td><td>3,216</td><td>3,207</td></tr><tr><th>26</th><td>July</td><td>2,652</td><td>2,755</td><td>2,771</td><td>2,750</td><td>2,928</td><td>3,070</td></tr><tr><th>27</th><td>August</td><td>2,839</td><td>2,565</td><td>2,758</td><td>2,524</td><td>2,843</td><td>3,252</td></tr><tr><th>28</th><td>September</td><td>2,679</td><td>2,186</td><td>2,582</td><td>2,580</td><td>2,725</td><td>2,919</td></tr><tr><th>29</th><td>October</td><td>2,510</td><td>2,574</td><td>2,611</td><td>2,690</td><td>2,616</td><td>2,926</td></tr><tr><th>30</th><td>November</td><td>2,698</td><td>2,819</td><td>2,685</td><td>2,606</td><td>3,120</td><td>3,283</td></tr><tr><th>&vellip;</th><td>&vellip;</td><td>&vellip;</td><td>&vellip;</td><td>&vellip;</td><td>&vellip;</td><td>&vellip;</td><td>&vellip;</td></tr></tbody></table>"
      ],
      "text/latex": [
       "\\begin{tabular}{r|cccccccc}\n",
       "\t& features & 2011 & 2012 & 2013 & 2014 & 2015 & 2016 & \\\\\n",
       "\t\\hline\n",
       "\t& String? & String? & String? & String? & String? & String? & String? & \\\\\n",
       "\t\\hline\n",
       "\t1 & Client gender & 2011/12 & 2012/13 & 2013/14 & 2014/15 & 2015/16 & 2016/17 & $\\dots$ \\\\\n",
       "\t2 & Female & 16,642 & 16,321 & 16,865 & 16,658 & 18,639 & 19,488 & $\\dots$ \\\\\n",
       "\t3 & Male & 15,657 & 15,360 & 15,580 & 15,840 & 17,506 & 18,390 & $\\dots$ \\\\\n",
       "\t4 & Client Age & \\emph{missing} & \\emph{missing} & \\emph{missing} & \\emph{missing} & \\emph{missing} & \\emph{missing} & $\\dots$ \\\\\n",
       "\t5 & 00 to 19 Years of age & 6,465 & 5,863 & 5,932 & 5,780 & 6,341 & 6,671 & $\\dots$ \\\\\n",
       "\t6 & 20 to 29 Years of age & 7,562 & 7,438 & 7,528 & 7,802 & 8,889 & 9,418 & $\\dots$ \\\\\n",
       "\t7 & 30 to 39 Years of age & 4,650 & 4,594 & 4,706 & 4,719 & 5,279 & 5,644 & $\\dots$ \\\\\n",
       "\t8 & 40 to 49 Years of age & 5,170 & 5,108 & 5,104 & 4,958 & 5,425 & 5,487 & $\\dots$ \\\\\n",
       "\t9 & 50 to 59 Years of age & 4,034 & 4,094 & 4,305 & 4,454 & 4,915 & 4,960 & $\\dots$ \\\\\n",
       "\t10 & 60 to 69 Years of age & 2,379 & 2,452 & 2,612 & 2,673 & 2,919 & 3,115 & $\\dots$ \\\\\n",
       "\t11 & 70 to 79 Years of age & 1,259 & 1,364 & 1,426 & 1,351 & 1,525 & 1,666 & $\\dots$ \\\\\n",
       "\t12 & 80 Years and older & 780 & 768 & 832 & 761 & 852 & 917 & $\\dots$ \\\\\n",
       "\t13 & Client Ethnicity & \\emph{missing} & \\emph{missing} & \\emph{missing} & \\emph{missing} & \\emph{missing} & \\emph{missing} & $\\dots$ \\\\\n",
       "\t14 & Asian & 2,784 & 2,917 & 2,982 & 3,191 & 3,874 & 4,042 & $\\dots$ \\\\\n",
       "\t15 & European & 21,170 & 20,661 & 21,079 & 20,784 & 22,567 & 23,416 & $\\dots$ \\\\\n",
       "\t16 & Maori & 4,450 & 4,311 & 4,347 & 4,564 & 5,399 & 5,842 & $\\dots$ \\\\\n",
       "\t17 & Other Ethnicities /Not stated & 2,320 & 2,271 & 2,322 & 2,206 & 2,256 & 2,368 & $\\dots$ \\\\\n",
       "\t18 & Pacific Peoples & 1,575 & 1,521 & 1,715 & 1,753 & 2,049 & 2,210 & $\\dots$ \\\\\n",
       "\t19 & Lodgement Month & \\emph{missing} & \\emph{missing} & \\emph{missing} & \\emph{missing} & \\emph{missing} & \\emph{missing} & $\\dots$ \\\\\n",
       "\t20 & January  & 2,416 & 2,575 & 2,578 & 2,420 & 2,800 & 2,946 & $\\dots$ \\\\\n",
       "\t21 & February & 2,723 & 2,549 & 2,583 & 2,615 & 3,048 & 3,169 & $\\dots$ \\\\\n",
       "\t22 & March & 3,075 & 2,982 & 2,928 & 3,140 & 3,400 & 3,633 & $\\dots$ \\\\\n",
       "\t23 & April & 2,510 & 2,855 & 2,695 & 2,643 & 2,850 & 2,776 & $\\dots$ \\\\\n",
       "\t24 & May & 2,989 & 2,853 & 2,899 & 2,875 & 3,513 & 3,516 & $\\dots$ \\\\\n",
       "\t25 & June & 2,597 & 2,509 & 2,808 & 2,874 & 3,216 & 3,207 & $\\dots$ \\\\\n",
       "\t26 & July & 2,652 & 2,755 & 2,771 & 2,750 & 2,928 & 3,070 & $\\dots$ \\\\\n",
       "\t27 & August & 2,839 & 2,565 & 2,758 & 2,524 & 2,843 & 3,252 & $\\dots$ \\\\\n",
       "\t28 & September & 2,679 & 2,186 & 2,582 & 2,580 & 2,725 & 2,919 & $\\dots$ \\\\\n",
       "\t29 & October & 2,510 & 2,574 & 2,611 & 2,690 & 2,616 & 2,926 & $\\dots$ \\\\\n",
       "\t30 & November & 2,698 & 2,819 & 2,685 & 2,606 & 3,120 & 3,283 & $\\dots$ \\\\\n",
       "\t$\\dots$ & $\\dots$ & $\\dots$ & $\\dots$ & $\\dots$ & $\\dots$ & $\\dots$ & $\\dots$ &  \\\\\n",
       "\\end{tabular}\n"
      ],
      "text/plain": [
       "61×8 DataFrame. Omitted printing of 3 columns\n",
       "│ Row │ features              │ 2011    │ 2012    │ 2013    │ 2014    │\n",
       "│     │ \u001b[90mString?\u001b[39m               │ \u001b[90mString?\u001b[39m │ \u001b[90mString?\u001b[39m │ \u001b[90mString?\u001b[39m │ \u001b[90mString?\u001b[39m │\n",
       "├─────┼───────────────────────┼─────────┼─────────┼─────────┼─────────┤\n",
       "│ 1   │ Client gender         │ 2011/12 │ 2012/13 │ 2013/14 │ 2014/15 │\n",
       "│ 2   │ Female                │ 16,642  │ 16,321  │ 16,865  │ 16,658  │\n",
       "│ 3   │ Male                  │ 15,657  │ 15,360  │ 15,580  │ 15,840  │\n",
       "│ 4   │ Client Age            │ \u001b[90mmissing\u001b[39m │ \u001b[90mmissing\u001b[39m │ \u001b[90mmissing\u001b[39m │ \u001b[90mmissing\u001b[39m │\n",
       "│ 5   │ 00 to 19 Years of age │ 6,465   │ 5,863   │ 5,932   │ 5,780   │\n",
       "│ 6   │ 20 to 29 Years of age │ 7,562   │ 7,438   │ 7,528   │ 7,802   │\n",
       "│ 7   │ 30 to 39 Years of age │ 4,650   │ 4,594   │ 4,706   │ 4,719   │\n",
       "│ 8   │ 40 to 49 Years of age │ 5,170   │ 5,108   │ 5,104   │ 4,958   │\n",
       "│ 9   │ 50 to 59 Years of age │ 4,034   │ 4,094   │ 4,305   │ 4,454   │\n",
       "│ 10  │ 60 to 69 Years of age │ 2,379   │ 2,452   │ 2,612   │ 2,673   │\n",
       "⋮\n",
       "│ 51  │ Manawatu-Wanganui     │ 1,739   │ 1,599   │ 1,629   │ 1,720   │\n",
       "│ 52  │ Wellington            │ 2,679   │ 2,492   │ 2,515   │ 2,383   │\n",
       "│ 53  │ Tasman                │ 246     │ 286     │ 276     │ 217     │\n",
       "│ 54  │ Nelson                │ 363     │ 352     │ 402     │ 395     │\n",
       "│ 55  │ Marlborough           │ 329     │ 261     │ 317     │ 307     │\n",
       "│ 56  │ Canterbury            │ 4,812   │ 4,720   │ 4,835   │ 4,924   │\n",
       "│ 57  │ West Coast            │ 346     │ 301     │ 322     │ 301     │\n",
       "│ 58  │ Otago                 │ 1,479   │ 1,442   │ 1,450   │ 1,516   │\n",
       "│ 59  │ Southland             │ 677     │ 627     │ 618     │ 692     │\n",
       "│ 60  │ Other                 │ 242     │ 278     │ 277     │ 327     │\n",
       "│ 61  │ \u001b[90mmissing\u001b[39m               │ \u001b[90mmissing\u001b[39m │ \u001b[90mmissing\u001b[39m │ \u001b[90mmissing\u001b[39m │ \u001b[90mmissing\u001b[39m │"
      ]
     },
     "execution_count": 23,
     "metadata": {},
     "output_type": "execute_result"
    }
   ],
   "source": [
    "names_variables = [\"features\", \"2011\", \"2012\", \"2013\", \"2014\", \"2015\", \"2016\", \"2017\"]\n",
    "\n",
    "new_claims_csv = CSV.File(\"NewClaims.csv\", skipto=5, header = names_variables) |> DataFrame"
   ]
  },
  {
   "cell_type": "code",
   "execution_count": 24,
   "metadata": {},
   "outputs": [
    {
     "data": {
      "text/html": [
       "<table class=\"data-frame\"><thead><tr><th></th><th>features</th><th>2011</th><th>2012</th><th>2013</th><th>2014</th><th>2015</th><th>2016</th><th>2017</th></tr><tr><th></th><th>String?</th><th>String?</th><th>String?</th><th>String?</th><th>String?</th><th>String?</th><th>String?</th><th>String?</th></tr></thead><tbody><p>2 rows × 8 columns</p><tr><th>1</th><td>Female</td><td>16,642</td><td>16,321</td><td>16,865</td><td>16,658</td><td>18,639</td><td>19,488</td><td>19,704</td></tr><tr><th>2</th><td>Male</td><td>15,657</td><td>15,360</td><td>15,580</td><td>15,840</td><td>17,506</td><td>18,390</td><td>18,892</td></tr></tbody></table>"
      ],
      "text/latex": [
       "\\begin{tabular}{r|cccccccc}\n",
       "\t& features & 2011 & 2012 & 2013 & 2014 & 2015 & 2016 & 2017\\\\\n",
       "\t\\hline\n",
       "\t& String? & String? & String? & String? & String? & String? & String? & String?\\\\\n",
       "\t\\hline\n",
       "\t1 & Female & 16,642 & 16,321 & 16,865 & 16,658 & 18,639 & 19,488 & 19,704 \\\\\n",
       "\t2 & Male & 15,657 & 15,360 & 15,580 & 15,840 & 17,506 & 18,390 & 18,892 \\\\\n",
       "\\end{tabular}\n"
      ],
      "text/plain": [
       "2×8 DataFrame. Omitted printing of 1 columns\n",
       "│ Row │ features │ 2011    │ 2012    │ 2013    │ 2014    │ 2015    │ 2016    │\n",
       "│     │ \u001b[90mString?\u001b[39m  │ \u001b[90mString?\u001b[39m │ \u001b[90mString?\u001b[39m │ \u001b[90mString?\u001b[39m │ \u001b[90mString?\u001b[39m │ \u001b[90mString?\u001b[39m │ \u001b[90mString?\u001b[39m │\n",
       "├─────┼──────────┼─────────┼─────────┼─────────┼─────────┼─────────┼─────────┤\n",
       "│ 1   │ Female   │ 16,642  │ 16,321  │ 16,865  │ 16,658  │ 18,639  │ 19,488  │\n",
       "│ 2   │ Male     │ 15,657  │ 15,360  │ 15,580  │ 15,840  │ 17,506  │ 18,390  │"
      ]
     },
     "execution_count": 24,
     "metadata": {},
     "output_type": "execute_result"
    }
   ],
   "source": [
    "#make wide tibble of gender by years \n",
    "gender_df2 = new_claims_csv[2:3, :]"
   ]
  },
  {
   "cell_type": "code",
   "execution_count": 25,
   "metadata": {},
   "outputs": [
    {
     "data": {
      "text/html": [
       "<table class=\"data-frame\"><thead><tr><th></th><th>features</th><th>2011</th><th>2012</th><th>2013</th><th>2014</th><th>2015</th><th>2016</th><th>2017</th></tr><tr><th></th><th>String?</th><th>String?</th><th>String?</th><th>String?</th><th>String?</th><th>String?</th><th>String?</th><th>String?</th></tr></thead><tbody><p>8 rows × 8 columns</p><tr><th>1</th><td>00 to 19 Years of age</td><td>6,465</td><td>5,863</td><td>5,932</td><td>5,780</td><td>6,341</td><td>6,671</td><td>6,706</td></tr><tr><th>2</th><td>20 to 29 Years of age</td><td>7,562</td><td>7,438</td><td>7,528</td><td>7,802</td><td>8,889</td><td>9,418</td><td>9,600</td></tr><tr><th>3</th><td>30 to 39 Years of age</td><td>4,650</td><td>4,594</td><td>4,706</td><td>4,719</td><td>5,279</td><td>5,644</td><td>5,835</td></tr><tr><th>4</th><td>40 to 49 Years of age</td><td>5,170</td><td>5,108</td><td>5,104</td><td>4,958</td><td>5,425</td><td>5,487</td><td>5,462</td></tr><tr><th>5</th><td>50 to 59 Years of age</td><td>4,034</td><td>4,094</td><td>4,305</td><td>4,454</td><td>4,915</td><td>4,960</td><td>5,100</td></tr><tr><th>6</th><td>60 to 69 Years of age</td><td>2,379</td><td>2,452</td><td>2,612</td><td>2,673</td><td>2,919</td><td>3,115</td><td>3,259</td></tr><tr><th>7</th><td>70 to 79 Years of age</td><td>1,259</td><td>1,364</td><td>1,426</td><td>1,351</td><td>1,525</td><td>1,666</td><td>1,781</td></tr><tr><th>8</th><td>80 Years and older</td><td>780</td><td>768</td><td>832</td><td>761</td><td>852</td><td>917</td><td>853</td></tr></tbody></table>"
      ],
      "text/latex": [
       "\\begin{tabular}{r|cccccccc}\n",
       "\t& features & 2011 & 2012 & 2013 & 2014 & 2015 & 2016 & 2017\\\\\n",
       "\t\\hline\n",
       "\t& String? & String? & String? & String? & String? & String? & String? & String?\\\\\n",
       "\t\\hline\n",
       "\t1 & 00 to 19 Years of age & 6,465 & 5,863 & 5,932 & 5,780 & 6,341 & 6,671 & 6,706 \\\\\n",
       "\t2 & 20 to 29 Years of age & 7,562 & 7,438 & 7,528 & 7,802 & 8,889 & 9,418 & 9,600 \\\\\n",
       "\t3 & 30 to 39 Years of age & 4,650 & 4,594 & 4,706 & 4,719 & 5,279 & 5,644 & 5,835 \\\\\n",
       "\t4 & 40 to 49 Years of age & 5,170 & 5,108 & 5,104 & 4,958 & 5,425 & 5,487 & 5,462 \\\\\n",
       "\t5 & 50 to 59 Years of age & 4,034 & 4,094 & 4,305 & 4,454 & 4,915 & 4,960 & 5,100 \\\\\n",
       "\t6 & 60 to 69 Years of age & 2,379 & 2,452 & 2,612 & 2,673 & 2,919 & 3,115 & 3,259 \\\\\n",
       "\t7 & 70 to 79 Years of age & 1,259 & 1,364 & 1,426 & 1,351 & 1,525 & 1,666 & 1,781 \\\\\n",
       "\t8 & 80 Years and older & 780 & 768 & 832 & 761 & 852 & 917 & 853 \\\\\n",
       "\\end{tabular}\n"
      ],
      "text/plain": [
       "8×8 DataFrame. Omitted printing of 3 columns\n",
       "│ Row │ features              │ 2011    │ 2012    │ 2013    │ 2014    │\n",
       "│     │ \u001b[90mString?\u001b[39m               │ \u001b[90mString?\u001b[39m │ \u001b[90mString?\u001b[39m │ \u001b[90mString?\u001b[39m │ \u001b[90mString?\u001b[39m │\n",
       "├─────┼───────────────────────┼─────────┼─────────┼─────────┼─────────┤\n",
       "│ 1   │ 00 to 19 Years of age │ 6,465   │ 5,863   │ 5,932   │ 5,780   │\n",
       "│ 2   │ 20 to 29 Years of age │ 7,562   │ 7,438   │ 7,528   │ 7,802   │\n",
       "│ 3   │ 30 to 39 Years of age │ 4,650   │ 4,594   │ 4,706   │ 4,719   │\n",
       "│ 4   │ 40 to 49 Years of age │ 5,170   │ 5,108   │ 5,104   │ 4,958   │\n",
       "│ 5   │ 50 to 59 Years of age │ 4,034   │ 4,094   │ 4,305   │ 4,454   │\n",
       "│ 6   │ 60 to 69 Years of age │ 2,379   │ 2,452   │ 2,612   │ 2,673   │\n",
       "│ 7   │ 70 to 79 Years of age │ 1,259   │ 1,364   │ 1,426   │ 1,351   │\n",
       "│ 8   │ 80 Years and older    │ 780     │ 768     │ 832     │ 761     │"
      ]
     },
     "execution_count": 25,
     "metadata": {},
     "output_type": "execute_result"
    }
   ],
   "source": [
    "#make wide tibble of age ranges by years \n",
    "age_df2 = new_claims_csv[5:12, :]"
   ]
  },
  {
   "cell_type": "code",
   "execution_count": 26,
   "metadata": {},
   "outputs": [
    {
     "data": {
      "text/html": [
       "<table class=\"data-frame\"><thead><tr><th></th><th>features</th><th>2011</th><th>2012</th><th>2013</th><th>2014</th><th>2015</th><th>2016</th></tr><tr><th></th><th>String?</th><th>String?</th><th>String?</th><th>String?</th><th>String?</th><th>String?</th><th>String?</th></tr></thead><tbody><p>5 rows × 8 columns (omitted printing of 1 columns)</p><tr><th>1</th><td>Asian</td><td>2,784</td><td>2,917</td><td>2,982</td><td>3,191</td><td>3,874</td><td>4,042</td></tr><tr><th>2</th><td>European</td><td>21,170</td><td>20,661</td><td>21,079</td><td>20,784</td><td>22,567</td><td>23,416</td></tr><tr><th>3</th><td>Maori</td><td>4,450</td><td>4,311</td><td>4,347</td><td>4,564</td><td>5,399</td><td>5,842</td></tr><tr><th>4</th><td>Other Ethnicities /Not stated</td><td>2,320</td><td>2,271</td><td>2,322</td><td>2,206</td><td>2,256</td><td>2,368</td></tr><tr><th>5</th><td>Pacific Peoples</td><td>1,575</td><td>1,521</td><td>1,715</td><td>1,753</td><td>2,049</td><td>2,210</td></tr></tbody></table>"
      ],
      "text/latex": [
       "\\begin{tabular}{r|cccccccc}\n",
       "\t& features & 2011 & 2012 & 2013 & 2014 & 2015 & 2016 & \\\\\n",
       "\t\\hline\n",
       "\t& String? & String? & String? & String? & String? & String? & String? & \\\\\n",
       "\t\\hline\n",
       "\t1 & Asian & 2,784 & 2,917 & 2,982 & 3,191 & 3,874 & 4,042 & $\\dots$ \\\\\n",
       "\t2 & European & 21,170 & 20,661 & 21,079 & 20,784 & 22,567 & 23,416 & $\\dots$ \\\\\n",
       "\t3 & Maori & 4,450 & 4,311 & 4,347 & 4,564 & 5,399 & 5,842 & $\\dots$ \\\\\n",
       "\t4 & Other Ethnicities /Not stated & 2,320 & 2,271 & 2,322 & 2,206 & 2,256 & 2,368 & $\\dots$ \\\\\n",
       "\t5 & Pacific Peoples & 1,575 & 1,521 & 1,715 & 1,753 & 2,049 & 2,210 & $\\dots$ \\\\\n",
       "\\end{tabular}\n"
      ],
      "text/plain": [
       "5×8 DataFrame. Omitted printing of 3 columns\n",
       "│ Row │ features                      │ 2011    │ 2012    │ 2013    │ 2014    │\n",
       "│     │ \u001b[90mUnion{Missing, String}\u001b[39m        │ \u001b[90mString?\u001b[39m │ \u001b[90mString?\u001b[39m │ \u001b[90mString?\u001b[39m │ \u001b[90mString?\u001b[39m │\n",
       "├─────┼───────────────────────────────┼─────────┼─────────┼─────────┼─────────┤\n",
       "│ 1   │ Asian                         │ 2,784   │ 2,917   │ 2,982   │ 3,191   │\n",
       "│ 2   │ European                      │ 21,170  │ 20,661  │ 21,079  │ 20,784  │\n",
       "│ 3   │ Maori                         │ 4,450   │ 4,311   │ 4,347   │ 4,564   │\n",
       "│ 4   │ Other Ethnicities /Not stated │ 2,320   │ 2,271   │ 2,322   │ 2,206   │\n",
       "│ 5   │ Pacific Peoples               │ 1,575   │ 1,521   │ 1,715   │ 1,753   │"
      ]
     },
     "execution_count": 26,
     "metadata": {},
     "output_type": "execute_result"
    }
   ],
   "source": [
    "#make wide tibble of ethnicity by years \n",
    "ethnicity_df2 = new_claims_csv[14:18, :]"
   ]
  },
  {
   "cell_type": "code",
   "execution_count": 27,
   "metadata": {},
   "outputs": [
    {
     "data": {
      "text/html": [
       "<table class=\"data-frame\"><thead><tr><th></th><th>features</th><th>2011</th><th>2012</th><th>2013</th><th>2014</th><th>2015</th><th>2016</th><th>2017</th></tr><tr><th></th><th>String?</th><th>String?</th><th>String?</th><th>String?</th><th>String?</th><th>String?</th><th>String?</th><th>String?</th></tr></thead><tbody><p>12 rows × 8 columns</p><tr><th>1</th><td>January </td><td>2,416</td><td>2,575</td><td>2,578</td><td>2,420</td><td>2,800</td><td>2,946</td><td>3,135</td></tr><tr><th>2</th><td>February</td><td>2,723</td><td>2,549</td><td>2,583</td><td>2,615</td><td>3,048</td><td>3,169</td><td>3,387</td></tr><tr><th>3</th><td>March</td><td>3,075</td><td>2,982</td><td>2,928</td><td>3,140</td><td>3,400</td><td>3,633</td><td>3,400</td></tr><tr><th>4</th><td>April</td><td>2,510</td><td>2,855</td><td>2,695</td><td>2,643</td><td>2,850</td><td>2,776</td><td>3,045</td></tr><tr><th>5</th><td>May</td><td>2,989</td><td>2,853</td><td>2,899</td><td>2,875</td><td>3,513</td><td>3,516</td><td>3,707</td></tr><tr><th>6</th><td>June</td><td>2,597</td><td>2,509</td><td>2,808</td><td>2,874</td><td>3,216</td><td>3,207</td><td>3,182</td></tr><tr><th>7</th><td>July</td><td>2,652</td><td>2,755</td><td>2,771</td><td>2,750</td><td>2,928</td><td>3,070</td><td>3,155</td></tr><tr><th>8</th><td>August</td><td>2,839</td><td>2,565</td><td>2,758</td><td>2,524</td><td>2,843</td><td>3,252</td><td>3,238</td></tr><tr><th>9</th><td>September</td><td>2,679</td><td>2,186</td><td>2,582</td><td>2,580</td><td>2,725</td><td>2,919</td><td>3,108</td></tr><tr><th>10</th><td>October</td><td>2,510</td><td>2,574</td><td>2,611</td><td>2,690</td><td>2,616</td><td>2,926</td><td>3,028</td></tr><tr><th>11</th><td>November</td><td>2,698</td><td>2,819</td><td>2,685</td><td>2,606</td><td>3,120</td><td>3,283</td><td>3,190</td></tr><tr><th>12</th><td>December</td><td>2,611</td><td>2,459</td><td>2,547</td><td>2,781</td><td>3,086</td><td>3,181</td><td>3,021</td></tr></tbody></table>"
      ],
      "text/latex": [
       "\\begin{tabular}{r|cccccccc}\n",
       "\t& features & 2011 & 2012 & 2013 & 2014 & 2015 & 2016 & 2017\\\\\n",
       "\t\\hline\n",
       "\t& String? & String? & String? & String? & String? & String? & String? & String?\\\\\n",
       "\t\\hline\n",
       "\t1 & January  & 2,416 & 2,575 & 2,578 & 2,420 & 2,800 & 2,946 & 3,135 \\\\\n",
       "\t2 & February & 2,723 & 2,549 & 2,583 & 2,615 & 3,048 & 3,169 & 3,387 \\\\\n",
       "\t3 & March & 3,075 & 2,982 & 2,928 & 3,140 & 3,400 & 3,633 & 3,400 \\\\\n",
       "\t4 & April & 2,510 & 2,855 & 2,695 & 2,643 & 2,850 & 2,776 & 3,045 \\\\\n",
       "\t5 & May & 2,989 & 2,853 & 2,899 & 2,875 & 3,513 & 3,516 & 3,707 \\\\\n",
       "\t6 & June & 2,597 & 2,509 & 2,808 & 2,874 & 3,216 & 3,207 & 3,182 \\\\\n",
       "\t7 & July & 2,652 & 2,755 & 2,771 & 2,750 & 2,928 & 3,070 & 3,155 \\\\\n",
       "\t8 & August & 2,839 & 2,565 & 2,758 & 2,524 & 2,843 & 3,252 & 3,238 \\\\\n",
       "\t9 & September & 2,679 & 2,186 & 2,582 & 2,580 & 2,725 & 2,919 & 3,108 \\\\\n",
       "\t10 & October & 2,510 & 2,574 & 2,611 & 2,690 & 2,616 & 2,926 & 3,028 \\\\\n",
       "\t11 & November & 2,698 & 2,819 & 2,685 & 2,606 & 3,120 & 3,283 & 3,190 \\\\\n",
       "\t12 & December & 2,611 & 2,459 & 2,547 & 2,781 & 3,086 & 3,181 & 3,021 \\\\\n",
       "\\end{tabular}\n"
      ],
      "text/plain": [
       "12×8 DataFrame. Omitted printing of 1 columns\n",
       "│ Row │ features  │ 2011    │ 2012    │ 2013    │ 2014    │ 2015    │ 2016    │\n",
       "│     │ \u001b[90mString?\u001b[39m   │ \u001b[90mString?\u001b[39m │ \u001b[90mString?\u001b[39m │ \u001b[90mString?\u001b[39m │ \u001b[90mString?\u001b[39m │ \u001b[90mString?\u001b[39m │ \u001b[90mString?\u001b[39m │\n",
       "├─────┼───────────┼─────────┼─────────┼─────────┼─────────┼─────────┼─────────┤\n",
       "│ 1   │ January   │ 2,416   │ 2,575   │ 2,578   │ 2,420   │ 2,800   │ 2,946   │\n",
       "│ 2   │ February  │ 2,723   │ 2,549   │ 2,583   │ 2,615   │ 3,048   │ 3,169   │\n",
       "│ 3   │ March     │ 3,075   │ 2,982   │ 2,928   │ 3,140   │ 3,400   │ 3,633   │\n",
       "│ 4   │ April     │ 2,510   │ 2,855   │ 2,695   │ 2,643   │ 2,850   │ 2,776   │\n",
       "│ 5   │ May       │ 2,989   │ 2,853   │ 2,899   │ 2,875   │ 3,513   │ 3,516   │\n",
       "│ 6   │ June      │ 2,597   │ 2,509   │ 2,808   │ 2,874   │ 3,216   │ 3,207   │\n",
       "│ 7   │ July      │ 2,652   │ 2,755   │ 2,771   │ 2,750   │ 2,928   │ 3,070   │\n",
       "│ 8   │ August    │ 2,839   │ 2,565   │ 2,758   │ 2,524   │ 2,843   │ 3,252   │\n",
       "│ 9   │ September │ 2,679   │ 2,186   │ 2,582   │ 2,580   │ 2,725   │ 2,919   │\n",
       "│ 10  │ October   │ 2,510   │ 2,574   │ 2,611   │ 2,690   │ 2,616   │ 2,926   │\n",
       "│ 11  │ November  │ 2,698   │ 2,819   │ 2,685   │ 2,606   │ 3,120   │ 3,283   │\n",
       "│ 12  │ December  │ 2,611   │ 2,459   │ 2,547   │ 2,781   │ 3,086   │ 3,181   │"
      ]
     },
     "execution_count": 27,
     "metadata": {},
     "output_type": "execute_result"
    }
   ],
   "source": [
    "#make wide tibble of months by years \n",
    "months_df2 = new_claims_csv[20:31, :]"
   ]
  },
  {
   "cell_type": "code",
   "execution_count": 28,
   "metadata": {},
   "outputs": [
    {
     "data": {
      "text/html": [
       "<table class=\"data-frame\"><thead><tr><th></th><th>features</th><th>2011</th><th>2012</th><th>2013</th><th>2014</th><th>2015</th><th>2016</th></tr><tr><th></th><th>String?</th><th>String?</th><th>String?</th><th>String?</th><th>String?</th><th>String?</th><th>String?</th></tr></thead><tbody><p>10 rows × 8 columns (omitted printing of 1 columns)</p><tr><th>1</th><td>ATV</td><td>10</td><td>18</td><td>43</td><td>38</td><td>50</td><td>61</td></tr><tr><th>2</th><td>Cycling</td><td>1,708</td><td>1,747</td><td>1,680</td><td>1,581</td><td>1,632</td><td>1,391</td></tr><tr><th>3</th><td>Driving/Passenger - Bus</td><td>574</td><td>587</td><td>556</td><td>549</td><td>668</td><td>788</td></tr><tr><th>4</th><td>Driving/Passenger - Car</td><td>22,939</td><td>22,412</td><td>23,057</td><td>23,234</td><td>26,274</td><td>26,552</td></tr><tr><th>5</th><td>Driving/Passenger - Motorcycle</td><td>3,644</td><td>3,524</td><td>3,687</td><td>3,753</td><td>3,833</td><td>4,057</td></tr><tr><th>6</th><td>Driving/Passenger - Truck</td><td>481</td><td>494</td><td>507</td><td>497</td><td>581</td><td>689</td></tr><tr><th>7</th><td>Driving/Passenger-Other Veh</td><td>618</td><td>731</td><td>866</td><td>819</td><td>1,021</td><td>1,949</td></tr><tr><th>8</th><td>Not Obtainable</td><td>22</td><td>28</td><td>22</td><td>20</td><td>26</td><td>108</td></tr><tr><th>9</th><td>Other</td><td>150</td><td>177</td><td>205</td><td>194</td><td>181</td><td>266</td></tr><tr><th>10</th><td>Pedestrian</td><td>2,153</td><td>1,963</td><td>1,822</td><td>1,813</td><td>1,879</td><td>2,017</td></tr></tbody></table>"
      ],
      "text/latex": [
       "\\begin{tabular}{r|cccccccc}\n",
       "\t& features & 2011 & 2012 & 2013 & 2014 & 2015 & 2016 & \\\\\n",
       "\t\\hline\n",
       "\t& String? & String? & String? & String? & String? & String? & String? & \\\\\n",
       "\t\\hline\n",
       "\t1 & ATV & 10 & 18 & 43 & 38 & 50 & 61 & $\\dots$ \\\\\n",
       "\t2 & Cycling & 1,708 & 1,747 & 1,680 & 1,581 & 1,632 & 1,391 & $\\dots$ \\\\\n",
       "\t3 & Driving/Passenger - Bus & 574 & 587 & 556 & 549 & 668 & 788 & $\\dots$ \\\\\n",
       "\t4 & Driving/Passenger - Car & 22,939 & 22,412 & 23,057 & 23,234 & 26,274 & 26,552 & $\\dots$ \\\\\n",
       "\t5 & Driving/Passenger - Motorcycle & 3,644 & 3,524 & 3,687 & 3,753 & 3,833 & 4,057 & $\\dots$ \\\\\n",
       "\t6 & Driving/Passenger - Truck & 481 & 494 & 507 & 497 & 581 & 689 & $\\dots$ \\\\\n",
       "\t7 & Driving/Passenger-Other Veh & 618 & 731 & 866 & 819 & 1,021 & 1,949 & $\\dots$ \\\\\n",
       "\t8 & Not Obtainable & 22 & 28 & 22 & 20 & 26 & 108 & $\\dots$ \\\\\n",
       "\t9 & Other & 150 & 177 & 205 & 194 & 181 & 266 & $\\dots$ \\\\\n",
       "\t10 & Pedestrian & 2,153 & 1,963 & 1,822 & 1,813 & 1,879 & 2,017 & $\\dots$ \\\\\n",
       "\\end{tabular}\n"
      ],
      "text/plain": [
       "10×8 DataFrame. Omitted printing of 3 columns\n",
       "│ Row │ features                       │ 2011    │ 2012    │ 2013    │ 2014    │\n",
       "│     │ \u001b[90mUnion{Missing, String}\u001b[39m         │ \u001b[90mString?\u001b[39m │ \u001b[90mString?\u001b[39m │ \u001b[90mString?\u001b[39m │ \u001b[90mString?\u001b[39m │\n",
       "├─────┼────────────────────────────────┼─────────┼─────────┼─────────┼─────────┤\n",
       "│ 1   │ ATV                            │ 10      │ 18      │ 43      │ 38      │\n",
       "│ 2   │ Cycling                        │ 1,708   │ 1,747   │ 1,680   │ 1,581   │\n",
       "│ 3   │ Driving/Passenger - Bus        │ 574     │ 587     │ 556     │ 549     │\n",
       "│ 4   │ Driving/Passenger - Car        │ 22,939  │ 22,412  │ 23,057  │ 23,234  │\n",
       "│ 5   │ Driving/Passenger - Motorcycle │ 3,644   │ 3,524   │ 3,687   │ 3,753   │\n",
       "│ 6   │ Driving/Passenger - Truck      │ 481     │ 494     │ 507     │ 497     │\n",
       "│ 7   │ Driving/Passenger-Other Veh    │ 618     │ 731     │ 866     │ 819     │\n",
       "│ 8   │ Not Obtainable                 │ 22      │ 28      │ 22      │ 20      │\n",
       "│ 9   │ Other                          │ 150     │ 177     │ 205     │ 194     │\n",
       "│ 10  │ Pedestrian                     │ 2,153   │ 1,963   │ 1,822   │ 1,813   │"
      ]
     },
     "execution_count": 28,
     "metadata": {},
     "output_type": "execute_result"
    }
   ],
   "source": [
    "#make wide tibble of road factor by years \n",
    "road_factor_df2 = new_claims_csv[33:42, :]"
   ]
  },
  {
   "cell_type": "code",
   "execution_count": 29,
   "metadata": {},
   "outputs": [
    {
     "data": {
      "text/html": [
       "<table class=\"data-frame\"><thead><tr><th></th><th>features</th><th>2011</th><th>2012</th><th>2013</th><th>2014</th><th>2015</th><th>2016</th><th>2017</th></tr><tr><th></th><th>String?</th><th>String?</th><th>String?</th><th>String?</th><th>String?</th><th>String?</th><th>String?</th><th>String?</th></tr></thead><tbody><p>17 rows × 8 columns</p><tr><th>1</th><td>Northland</td><td>1,411</td><td>1,488</td><td>1,472</td><td>1,474</td><td>1,624</td><td>1,757</td><td>1,898</td></tr><tr><th>2</th><td>Auckland</td><td>10,461</td><td>10,465</td><td>10,767</td><td>10,708</td><td>12,277</td><td>12,926</td><td>12,787</td></tr><tr><th>3</th><td>Waikato</td><td>3,254</td><td>3,281</td><td>3,434</td><td>3,480</td><td>3,852</td><td>4,162</td><td>4,415</td></tr><tr><th>4</th><td>Bay of Plenty</td><td>1,931</td><td>1,847</td><td>1,905</td><td>1,867</td><td>2,284</td><td>2,476</td><td>2,404</td></tr><tr><th>5</th><td>Gisborne</td><td>312</td><td>331</td><td>344</td><td>352</td><td>356</td><td>411</td><td>368</td></tr><tr><th>6</th><td>Hawkes Bay</td><td>1,190</td><td>1,109</td><td>1,112</td><td>1,062</td><td>1,208</td><td>1,324</td><td>1,262</td></tr><tr><th>7</th><td>Taranaki</td><td>828</td><td>802</td><td>770</td><td>773</td><td>828</td><td>810</td><td>896</td></tr><tr><th>8</th><td>Manawatu-Wanganui</td><td>1,739</td><td>1,599</td><td>1,629</td><td>1,720</td><td>1,792</td><td>1,829</td><td>1,945</td></tr><tr><th>9</th><td>Wellington</td><td>2,679</td><td>2,492</td><td>2,515</td><td>2,383</td><td>2,610</td><td>2,825</td><td>2,873</td></tr><tr><th>10</th><td>Tasman</td><td>246</td><td>286</td><td>276</td><td>217</td><td>246</td><td>345</td><td>281</td></tr><tr><th>11</th><td>Nelson</td><td>363</td><td>352</td><td>402</td><td>395</td><td>478</td><td>480</td><td>446</td></tr><tr><th>12</th><td>Marlborough</td><td>329</td><td>261</td><td>317</td><td>307</td><td>325</td><td>371</td><td>404</td></tr><tr><th>13</th><td>Canterbury</td><td>4,812</td><td>4,720</td><td>4,835</td><td>4,924</td><td>5,071</td><td>4,836</td><td>5,095</td></tr><tr><th>14</th><td>West Coast</td><td>346</td><td>301</td><td>322</td><td>301</td><td>377</td><td>339</td><td>374</td></tr><tr><th>15</th><td>Otago</td><td>1,479</td><td>1,442</td><td>1,450</td><td>1,516</td><td>1,672</td><td>1,806</td><td>1,955</td></tr><tr><th>16</th><td>Southland</td><td>677</td><td>627</td><td>618</td><td>692</td><td>775</td><td>749</td><td>849</td></tr><tr><th>17</th><td>Other</td><td>242</td><td>278</td><td>277</td><td>327</td><td>370</td><td>432</td><td>344</td></tr></tbody></table>"
      ],
      "text/latex": [
       "\\begin{tabular}{r|cccccccc}\n",
       "\t& features & 2011 & 2012 & 2013 & 2014 & 2015 & 2016 & 2017\\\\\n",
       "\t\\hline\n",
       "\t& String? & String? & String? & String? & String? & String? & String? & String?\\\\\n",
       "\t\\hline\n",
       "\t1 & Northland & 1,411 & 1,488 & 1,472 & 1,474 & 1,624 & 1,757 & 1,898 \\\\\n",
       "\t2 & Auckland & 10,461 & 10,465 & 10,767 & 10,708 & 12,277 & 12,926 & 12,787 \\\\\n",
       "\t3 & Waikato & 3,254 & 3,281 & 3,434 & 3,480 & 3,852 & 4,162 & 4,415 \\\\\n",
       "\t4 & Bay of Plenty & 1,931 & 1,847 & 1,905 & 1,867 & 2,284 & 2,476 & 2,404 \\\\\n",
       "\t5 & Gisborne & 312 & 331 & 344 & 352 & 356 & 411 & 368 \\\\\n",
       "\t6 & Hawkes Bay & 1,190 & 1,109 & 1,112 & 1,062 & 1,208 & 1,324 & 1,262 \\\\\n",
       "\t7 & Taranaki & 828 & 802 & 770 & 773 & 828 & 810 & 896 \\\\\n",
       "\t8 & Manawatu-Wanganui & 1,739 & 1,599 & 1,629 & 1,720 & 1,792 & 1,829 & 1,945 \\\\\n",
       "\t9 & Wellington & 2,679 & 2,492 & 2,515 & 2,383 & 2,610 & 2,825 & 2,873 \\\\\n",
       "\t10 & Tasman & 246 & 286 & 276 & 217 & 246 & 345 & 281 \\\\\n",
       "\t11 & Nelson & 363 & 352 & 402 & 395 & 478 & 480 & 446 \\\\\n",
       "\t12 & Marlborough & 329 & 261 & 317 & 307 & 325 & 371 & 404 \\\\\n",
       "\t13 & Canterbury & 4,812 & 4,720 & 4,835 & 4,924 & 5,071 & 4,836 & 5,095 \\\\\n",
       "\t14 & West Coast & 346 & 301 & 322 & 301 & 377 & 339 & 374 \\\\\n",
       "\t15 & Otago & 1,479 & 1,442 & 1,450 & 1,516 & 1,672 & 1,806 & 1,955 \\\\\n",
       "\t16 & Southland & 677 & 627 & 618 & 692 & 775 & 749 & 849 \\\\\n",
       "\t17 & Other & 242 & 278 & 277 & 327 & 370 & 432 & 344 \\\\\n",
       "\\end{tabular}\n"
      ],
      "text/plain": [
       "17×8 DataFrame. Omitted printing of 2 columns\n",
       "│ Row │ features          │ 2011    │ 2012    │ 2013    │ 2014    │ 2015    │\n",
       "│     │ \u001b[90mString?\u001b[39m           │ \u001b[90mString?\u001b[39m │ \u001b[90mString?\u001b[39m │ \u001b[90mString?\u001b[39m │ \u001b[90mString?\u001b[39m │ \u001b[90mString?\u001b[39m │\n",
       "├─────┼───────────────────┼─────────┼─────────┼─────────┼─────────┼─────────┤\n",
       "│ 1   │ Northland         │ 1,411   │ 1,488   │ 1,472   │ 1,474   │ 1,624   │\n",
       "│ 2   │ Auckland          │ 10,461  │ 10,465  │ 10,767  │ 10,708  │ 12,277  │\n",
       "│ 3   │ Waikato           │ 3,254   │ 3,281   │ 3,434   │ 3,480   │ 3,852   │\n",
       "│ 4   │ Bay of Plenty     │ 1,931   │ 1,847   │ 1,905   │ 1,867   │ 2,284   │\n",
       "│ 5   │ Gisborne          │ 312     │ 331     │ 344     │ 352     │ 356     │\n",
       "│ 6   │ Hawkes Bay        │ 1,190   │ 1,109   │ 1,112   │ 1,062   │ 1,208   │\n",
       "│ 7   │ Taranaki          │ 828     │ 802     │ 770     │ 773     │ 828     │\n",
       "│ 8   │ Manawatu-Wanganui │ 1,739   │ 1,599   │ 1,629   │ 1,720   │ 1,792   │\n",
       "│ 9   │ Wellington        │ 2,679   │ 2,492   │ 2,515   │ 2,383   │ 2,610   │\n",
       "│ 10  │ Tasman            │ 246     │ 286     │ 276     │ 217     │ 246     │\n",
       "│ 11  │ Nelson            │ 363     │ 352     │ 402     │ 395     │ 478     │\n",
       "│ 12  │ Marlborough       │ 329     │ 261     │ 317     │ 307     │ 325     │\n",
       "│ 13  │ Canterbury        │ 4,812   │ 4,720   │ 4,835   │ 4,924   │ 5,071   │\n",
       "│ 14  │ West Coast        │ 346     │ 301     │ 322     │ 301     │ 377     │\n",
       "│ 15  │ Otago             │ 1,479   │ 1,442   │ 1,450   │ 1,516   │ 1,672   │\n",
       "│ 16  │ Southland         │ 677     │ 627     │ 618     │ 692     │ 775     │\n",
       "│ 17  │ Other             │ 242     │ 278     │ 277     │ 327     │ 370     │"
      ]
     },
     "execution_count": 29,
     "metadata": {},
     "output_type": "execute_result"
    }
   ],
   "source": [
    "#make wide tibble of region by years \n",
    "region_df2 = new_claims_csv[44:60, :]"
   ]
  },
  {
   "cell_type": "code",
   "execution_count": 30,
   "metadata": {},
   "outputs": [
    {
     "data": {
      "text/html": [
       "<table class=\"data-frame\"><thead><tr><th></th><th>features</th><th>years</th><th>new_claims</th></tr><tr><th></th><th>String?</th><th>Cat…</th><th>String?</th></tr></thead><tbody><p>56 rows × 3 columns</p><tr><th>1</th><td>00 to 19 Years of age</td><td>2011</td><td>6,465</td></tr><tr><th>2</th><td>20 to 29 Years of age</td><td>2011</td><td>7,562</td></tr><tr><th>3</th><td>30 to 39 Years of age</td><td>2011</td><td>4,650</td></tr><tr><th>4</th><td>40 to 49 Years of age</td><td>2011</td><td>5,170</td></tr><tr><th>5</th><td>50 to 59 Years of age</td><td>2011</td><td>4,034</td></tr><tr><th>6</th><td>60 to 69 Years of age</td><td>2011</td><td>2,379</td></tr><tr><th>7</th><td>70 to 79 Years of age</td><td>2011</td><td>1,259</td></tr><tr><th>8</th><td>80 Years and older</td><td>2011</td><td>780</td></tr><tr><th>9</th><td>00 to 19 Years of age</td><td>2012</td><td>5,863</td></tr><tr><th>10</th><td>20 to 29 Years of age</td><td>2012</td><td>7,438</td></tr><tr><th>11</th><td>30 to 39 Years of age</td><td>2012</td><td>4,594</td></tr><tr><th>12</th><td>40 to 49 Years of age</td><td>2012</td><td>5,108</td></tr><tr><th>13</th><td>50 to 59 Years of age</td><td>2012</td><td>4,094</td></tr><tr><th>14</th><td>60 to 69 Years of age</td><td>2012</td><td>2,452</td></tr><tr><th>15</th><td>70 to 79 Years of age</td><td>2012</td><td>1,364</td></tr><tr><th>16</th><td>80 Years and older</td><td>2012</td><td>768</td></tr><tr><th>17</th><td>00 to 19 Years of age</td><td>2013</td><td>5,932</td></tr><tr><th>18</th><td>20 to 29 Years of age</td><td>2013</td><td>7,528</td></tr><tr><th>19</th><td>30 to 39 Years of age</td><td>2013</td><td>4,706</td></tr><tr><th>20</th><td>40 to 49 Years of age</td><td>2013</td><td>5,104</td></tr><tr><th>21</th><td>50 to 59 Years of age</td><td>2013</td><td>4,305</td></tr><tr><th>22</th><td>60 to 69 Years of age</td><td>2013</td><td>2,612</td></tr><tr><th>23</th><td>70 to 79 Years of age</td><td>2013</td><td>1,426</td></tr><tr><th>24</th><td>80 Years and older</td><td>2013</td><td>832</td></tr><tr><th>25</th><td>00 to 19 Years of age</td><td>2014</td><td>5,780</td></tr><tr><th>26</th><td>20 to 29 Years of age</td><td>2014</td><td>7,802</td></tr><tr><th>27</th><td>30 to 39 Years of age</td><td>2014</td><td>4,719</td></tr><tr><th>28</th><td>40 to 49 Years of age</td><td>2014</td><td>4,958</td></tr><tr><th>29</th><td>50 to 59 Years of age</td><td>2014</td><td>4,454</td></tr><tr><th>30</th><td>60 to 69 Years of age</td><td>2014</td><td>2,673</td></tr><tr><th>&vellip;</th><td>&vellip;</td><td>&vellip;</td><td>&vellip;</td></tr></tbody></table>"
      ],
      "text/latex": [
       "\\begin{tabular}{r|ccc}\n",
       "\t& features & years & new\\_claims\\\\\n",
       "\t\\hline\n",
       "\t& String? & Cat… & String?\\\\\n",
       "\t\\hline\n",
       "\t1 & 00 to 19 Years of age & 2011 & 6,465 \\\\\n",
       "\t2 & 20 to 29 Years of age & 2011 & 7,562 \\\\\n",
       "\t3 & 30 to 39 Years of age & 2011 & 4,650 \\\\\n",
       "\t4 & 40 to 49 Years of age & 2011 & 5,170 \\\\\n",
       "\t5 & 50 to 59 Years of age & 2011 & 4,034 \\\\\n",
       "\t6 & 60 to 69 Years of age & 2011 & 2,379 \\\\\n",
       "\t7 & 70 to 79 Years of age & 2011 & 1,259 \\\\\n",
       "\t8 & 80 Years and older & 2011 & 780 \\\\\n",
       "\t9 & 00 to 19 Years of age & 2012 & 5,863 \\\\\n",
       "\t10 & 20 to 29 Years of age & 2012 & 7,438 \\\\\n",
       "\t11 & 30 to 39 Years of age & 2012 & 4,594 \\\\\n",
       "\t12 & 40 to 49 Years of age & 2012 & 5,108 \\\\\n",
       "\t13 & 50 to 59 Years of age & 2012 & 4,094 \\\\\n",
       "\t14 & 60 to 69 Years of age & 2012 & 2,452 \\\\\n",
       "\t15 & 70 to 79 Years of age & 2012 & 1,364 \\\\\n",
       "\t16 & 80 Years and older & 2012 & 768 \\\\\n",
       "\t17 & 00 to 19 Years of age & 2013 & 5,932 \\\\\n",
       "\t18 & 20 to 29 Years of age & 2013 & 7,528 \\\\\n",
       "\t19 & 30 to 39 Years of age & 2013 & 4,706 \\\\\n",
       "\t20 & 40 to 49 Years of age & 2013 & 5,104 \\\\\n",
       "\t21 & 50 to 59 Years of age & 2013 & 4,305 \\\\\n",
       "\t22 & 60 to 69 Years of age & 2013 & 2,612 \\\\\n",
       "\t23 & 70 to 79 Years of age & 2013 & 1,426 \\\\\n",
       "\t24 & 80 Years and older & 2013 & 832 \\\\\n",
       "\t25 & 00 to 19 Years of age & 2014 & 5,780 \\\\\n",
       "\t26 & 20 to 29 Years of age & 2014 & 7,802 \\\\\n",
       "\t27 & 30 to 39 Years of age & 2014 & 4,719 \\\\\n",
       "\t28 & 40 to 49 Years of age & 2014 & 4,958 \\\\\n",
       "\t29 & 50 to 59 Years of age & 2014 & 4,454 \\\\\n",
       "\t30 & 60 to 69 Years of age & 2014 & 2,673 \\\\\n",
       "\t$\\dots$ & $\\dots$ & $\\dots$ & $\\dots$ \\\\\n",
       "\\end{tabular}\n"
      ],
      "text/plain": [
       "56×3 DataFrame\n",
       "│ Row │ features              │ years │ new_claims │\n",
       "│     │ \u001b[90mString?\u001b[39m               │ \u001b[90mCat…\u001b[39m  │ \u001b[90mString?\u001b[39m    │\n",
       "├─────┼───────────────────────┼───────┼────────────┤\n",
       "│ 1   │ 00 to 19 Years of age │ 2011  │ 6,465      │\n",
       "│ 2   │ 20 to 29 Years of age │ 2011  │ 7,562      │\n",
       "│ 3   │ 30 to 39 Years of age │ 2011  │ 4,650      │\n",
       "│ 4   │ 40 to 49 Years of age │ 2011  │ 5,170      │\n",
       "│ 5   │ 50 to 59 Years of age │ 2011  │ 4,034      │\n",
       "│ 6   │ 60 to 69 Years of age │ 2011  │ 2,379      │\n",
       "│ 7   │ 70 to 79 Years of age │ 2011  │ 1,259      │\n",
       "│ 8   │ 80 Years and older    │ 2011  │ 780        │\n",
       "│ 9   │ 00 to 19 Years of age │ 2012  │ 5,863      │\n",
       "│ 10  │ 20 to 29 Years of age │ 2012  │ 7,438      │\n",
       "⋮\n",
       "│ 46  │ 60 to 69 Years of age │ 2016  │ 3,115      │\n",
       "│ 47  │ 70 to 79 Years of age │ 2016  │ 1,666      │\n",
       "│ 48  │ 80 Years and older    │ 2016  │ 917        │\n",
       "│ 49  │ 00 to 19 Years of age │ 2017  │ 6,706      │\n",
       "│ 50  │ 20 to 29 Years of age │ 2017  │ 9,600      │\n",
       "│ 51  │ 30 to 39 Years of age │ 2017  │ 5,835      │\n",
       "│ 52  │ 40 to 49 Years of age │ 2017  │ 5,462      │\n",
       "│ 53  │ 50 to 59 Years of age │ 2017  │ 5,100      │\n",
       "│ 54  │ 60 to 69 Years of age │ 2017  │ 3,259      │\n",
       "│ 55  │ 70 to 79 Years of age │ 2017  │ 1,781      │\n",
       "│ 56  │ 80 Years and older    │ 2017  │ 853        │"
      ]
     },
     "execution_count": 30,
     "metadata": {},
     "output_type": "execute_result"
    }
   ],
   "source": [
    "# Convert wide age_df2 to long\n",
    "age_long_df2 = stack(age_df2, 2:8, :features, variable_name= \"years\", value_name= \"new_claims\")"
   ]
  },
  {
   "cell_type": "code",
   "execution_count": 31,
   "metadata": {},
   "outputs": [
    {
     "data": {
      "text/html": [
       "<table class=\"data-frame\"><thead><tr><th></th><th>features</th><th>years</th><th>new_claims</th></tr><tr><th></th><th>String?</th><th>Cat…</th><th>String?</th></tr></thead><tbody><p>14 rows × 3 columns</p><tr><th>1</th><td>Female</td><td>2011</td><td>16,642</td></tr><tr><th>2</th><td>Male</td><td>2011</td><td>15,657</td></tr><tr><th>3</th><td>Female</td><td>2012</td><td>16,321</td></tr><tr><th>4</th><td>Male</td><td>2012</td><td>15,360</td></tr><tr><th>5</th><td>Female</td><td>2013</td><td>16,865</td></tr><tr><th>6</th><td>Male</td><td>2013</td><td>15,580</td></tr><tr><th>7</th><td>Female</td><td>2014</td><td>16,658</td></tr><tr><th>8</th><td>Male</td><td>2014</td><td>15,840</td></tr><tr><th>9</th><td>Female</td><td>2015</td><td>18,639</td></tr><tr><th>10</th><td>Male</td><td>2015</td><td>17,506</td></tr><tr><th>11</th><td>Female</td><td>2016</td><td>19,488</td></tr><tr><th>12</th><td>Male</td><td>2016</td><td>18,390</td></tr><tr><th>13</th><td>Female</td><td>2017</td><td>19,704</td></tr><tr><th>14</th><td>Male</td><td>2017</td><td>18,892</td></tr></tbody></table>"
      ],
      "text/latex": [
       "\\begin{tabular}{r|ccc}\n",
       "\t& features & years & new\\_claims\\\\\n",
       "\t\\hline\n",
       "\t& String? & Cat… & String?\\\\\n",
       "\t\\hline\n",
       "\t1 & Female & 2011 & 16,642 \\\\\n",
       "\t2 & Male & 2011 & 15,657 \\\\\n",
       "\t3 & Female & 2012 & 16,321 \\\\\n",
       "\t4 & Male & 2012 & 15,360 \\\\\n",
       "\t5 & Female & 2013 & 16,865 \\\\\n",
       "\t6 & Male & 2013 & 15,580 \\\\\n",
       "\t7 & Female & 2014 & 16,658 \\\\\n",
       "\t8 & Male & 2014 & 15,840 \\\\\n",
       "\t9 & Female & 2015 & 18,639 \\\\\n",
       "\t10 & Male & 2015 & 17,506 \\\\\n",
       "\t11 & Female & 2016 & 19,488 \\\\\n",
       "\t12 & Male & 2016 & 18,390 \\\\\n",
       "\t13 & Female & 2017 & 19,704 \\\\\n",
       "\t14 & Male & 2017 & 18,892 \\\\\n",
       "\\end{tabular}\n"
      ],
      "text/plain": [
       "14×3 DataFrame\n",
       "│ Row │ features │ years │ new_claims │\n",
       "│     │ \u001b[90mString?\u001b[39m  │ \u001b[90mCat…\u001b[39m  │ \u001b[90mString?\u001b[39m    │\n",
       "├─────┼──────────┼───────┼────────────┤\n",
       "│ 1   │ Female   │ 2011  │ 16,642     │\n",
       "│ 2   │ Male     │ 2011  │ 15,657     │\n",
       "│ 3   │ Female   │ 2012  │ 16,321     │\n",
       "│ 4   │ Male     │ 2012  │ 15,360     │\n",
       "│ 5   │ Female   │ 2013  │ 16,865     │\n",
       "│ 6   │ Male     │ 2013  │ 15,580     │\n",
       "│ 7   │ Female   │ 2014  │ 16,658     │\n",
       "│ 8   │ Male     │ 2014  │ 15,840     │\n",
       "│ 9   │ Female   │ 2015  │ 18,639     │\n",
       "│ 10  │ Male     │ 2015  │ 17,506     │\n",
       "│ 11  │ Female   │ 2016  │ 19,488     │\n",
       "│ 12  │ Male     │ 2016  │ 18,390     │\n",
       "│ 13  │ Female   │ 2017  │ 19,704     │\n",
       "│ 14  │ Male     │ 2017  │ 18,892     │"
      ]
     },
     "execution_count": 31,
     "metadata": {},
     "output_type": "execute_result"
    }
   ],
   "source": [
    "# Convert wide gender_df2 to long\n",
    "gender_long_df2 = stack(gender_df2, 2:8, :features, variable_name= \"years\", value_name= \"new_claims\")"
   ]
  },
  {
   "cell_type": "code",
   "execution_count": 32,
   "metadata": {},
   "outputs": [
    {
     "data": {
      "text/html": [
       "<table class=\"data-frame\"><thead><tr><th></th><th>features</th><th>years</th><th>new_claims</th></tr><tr><th></th><th>String?</th><th>Cat…</th><th>String?</th></tr></thead><tbody><p>35 rows × 3 columns</p><tr><th>1</th><td>Asian</td><td>2011</td><td>2,784</td></tr><tr><th>2</th><td>European</td><td>2011</td><td>21,170</td></tr><tr><th>3</th><td>Maori</td><td>2011</td><td>4,450</td></tr><tr><th>4</th><td>Other Ethnicities /Not stated</td><td>2011</td><td>2,320</td></tr><tr><th>5</th><td>Pacific Peoples</td><td>2011</td><td>1,575</td></tr><tr><th>6</th><td>Asian</td><td>2012</td><td>2,917</td></tr><tr><th>7</th><td>European</td><td>2012</td><td>20,661</td></tr><tr><th>8</th><td>Maori</td><td>2012</td><td>4,311</td></tr><tr><th>9</th><td>Other Ethnicities /Not stated</td><td>2012</td><td>2,271</td></tr><tr><th>10</th><td>Pacific Peoples</td><td>2012</td><td>1,521</td></tr><tr><th>11</th><td>Asian</td><td>2013</td><td>2,982</td></tr><tr><th>12</th><td>European</td><td>2013</td><td>21,079</td></tr><tr><th>13</th><td>Maori</td><td>2013</td><td>4,347</td></tr><tr><th>14</th><td>Other Ethnicities /Not stated</td><td>2013</td><td>2,322</td></tr><tr><th>15</th><td>Pacific Peoples</td><td>2013</td><td>1,715</td></tr><tr><th>16</th><td>Asian</td><td>2014</td><td>3,191</td></tr><tr><th>17</th><td>European</td><td>2014</td><td>20,784</td></tr><tr><th>18</th><td>Maori</td><td>2014</td><td>4,564</td></tr><tr><th>19</th><td>Other Ethnicities /Not stated</td><td>2014</td><td>2,206</td></tr><tr><th>20</th><td>Pacific Peoples</td><td>2014</td><td>1,753</td></tr><tr><th>21</th><td>Asian</td><td>2015</td><td>3,874</td></tr><tr><th>22</th><td>European</td><td>2015</td><td>22,567</td></tr><tr><th>23</th><td>Maori</td><td>2015</td><td>5,399</td></tr><tr><th>24</th><td>Other Ethnicities /Not stated</td><td>2015</td><td>2,256</td></tr><tr><th>25</th><td>Pacific Peoples</td><td>2015</td><td>2,049</td></tr><tr><th>26</th><td>Asian</td><td>2016</td><td>4,042</td></tr><tr><th>27</th><td>European</td><td>2016</td><td>23,416</td></tr><tr><th>28</th><td>Maori</td><td>2016</td><td>5,842</td></tr><tr><th>29</th><td>Other Ethnicities /Not stated</td><td>2016</td><td>2,368</td></tr><tr><th>30</th><td>Pacific Peoples</td><td>2016</td><td>2,210</td></tr><tr><th>&vellip;</th><td>&vellip;</td><td>&vellip;</td><td>&vellip;</td></tr></tbody></table>"
      ],
      "text/latex": [
       "\\begin{tabular}{r|ccc}\n",
       "\t& features & years & new\\_claims\\\\\n",
       "\t\\hline\n",
       "\t& String? & Cat… & String?\\\\\n",
       "\t\\hline\n",
       "\t1 & Asian & 2011 & 2,784 \\\\\n",
       "\t2 & European & 2011 & 21,170 \\\\\n",
       "\t3 & Maori & 2011 & 4,450 \\\\\n",
       "\t4 & Other Ethnicities /Not stated & 2011 & 2,320 \\\\\n",
       "\t5 & Pacific Peoples & 2011 & 1,575 \\\\\n",
       "\t6 & Asian & 2012 & 2,917 \\\\\n",
       "\t7 & European & 2012 & 20,661 \\\\\n",
       "\t8 & Maori & 2012 & 4,311 \\\\\n",
       "\t9 & Other Ethnicities /Not stated & 2012 & 2,271 \\\\\n",
       "\t10 & Pacific Peoples & 2012 & 1,521 \\\\\n",
       "\t11 & Asian & 2013 & 2,982 \\\\\n",
       "\t12 & European & 2013 & 21,079 \\\\\n",
       "\t13 & Maori & 2013 & 4,347 \\\\\n",
       "\t14 & Other Ethnicities /Not stated & 2013 & 2,322 \\\\\n",
       "\t15 & Pacific Peoples & 2013 & 1,715 \\\\\n",
       "\t16 & Asian & 2014 & 3,191 \\\\\n",
       "\t17 & European & 2014 & 20,784 \\\\\n",
       "\t18 & Maori & 2014 & 4,564 \\\\\n",
       "\t19 & Other Ethnicities /Not stated & 2014 & 2,206 \\\\\n",
       "\t20 & Pacific Peoples & 2014 & 1,753 \\\\\n",
       "\t21 & Asian & 2015 & 3,874 \\\\\n",
       "\t22 & European & 2015 & 22,567 \\\\\n",
       "\t23 & Maori & 2015 & 5,399 \\\\\n",
       "\t24 & Other Ethnicities /Not stated & 2015 & 2,256 \\\\\n",
       "\t25 & Pacific Peoples & 2015 & 2,049 \\\\\n",
       "\t26 & Asian & 2016 & 4,042 \\\\\n",
       "\t27 & European & 2016 & 23,416 \\\\\n",
       "\t28 & Maori & 2016 & 5,842 \\\\\n",
       "\t29 & Other Ethnicities /Not stated & 2016 & 2,368 \\\\\n",
       "\t30 & Pacific Peoples & 2016 & 2,210 \\\\\n",
       "\t$\\dots$ & $\\dots$ & $\\dots$ & $\\dots$ \\\\\n",
       "\\end{tabular}\n"
      ],
      "text/plain": [
       "35×3 DataFrame\n",
       "│ Row │ features                      │ years │ new_claims │\n",
       "│     │ \u001b[90mUnion{Missing, String}\u001b[39m        │ \u001b[90mCat…\u001b[39m  │ \u001b[90mString?\u001b[39m    │\n",
       "├─────┼───────────────────────────────┼───────┼────────────┤\n",
       "│ 1   │ Asian                         │ 2011  │ 2,784      │\n",
       "│ 2   │ European                      │ 2011  │ 21,170     │\n",
       "│ 3   │ Maori                         │ 2011  │ 4,450      │\n",
       "│ 4   │ Other Ethnicities /Not stated │ 2011  │ 2,320      │\n",
       "│ 5   │ Pacific Peoples               │ 2011  │ 1,575      │\n",
       "│ 6   │ Asian                         │ 2012  │ 2,917      │\n",
       "│ 7   │ European                      │ 2012  │ 20,661     │\n",
       "│ 8   │ Maori                         │ 2012  │ 4,311      │\n",
       "│ 9   │ Other Ethnicities /Not stated │ 2012  │ 2,271      │\n",
       "│ 10  │ Pacific Peoples               │ 2012  │ 1,521      │\n",
       "⋮\n",
       "│ 25  │ Pacific Peoples               │ 2015  │ 2,049      │\n",
       "│ 26  │ Asian                         │ 2016  │ 4,042      │\n",
       "│ 27  │ European                      │ 2016  │ 23,416     │\n",
       "│ 28  │ Maori                         │ 2016  │ 5,842      │\n",
       "│ 29  │ Other Ethnicities /Not stated │ 2016  │ 2,368      │\n",
       "│ 30  │ Pacific Peoples               │ 2016  │ 2,210      │\n",
       "│ 31  │ Asian                         │ 2017  │ 4,401      │\n",
       "│ 32  │ European                      │ 2017  │ 23,420     │\n",
       "│ 33  │ Maori                         │ 2017  │ 6,015      │\n",
       "│ 34  │ Other Ethnicities /Not stated │ 2017  │ 2,596      │\n",
       "│ 35  │ Pacific Peoples               │ 2017  │ 2,164      │"
      ]
     },
     "execution_count": 32,
     "metadata": {},
     "output_type": "execute_result"
    }
   ],
   "source": [
    "# Convert wide ethnicity_df2 to long\n",
    "\n",
    "ethnicity_long_df2 = stack(ethnicity_df2, 2:8, :features, variable_name= \"years\", value_name= \"new_claims\")"
   ]
  },
  {
   "cell_type": "code",
   "execution_count": 33,
   "metadata": {},
   "outputs": [
    {
     "data": {
      "text/html": [
       "<table class=\"data-frame\"><thead><tr><th></th><th>features</th><th>years</th><th>new_claims</th></tr><tr><th></th><th>String?</th><th>Cat…</th><th>String?</th></tr></thead><tbody><p>84 rows × 3 columns</p><tr><th>1</th><td>January </td><td>2011</td><td>2,416</td></tr><tr><th>2</th><td>February</td><td>2011</td><td>2,723</td></tr><tr><th>3</th><td>March</td><td>2011</td><td>3,075</td></tr><tr><th>4</th><td>April</td><td>2011</td><td>2,510</td></tr><tr><th>5</th><td>May</td><td>2011</td><td>2,989</td></tr><tr><th>6</th><td>June</td><td>2011</td><td>2,597</td></tr><tr><th>7</th><td>July</td><td>2011</td><td>2,652</td></tr><tr><th>8</th><td>August</td><td>2011</td><td>2,839</td></tr><tr><th>9</th><td>September</td><td>2011</td><td>2,679</td></tr><tr><th>10</th><td>October</td><td>2011</td><td>2,510</td></tr><tr><th>11</th><td>November</td><td>2011</td><td>2,698</td></tr><tr><th>12</th><td>December</td><td>2011</td><td>2,611</td></tr><tr><th>13</th><td>January </td><td>2012</td><td>2,575</td></tr><tr><th>14</th><td>February</td><td>2012</td><td>2,549</td></tr><tr><th>15</th><td>March</td><td>2012</td><td>2,982</td></tr><tr><th>16</th><td>April</td><td>2012</td><td>2,855</td></tr><tr><th>17</th><td>May</td><td>2012</td><td>2,853</td></tr><tr><th>18</th><td>June</td><td>2012</td><td>2,509</td></tr><tr><th>19</th><td>July</td><td>2012</td><td>2,755</td></tr><tr><th>20</th><td>August</td><td>2012</td><td>2,565</td></tr><tr><th>21</th><td>September</td><td>2012</td><td>2,186</td></tr><tr><th>22</th><td>October</td><td>2012</td><td>2,574</td></tr><tr><th>23</th><td>November</td><td>2012</td><td>2,819</td></tr><tr><th>24</th><td>December</td><td>2012</td><td>2,459</td></tr><tr><th>25</th><td>January </td><td>2013</td><td>2,578</td></tr><tr><th>26</th><td>February</td><td>2013</td><td>2,583</td></tr><tr><th>27</th><td>March</td><td>2013</td><td>2,928</td></tr><tr><th>28</th><td>April</td><td>2013</td><td>2,695</td></tr><tr><th>29</th><td>May</td><td>2013</td><td>2,899</td></tr><tr><th>30</th><td>June</td><td>2013</td><td>2,808</td></tr><tr><th>&vellip;</th><td>&vellip;</td><td>&vellip;</td><td>&vellip;</td></tr></tbody></table>"
      ],
      "text/latex": [
       "\\begin{tabular}{r|ccc}\n",
       "\t& features & years & new\\_claims\\\\\n",
       "\t\\hline\n",
       "\t& String? & Cat… & String?\\\\\n",
       "\t\\hline\n",
       "\t1 & January  & 2011 & 2,416 \\\\\n",
       "\t2 & February & 2011 & 2,723 \\\\\n",
       "\t3 & March & 2011 & 3,075 \\\\\n",
       "\t4 & April & 2011 & 2,510 \\\\\n",
       "\t5 & May & 2011 & 2,989 \\\\\n",
       "\t6 & June & 2011 & 2,597 \\\\\n",
       "\t7 & July & 2011 & 2,652 \\\\\n",
       "\t8 & August & 2011 & 2,839 \\\\\n",
       "\t9 & September & 2011 & 2,679 \\\\\n",
       "\t10 & October & 2011 & 2,510 \\\\\n",
       "\t11 & November & 2011 & 2,698 \\\\\n",
       "\t12 & December & 2011 & 2,611 \\\\\n",
       "\t13 & January  & 2012 & 2,575 \\\\\n",
       "\t14 & February & 2012 & 2,549 \\\\\n",
       "\t15 & March & 2012 & 2,982 \\\\\n",
       "\t16 & April & 2012 & 2,855 \\\\\n",
       "\t17 & May & 2012 & 2,853 \\\\\n",
       "\t18 & June & 2012 & 2,509 \\\\\n",
       "\t19 & July & 2012 & 2,755 \\\\\n",
       "\t20 & August & 2012 & 2,565 \\\\\n",
       "\t21 & September & 2012 & 2,186 \\\\\n",
       "\t22 & October & 2012 & 2,574 \\\\\n",
       "\t23 & November & 2012 & 2,819 \\\\\n",
       "\t24 & December & 2012 & 2,459 \\\\\n",
       "\t25 & January  & 2013 & 2,578 \\\\\n",
       "\t26 & February & 2013 & 2,583 \\\\\n",
       "\t27 & March & 2013 & 2,928 \\\\\n",
       "\t28 & April & 2013 & 2,695 \\\\\n",
       "\t29 & May & 2013 & 2,899 \\\\\n",
       "\t30 & June & 2013 & 2,808 \\\\\n",
       "\t$\\dots$ & $\\dots$ & $\\dots$ & $\\dots$ \\\\\n",
       "\\end{tabular}\n"
      ],
      "text/plain": [
       "84×3 DataFrame\n",
       "│ Row │ features  │ years │ new_claims │\n",
       "│     │ \u001b[90mString?\u001b[39m   │ \u001b[90mCat…\u001b[39m  │ \u001b[90mString?\u001b[39m    │\n",
       "├─────┼───────────┼───────┼────────────┤\n",
       "│ 1   │ January   │ 2011  │ 2,416      │\n",
       "│ 2   │ February  │ 2011  │ 2,723      │\n",
       "│ 3   │ March     │ 2011  │ 3,075      │\n",
       "│ 4   │ April     │ 2011  │ 2,510      │\n",
       "│ 5   │ May       │ 2011  │ 2,989      │\n",
       "│ 6   │ June      │ 2011  │ 2,597      │\n",
       "│ 7   │ July      │ 2011  │ 2,652      │\n",
       "│ 8   │ August    │ 2011  │ 2,839      │\n",
       "│ 9   │ September │ 2011  │ 2,679      │\n",
       "│ 10  │ October   │ 2011  │ 2,510      │\n",
       "⋮\n",
       "│ 74  │ February  │ 2017  │ 3,387      │\n",
       "│ 75  │ March     │ 2017  │ 3,400      │\n",
       "│ 76  │ April     │ 2017  │ 3,045      │\n",
       "│ 77  │ May       │ 2017  │ 3,707      │\n",
       "│ 78  │ June      │ 2017  │ 3,182      │\n",
       "│ 79  │ July      │ 2017  │ 3,155      │\n",
       "│ 80  │ August    │ 2017  │ 3,238      │\n",
       "│ 81  │ September │ 2017  │ 3,108      │\n",
       "│ 82  │ October   │ 2017  │ 3,028      │\n",
       "│ 83  │ November  │ 2017  │ 3,190      │\n",
       "│ 84  │ December  │ 2017  │ 3,021      │"
      ]
     },
     "execution_count": 33,
     "metadata": {},
     "output_type": "execute_result"
    }
   ],
   "source": [
    "# Convert wide months_df2 to long\n",
    "\n",
    "months_long_df2 = stack(months_df2, 2:8, :features, variable_name= \"years\", value_name= \"new_claims\")"
   ]
  },
  {
   "cell_type": "code",
   "execution_count": 34,
   "metadata": {},
   "outputs": [
    {
     "data": {
      "text/html": [
       "<table class=\"data-frame\"><thead><tr><th></th><th>features</th><th>years</th><th>new_claims</th></tr><tr><th></th><th>String?</th><th>Cat…</th><th>String?</th></tr></thead><tbody><p>70 rows × 3 columns</p><tr><th>1</th><td>ATV</td><td>2011</td><td>10</td></tr><tr><th>2</th><td>Cycling</td><td>2011</td><td>1,708</td></tr><tr><th>3</th><td>Driving/Passenger - Bus</td><td>2011</td><td>574</td></tr><tr><th>4</th><td>Driving/Passenger - Car</td><td>2011</td><td>22,939</td></tr><tr><th>5</th><td>Driving/Passenger - Motorcycle</td><td>2011</td><td>3,644</td></tr><tr><th>6</th><td>Driving/Passenger - Truck</td><td>2011</td><td>481</td></tr><tr><th>7</th><td>Driving/Passenger-Other Veh</td><td>2011</td><td>618</td></tr><tr><th>8</th><td>Not Obtainable</td><td>2011</td><td>22</td></tr><tr><th>9</th><td>Other</td><td>2011</td><td>150</td></tr><tr><th>10</th><td>Pedestrian</td><td>2011</td><td>2,153</td></tr><tr><th>11</th><td>ATV</td><td>2012</td><td>18</td></tr><tr><th>12</th><td>Cycling</td><td>2012</td><td>1,747</td></tr><tr><th>13</th><td>Driving/Passenger - Bus</td><td>2012</td><td>587</td></tr><tr><th>14</th><td>Driving/Passenger - Car</td><td>2012</td><td>22,412</td></tr><tr><th>15</th><td>Driving/Passenger - Motorcycle</td><td>2012</td><td>3,524</td></tr><tr><th>16</th><td>Driving/Passenger - Truck</td><td>2012</td><td>494</td></tr><tr><th>17</th><td>Driving/Passenger-Other Veh</td><td>2012</td><td>731</td></tr><tr><th>18</th><td>Not Obtainable</td><td>2012</td><td>28</td></tr><tr><th>19</th><td>Other</td><td>2012</td><td>177</td></tr><tr><th>20</th><td>Pedestrian</td><td>2012</td><td>1,963</td></tr><tr><th>21</th><td>ATV</td><td>2013</td><td>43</td></tr><tr><th>22</th><td>Cycling</td><td>2013</td><td>1,680</td></tr><tr><th>23</th><td>Driving/Passenger - Bus</td><td>2013</td><td>556</td></tr><tr><th>24</th><td>Driving/Passenger - Car</td><td>2013</td><td>23,057</td></tr><tr><th>25</th><td>Driving/Passenger - Motorcycle</td><td>2013</td><td>3,687</td></tr><tr><th>26</th><td>Driving/Passenger - Truck</td><td>2013</td><td>507</td></tr><tr><th>27</th><td>Driving/Passenger-Other Veh</td><td>2013</td><td>866</td></tr><tr><th>28</th><td>Not Obtainable</td><td>2013</td><td>22</td></tr><tr><th>29</th><td>Other</td><td>2013</td><td>205</td></tr><tr><th>30</th><td>Pedestrian</td><td>2013</td><td>1,822</td></tr><tr><th>&vellip;</th><td>&vellip;</td><td>&vellip;</td><td>&vellip;</td></tr></tbody></table>"
      ],
      "text/latex": [
       "\\begin{tabular}{r|ccc}\n",
       "\t& features & years & new\\_claims\\\\\n",
       "\t\\hline\n",
       "\t& String? & Cat… & String?\\\\\n",
       "\t\\hline\n",
       "\t1 & ATV & 2011 & 10 \\\\\n",
       "\t2 & Cycling & 2011 & 1,708 \\\\\n",
       "\t3 & Driving/Passenger - Bus & 2011 & 574 \\\\\n",
       "\t4 & Driving/Passenger - Car & 2011 & 22,939 \\\\\n",
       "\t5 & Driving/Passenger - Motorcycle & 2011 & 3,644 \\\\\n",
       "\t6 & Driving/Passenger - Truck & 2011 & 481 \\\\\n",
       "\t7 & Driving/Passenger-Other Veh & 2011 & 618 \\\\\n",
       "\t8 & Not Obtainable & 2011 & 22 \\\\\n",
       "\t9 & Other & 2011 & 150 \\\\\n",
       "\t10 & Pedestrian & 2011 & 2,153 \\\\\n",
       "\t11 & ATV & 2012 & 18 \\\\\n",
       "\t12 & Cycling & 2012 & 1,747 \\\\\n",
       "\t13 & Driving/Passenger - Bus & 2012 & 587 \\\\\n",
       "\t14 & Driving/Passenger - Car & 2012 & 22,412 \\\\\n",
       "\t15 & Driving/Passenger - Motorcycle & 2012 & 3,524 \\\\\n",
       "\t16 & Driving/Passenger - Truck & 2012 & 494 \\\\\n",
       "\t17 & Driving/Passenger-Other Veh & 2012 & 731 \\\\\n",
       "\t18 & Not Obtainable & 2012 & 28 \\\\\n",
       "\t19 & Other & 2012 & 177 \\\\\n",
       "\t20 & Pedestrian & 2012 & 1,963 \\\\\n",
       "\t21 & ATV & 2013 & 43 \\\\\n",
       "\t22 & Cycling & 2013 & 1,680 \\\\\n",
       "\t23 & Driving/Passenger - Bus & 2013 & 556 \\\\\n",
       "\t24 & Driving/Passenger - Car & 2013 & 23,057 \\\\\n",
       "\t25 & Driving/Passenger - Motorcycle & 2013 & 3,687 \\\\\n",
       "\t26 & Driving/Passenger - Truck & 2013 & 507 \\\\\n",
       "\t27 & Driving/Passenger-Other Veh & 2013 & 866 \\\\\n",
       "\t28 & Not Obtainable & 2013 & 22 \\\\\n",
       "\t29 & Other & 2013 & 205 \\\\\n",
       "\t30 & Pedestrian & 2013 & 1,822 \\\\\n",
       "\t$\\dots$ & $\\dots$ & $\\dots$ & $\\dots$ \\\\\n",
       "\\end{tabular}\n"
      ],
      "text/plain": [
       "70×3 DataFrame\n",
       "│ Row │ features                       │ years │ new_claims │\n",
       "│     │ \u001b[90mUnion{Missing, String}\u001b[39m         │ \u001b[90mCat…\u001b[39m  │ \u001b[90mString?\u001b[39m    │\n",
       "├─────┼────────────────────────────────┼───────┼────────────┤\n",
       "│ 1   │ ATV                            │ 2011  │ 10         │\n",
       "│ 2   │ Cycling                        │ 2011  │ 1,708      │\n",
       "│ 3   │ Driving/Passenger - Bus        │ 2011  │ 574        │\n",
       "│ 4   │ Driving/Passenger - Car        │ 2011  │ 22,939     │\n",
       "│ 5   │ Driving/Passenger - Motorcycle │ 2011  │ 3,644      │\n",
       "│ 6   │ Driving/Passenger - Truck      │ 2011  │ 481        │\n",
       "│ 7   │ Driving/Passenger-Other Veh    │ 2011  │ 618        │\n",
       "│ 8   │ Not Obtainable                 │ 2011  │ 22         │\n",
       "│ 9   │ Other                          │ 2011  │ 150        │\n",
       "│ 10  │ Pedestrian                     │ 2011  │ 2,153      │\n",
       "⋮\n",
       "│ 60  │ Pedestrian                     │ 2016  │ 2,017      │\n",
       "│ 61  │ ATV                            │ 2017  │ 45         │\n",
       "│ 62  │ Cycling                        │ 2017  │ 1,461      │\n",
       "│ 63  │ Driving/Passenger - Bus        │ 2017  │ 587        │\n",
       "│ 64  │ Driving/Passenger - Car        │ 2017  │ 26,712     │\n",
       "│ 65  │ Driving/Passenger - Motorcycle │ 2017  │ 4,205      │\n",
       "│ 66  │ Driving/Passenger - Truck      │ 2017  │ 613        │\n",
       "│ 67  │ Driving/Passenger-Other Veh    │ 2017  │ 2,581      │\n",
       "│ 68  │ Not Obtainable                 │ 2017  │ 198        │\n",
       "│ 69  │ Other                          │ 2017  │ 210        │\n",
       "│ 70  │ Pedestrian                     │ 2017  │ 1,984      │"
      ]
     },
     "execution_count": 34,
     "metadata": {},
     "output_type": "execute_result"
    }
   ],
   "source": [
    "# Convert wide road_factor_df to long\n",
    "\n",
    "road_factor_long_df2 = stack(road_factor_df2, 2:8, :features, variable_name= \"years\", value_name= \"new_claims\")"
   ]
  },
  {
   "cell_type": "code",
   "execution_count": 35,
   "metadata": {},
   "outputs": [
    {
     "data": {
      "text/html": [
       "<table class=\"data-frame\"><thead><tr><th></th><th>features</th><th>years</th><th>new_claims</th></tr><tr><th></th><th>String?</th><th>Cat…</th><th>String?</th></tr></thead><tbody><p>119 rows × 3 columns</p><tr><th>1</th><td>Northland</td><td>2011</td><td>1,411</td></tr><tr><th>2</th><td>Auckland</td><td>2011</td><td>10,461</td></tr><tr><th>3</th><td>Waikato</td><td>2011</td><td>3,254</td></tr><tr><th>4</th><td>Bay of Plenty</td><td>2011</td><td>1,931</td></tr><tr><th>5</th><td>Gisborne</td><td>2011</td><td>312</td></tr><tr><th>6</th><td>Hawkes Bay</td><td>2011</td><td>1,190</td></tr><tr><th>7</th><td>Taranaki</td><td>2011</td><td>828</td></tr><tr><th>8</th><td>Manawatu-Wanganui</td><td>2011</td><td>1,739</td></tr><tr><th>9</th><td>Wellington</td><td>2011</td><td>2,679</td></tr><tr><th>10</th><td>Tasman</td><td>2011</td><td>246</td></tr><tr><th>11</th><td>Nelson</td><td>2011</td><td>363</td></tr><tr><th>12</th><td>Marlborough</td><td>2011</td><td>329</td></tr><tr><th>13</th><td>Canterbury</td><td>2011</td><td>4,812</td></tr><tr><th>14</th><td>West Coast</td><td>2011</td><td>346</td></tr><tr><th>15</th><td>Otago</td><td>2011</td><td>1,479</td></tr><tr><th>16</th><td>Southland</td><td>2011</td><td>677</td></tr><tr><th>17</th><td>Other</td><td>2011</td><td>242</td></tr><tr><th>18</th><td>Northland</td><td>2012</td><td>1,488</td></tr><tr><th>19</th><td>Auckland</td><td>2012</td><td>10,465</td></tr><tr><th>20</th><td>Waikato</td><td>2012</td><td>3,281</td></tr><tr><th>21</th><td>Bay of Plenty</td><td>2012</td><td>1,847</td></tr><tr><th>22</th><td>Gisborne</td><td>2012</td><td>331</td></tr><tr><th>23</th><td>Hawkes Bay</td><td>2012</td><td>1,109</td></tr><tr><th>24</th><td>Taranaki</td><td>2012</td><td>802</td></tr><tr><th>25</th><td>Manawatu-Wanganui</td><td>2012</td><td>1,599</td></tr><tr><th>26</th><td>Wellington</td><td>2012</td><td>2,492</td></tr><tr><th>27</th><td>Tasman</td><td>2012</td><td>286</td></tr><tr><th>28</th><td>Nelson</td><td>2012</td><td>352</td></tr><tr><th>29</th><td>Marlborough</td><td>2012</td><td>261</td></tr><tr><th>30</th><td>Canterbury</td><td>2012</td><td>4,720</td></tr><tr><th>&vellip;</th><td>&vellip;</td><td>&vellip;</td><td>&vellip;</td></tr></tbody></table>"
      ],
      "text/latex": [
       "\\begin{tabular}{r|ccc}\n",
       "\t& features & years & new\\_claims\\\\\n",
       "\t\\hline\n",
       "\t& String? & Cat… & String?\\\\\n",
       "\t\\hline\n",
       "\t1 & Northland & 2011 & 1,411 \\\\\n",
       "\t2 & Auckland & 2011 & 10,461 \\\\\n",
       "\t3 & Waikato & 2011 & 3,254 \\\\\n",
       "\t4 & Bay of Plenty & 2011 & 1,931 \\\\\n",
       "\t5 & Gisborne & 2011 & 312 \\\\\n",
       "\t6 & Hawkes Bay & 2011 & 1,190 \\\\\n",
       "\t7 & Taranaki & 2011 & 828 \\\\\n",
       "\t8 & Manawatu-Wanganui & 2011 & 1,739 \\\\\n",
       "\t9 & Wellington & 2011 & 2,679 \\\\\n",
       "\t10 & Tasman & 2011 & 246 \\\\\n",
       "\t11 & Nelson & 2011 & 363 \\\\\n",
       "\t12 & Marlborough & 2011 & 329 \\\\\n",
       "\t13 & Canterbury & 2011 & 4,812 \\\\\n",
       "\t14 & West Coast & 2011 & 346 \\\\\n",
       "\t15 & Otago & 2011 & 1,479 \\\\\n",
       "\t16 & Southland & 2011 & 677 \\\\\n",
       "\t17 & Other & 2011 & 242 \\\\\n",
       "\t18 & Northland & 2012 & 1,488 \\\\\n",
       "\t19 & Auckland & 2012 & 10,465 \\\\\n",
       "\t20 & Waikato & 2012 & 3,281 \\\\\n",
       "\t21 & Bay of Plenty & 2012 & 1,847 \\\\\n",
       "\t22 & Gisborne & 2012 & 331 \\\\\n",
       "\t23 & Hawkes Bay & 2012 & 1,109 \\\\\n",
       "\t24 & Taranaki & 2012 & 802 \\\\\n",
       "\t25 & Manawatu-Wanganui & 2012 & 1,599 \\\\\n",
       "\t26 & Wellington & 2012 & 2,492 \\\\\n",
       "\t27 & Tasman & 2012 & 286 \\\\\n",
       "\t28 & Nelson & 2012 & 352 \\\\\n",
       "\t29 & Marlborough & 2012 & 261 \\\\\n",
       "\t30 & Canterbury & 2012 & 4,720 \\\\\n",
       "\t$\\dots$ & $\\dots$ & $\\dots$ & $\\dots$ \\\\\n",
       "\\end{tabular}\n"
      ],
      "text/plain": [
       "119×3 DataFrame\n",
       "│ Row │ features          │ years │ new_claims │\n",
       "│     │ \u001b[90mString?\u001b[39m           │ \u001b[90mCat…\u001b[39m  │ \u001b[90mString?\u001b[39m    │\n",
       "├─────┼───────────────────┼───────┼────────────┤\n",
       "│ 1   │ Northland         │ 2011  │ 1,411      │\n",
       "│ 2   │ Auckland          │ 2011  │ 10,461     │\n",
       "│ 3   │ Waikato           │ 2011  │ 3,254      │\n",
       "│ 4   │ Bay of Plenty     │ 2011  │ 1,931      │\n",
       "│ 5   │ Gisborne          │ 2011  │ 312        │\n",
       "│ 6   │ Hawkes Bay        │ 2011  │ 1,190      │\n",
       "│ 7   │ Taranaki          │ 2011  │ 828        │\n",
       "│ 8   │ Manawatu-Wanganui │ 2011  │ 1,739      │\n",
       "│ 9   │ Wellington        │ 2011  │ 2,679      │\n",
       "│ 10  │ Tasman            │ 2011  │ 246        │\n",
       "⋮\n",
       "│ 109 │ Taranaki          │ 2017  │ 896        │\n",
       "│ 110 │ Manawatu-Wanganui │ 2017  │ 1,945      │\n",
       "│ 111 │ Wellington        │ 2017  │ 2,873      │\n",
       "│ 112 │ Tasman            │ 2017  │ 281        │\n",
       "│ 113 │ Nelson            │ 2017  │ 446        │\n",
       "│ 114 │ Marlborough       │ 2017  │ 404        │\n",
       "│ 115 │ Canterbury        │ 2017  │ 5,095      │\n",
       "│ 116 │ West Coast        │ 2017  │ 374        │\n",
       "│ 117 │ Otago             │ 2017  │ 1,955      │\n",
       "│ 118 │ Southland         │ 2017  │ 849        │\n",
       "│ 119 │ Other             │ 2017  │ 344        │"
      ]
     },
     "execution_count": 35,
     "metadata": {},
     "output_type": "execute_result"
    }
   ],
   "source": [
    "# Convert wide region_df2 to long\n",
    "region_long_df2 = stack(region_df2, 2:8, :features, variable_name= \"years\", value_name= \"new_claims\") "
   ]
  },
  {
   "cell_type": "markdown",
   "metadata": {},
   "source": [
    "## Joining Active Claims and New Claims dataframes to form a single dataframe\n",
    "#gender\n",
    "#age \n",
    "#ethnicity \n",
    "#month\n",
    "#road\n",
    "#region"
   ]
  },
  {
   "cell_type": "code",
   "execution_count": 36,
   "metadata": {},
   "outputs": [
    {
     "data": {
      "text/html": [
       "<table class=\"data-frame\"><thead><tr><th></th><th>gender</th><th>years</th><th>active_claims</th><th>new_claims</th></tr><tr><th></th><th>String?</th><th>Cat…</th><th>String?</th><th>String?</th></tr></thead><tbody><p>14 rows × 4 columns</p><tr><th>1</th><td>Female</td><td>2011</td><td>23,010</td><td>16,642</td></tr><tr><th>2</th><td>Male</td><td>2011</td><td>25,948</td><td>15,657</td></tr><tr><th>3</th><td>Female</td><td>2012</td><td>22,744</td><td>16,321</td></tr><tr><th>4</th><td>Male</td><td>2012</td><td>25,172</td><td>15,360</td></tr><tr><th>5</th><td>Female</td><td>2013</td><td>23,365</td><td>16,865</td></tr><tr><th>6</th><td>Male</td><td>2013</td><td>25,834</td><td>15,580</td></tr><tr><th>7</th><td>Female</td><td>2014</td><td>22,483</td><td>16,658</td></tr><tr><th>8</th><td>Male</td><td>2014</td><td>25,058</td><td>15,840</td></tr><tr><th>9</th><td>Female</td><td>2015</td><td>23,157</td><td>18,639</td></tr><tr><th>10</th><td>Male</td><td>2015</td><td>25,433</td><td>17,506</td></tr><tr><th>11</th><td>Female</td><td>2016</td><td>24,402</td><td>19,488</td></tr><tr><th>12</th><td>Male</td><td>2016</td><td>26,621</td><td>18,390</td></tr><tr><th>13</th><td>Female</td><td>2017</td><td>24,957</td><td>19,704</td></tr><tr><th>14</th><td>Male</td><td>2017</td><td>27,247</td><td>18,892</td></tr></tbody></table>"
      ],
      "text/latex": [
       "\\begin{tabular}{r|cccc}\n",
       "\t& gender & years & active\\_claims & new\\_claims\\\\\n",
       "\t\\hline\n",
       "\t& String? & Cat… & String? & String?\\\\\n",
       "\t\\hline\n",
       "\t1 & Female & 2011 & 23,010 & 16,642 \\\\\n",
       "\t2 & Male & 2011 & 25,948 & 15,657 \\\\\n",
       "\t3 & Female & 2012 & 22,744 & 16,321 \\\\\n",
       "\t4 & Male & 2012 & 25,172 & 15,360 \\\\\n",
       "\t5 & Female & 2013 & 23,365 & 16,865 \\\\\n",
       "\t6 & Male & 2013 & 25,834 & 15,580 \\\\\n",
       "\t7 & Female & 2014 & 22,483 & 16,658 \\\\\n",
       "\t8 & Male & 2014 & 25,058 & 15,840 \\\\\n",
       "\t9 & Female & 2015 & 23,157 & 18,639 \\\\\n",
       "\t10 & Male & 2015 & 25,433 & 17,506 \\\\\n",
       "\t11 & Female & 2016 & 24,402 & 19,488 \\\\\n",
       "\t12 & Male & 2016 & 26,621 & 18,390 \\\\\n",
       "\t13 & Female & 2017 & 24,957 & 19,704 \\\\\n",
       "\t14 & Male & 2017 & 27,247 & 18,892 \\\\\n",
       "\\end{tabular}\n"
      ],
      "text/plain": [
       "14×4 DataFrame\n",
       "│ Row │ gender  │ years │ active_claims │ new_claims │\n",
       "│     │ \u001b[90mString?\u001b[39m │ \u001b[90mCat…\u001b[39m  │ \u001b[90mString?\u001b[39m       │ \u001b[90mString?\u001b[39m    │\n",
       "├─────┼─────────┼───────┼───────────────┼────────────┤\n",
       "│ 1   │ Female  │ 2011  │ 23,010        │ 16,642     │\n",
       "│ 2   │ Male    │ 2011  │ 25,948        │ 15,657     │\n",
       "│ 3   │ Female  │ 2012  │ 22,744        │ 16,321     │\n",
       "│ 4   │ Male    │ 2012  │ 25,172        │ 15,360     │\n",
       "│ 5   │ Female  │ 2013  │ 23,365        │ 16,865     │\n",
       "│ 6   │ Male    │ 2013  │ 25,834        │ 15,580     │\n",
       "│ 7   │ Female  │ 2014  │ 22,483        │ 16,658     │\n",
       "│ 8   │ Male    │ 2014  │ 25,058        │ 15,840     │\n",
       "│ 9   │ Female  │ 2015  │ 23,157        │ 18,639     │\n",
       "│ 10  │ Male    │ 2015  │ 25,433        │ 17,506     │\n",
       "│ 11  │ Female  │ 2016  │ 24,402        │ 19,488     │\n",
       "│ 12  │ Male    │ 2016  │ 26,621        │ 18,390     │\n",
       "│ 13  │ Female  │ 2017  │ 24,957        │ 19,704     │\n",
       "│ 14  │ Male    │ 2017  │ 27,247        │ 18,892     │"
      ]
     },
     "execution_count": 36,
     "metadata": {},
     "output_type": "execute_result"
    }
   ],
   "source": [
    "# Merge active and new claims data into one for gender\n",
    "gender =  join(gender_long_df, gender_long_df2,  on=[:years,:features], kind=:inner) |> DataFrame\n",
    "rename!(gender, Dict(:features => :gender))"
   ]
  },
  {
   "cell_type": "code",
   "execution_count": 37,
   "metadata": {},
   "outputs": [
    {
     "data": {
      "text/html": [
       "<table class=\"data-frame\"><thead><tr><th></th><th>age</th><th>years</th><th>active_claims</th><th>new_claims</th></tr><tr><th></th><th>String?</th><th>Cat…</th><th>String?</th><th>String?</th></tr></thead><tbody><p>56 rows × 4 columns</p><tr><th>1</th><td>00 to 19 Years of age</td><td>2011</td><td>9,303</td><td>6,465</td></tr><tr><th>2</th><td>20 to 29 Years of age</td><td>2011</td><td>11,318</td><td>7,562</td></tr><tr><th>3</th><td>30 to 39 Years of age</td><td>2011</td><td>8,029</td><td>4,650</td></tr><tr><th>4</th><td>40 to 49 Years of age</td><td>2011</td><td>8,415</td><td>5,170</td></tr><tr><th>5</th><td>50 to 59 Years of age</td><td>2011</td><td>6,030</td><td>4,034</td></tr><tr><th>6</th><td>60 to 69 Years of age</td><td>2011</td><td>3,264</td><td>2,379</td></tr><tr><th>7</th><td>70 to 79 Years of age</td><td>2011</td><td>1,653</td><td>1,259</td></tr><tr><th>8</th><td>80 Years and older</td><td>2011</td><td>946</td><td>780</td></tr><tr><th>9</th><td>00 to 19 Years of age</td><td>2012</td><td>8,485</td><td>5,863</td></tr><tr><th>10</th><td>20 to 29 Years of age</td><td>2012</td><td>11,126</td><td>7,438</td></tr><tr><th>11</th><td>30 to 39 Years of age</td><td>2012</td><td>7,800</td><td>4,594</td></tr><tr><th>12</th><td>40 to 49 Years of age</td><td>2012</td><td>8,255</td><td>5,108</td></tr><tr><th>13</th><td>50 to 59 Years of age</td><td>2012</td><td>6,194</td><td>4,094</td></tr><tr><th>14</th><td>60 to 69 Years of age</td><td>2012</td><td>3,379</td><td>2,452</td></tr><tr><th>15</th><td>70 to 79 Years of age</td><td>2012</td><td>1,745</td><td>1,364</td></tr><tr><th>16</th><td>80 Years and older</td><td>2012</td><td>932</td><td>768</td></tr><tr><th>17</th><td>00 to 19 Years of age</td><td>2013</td><td>8,574</td><td>5,932</td></tr><tr><th>18</th><td>20 to 29 Years of age</td><td>2013</td><td>11,438</td><td>7,528</td></tr><tr><th>19</th><td>30 to 39 Years of age</td><td>2013</td><td>7,936</td><td>4,706</td></tr><tr><th>20</th><td>40 to 49 Years of age</td><td>2013</td><td>8,345</td><td>5,104</td></tr><tr><th>21</th><td>50 to 59 Years of age</td><td>2013</td><td>6,506</td><td>4,305</td></tr><tr><th>22</th><td>60 to 69 Years of age</td><td>2013</td><td>3,572</td><td>2,612</td></tr><tr><th>23</th><td>70 to 79 Years of age</td><td>2013</td><td>1,823</td><td>1,426</td></tr><tr><th>24</th><td>80 Years and older</td><td>2013</td><td>1,005</td><td>832</td></tr><tr><th>25</th><td>00 to 19 Years of age</td><td>2014</td><td>7,916</td><td>5,780</td></tr><tr><th>26</th><td>20 to 29 Years of age</td><td>2014</td><td>11,103</td><td>7,802</td></tr><tr><th>27</th><td>30 to 39 Years of age</td><td>2014</td><td>7,733</td><td>4,719</td></tr><tr><th>28</th><td>40 to 49 Years of age</td><td>2014</td><td>8,032</td><td>4,958</td></tr><tr><th>29</th><td>50 to 59 Years of age</td><td>2014</td><td>6,614</td><td>4,454</td></tr><tr><th>30</th><td>60 to 69 Years of age</td><td>2014</td><td>3,566</td><td>2,673</td></tr><tr><th>&vellip;</th><td>&vellip;</td><td>&vellip;</td><td>&vellip;</td><td>&vellip;</td></tr></tbody></table>"
      ],
      "text/latex": [
       "\\begin{tabular}{r|cccc}\n",
       "\t& age & years & active\\_claims & new\\_claims\\\\\n",
       "\t\\hline\n",
       "\t& String? & Cat… & String? & String?\\\\\n",
       "\t\\hline\n",
       "\t1 & 00 to 19 Years of age & 2011 & 9,303 & 6,465 \\\\\n",
       "\t2 & 20 to 29 Years of age & 2011 & 11,318 & 7,562 \\\\\n",
       "\t3 & 30 to 39 Years of age & 2011 & 8,029 & 4,650 \\\\\n",
       "\t4 & 40 to 49 Years of age & 2011 & 8,415 & 5,170 \\\\\n",
       "\t5 & 50 to 59 Years of age & 2011 & 6,030 & 4,034 \\\\\n",
       "\t6 & 60 to 69 Years of age & 2011 & 3,264 & 2,379 \\\\\n",
       "\t7 & 70 to 79 Years of age & 2011 & 1,653 & 1,259 \\\\\n",
       "\t8 & 80 Years and older & 2011 & 946 & 780 \\\\\n",
       "\t9 & 00 to 19 Years of age & 2012 & 8,485 & 5,863 \\\\\n",
       "\t10 & 20 to 29 Years of age & 2012 & 11,126 & 7,438 \\\\\n",
       "\t11 & 30 to 39 Years of age & 2012 & 7,800 & 4,594 \\\\\n",
       "\t12 & 40 to 49 Years of age & 2012 & 8,255 & 5,108 \\\\\n",
       "\t13 & 50 to 59 Years of age & 2012 & 6,194 & 4,094 \\\\\n",
       "\t14 & 60 to 69 Years of age & 2012 & 3,379 & 2,452 \\\\\n",
       "\t15 & 70 to 79 Years of age & 2012 & 1,745 & 1,364 \\\\\n",
       "\t16 & 80 Years and older & 2012 & 932 & 768 \\\\\n",
       "\t17 & 00 to 19 Years of age & 2013 & 8,574 & 5,932 \\\\\n",
       "\t18 & 20 to 29 Years of age & 2013 & 11,438 & 7,528 \\\\\n",
       "\t19 & 30 to 39 Years of age & 2013 & 7,936 & 4,706 \\\\\n",
       "\t20 & 40 to 49 Years of age & 2013 & 8,345 & 5,104 \\\\\n",
       "\t21 & 50 to 59 Years of age & 2013 & 6,506 & 4,305 \\\\\n",
       "\t22 & 60 to 69 Years of age & 2013 & 3,572 & 2,612 \\\\\n",
       "\t23 & 70 to 79 Years of age & 2013 & 1,823 & 1,426 \\\\\n",
       "\t24 & 80 Years and older & 2013 & 1,005 & 832 \\\\\n",
       "\t25 & 00 to 19 Years of age & 2014 & 7,916 & 5,780 \\\\\n",
       "\t26 & 20 to 29 Years of age & 2014 & 11,103 & 7,802 \\\\\n",
       "\t27 & 30 to 39 Years of age & 2014 & 7,733 & 4,719 \\\\\n",
       "\t28 & 40 to 49 Years of age & 2014 & 8,032 & 4,958 \\\\\n",
       "\t29 & 50 to 59 Years of age & 2014 & 6,614 & 4,454 \\\\\n",
       "\t30 & 60 to 69 Years of age & 2014 & 3,566 & 2,673 \\\\\n",
       "\t$\\dots$ & $\\dots$ & $\\dots$ & $\\dots$ & $\\dots$ \\\\\n",
       "\\end{tabular}\n"
      ],
      "text/plain": [
       "56×4 DataFrame\n",
       "│ Row │ age                   │ years │ active_claims │ new_claims │\n",
       "│     │ \u001b[90mString?\u001b[39m               │ \u001b[90mCat…\u001b[39m  │ \u001b[90mString?\u001b[39m       │ \u001b[90mString?\u001b[39m    │\n",
       "├─────┼───────────────────────┼───────┼───────────────┼────────────┤\n",
       "│ 1   │ 00 to 19 Years of age │ 2011  │ 9,303         │ 6,465      │\n",
       "│ 2   │ 20 to 29 Years of age │ 2011  │ 11,318        │ 7,562      │\n",
       "│ 3   │ 30 to 39 Years of age │ 2011  │ 8,029         │ 4,650      │\n",
       "│ 4   │ 40 to 49 Years of age │ 2011  │ 8,415         │ 5,170      │\n",
       "│ 5   │ 50 to 59 Years of age │ 2011  │ 6,030         │ 4,034      │\n",
       "│ 6   │ 60 to 69 Years of age │ 2011  │ 3,264         │ 2,379      │\n",
       "│ 7   │ 70 to 79 Years of age │ 2011  │ 1,653         │ 1,259      │\n",
       "│ 8   │ 80 Years and older    │ 2011  │ 946           │ 780        │\n",
       "│ 9   │ 00 to 19 Years of age │ 2012  │ 8,485         │ 5,863      │\n",
       "│ 10  │ 20 to 29 Years of age │ 2012  │ 11,126        │ 7,438      │\n",
       "⋮\n",
       "│ 46  │ 60 to 69 Years of age │ 2016  │ 3,952         │ 3,115      │\n",
       "│ 47  │ 70 to 79 Years of age │ 2016  │ 1,967         │ 1,666      │\n",
       "│ 48  │ 80 Years and older    │ 2016  │ 972           │ 917        │\n",
       "│ 49  │ 00 to 19 Years of age │ 2017  │ 8,291         │ 6,706      │\n",
       "│ 50  │ 20 to 29 Years of age │ 2017  │ 12,311        │ 9,600      │\n",
       "│ 51  │ 30 to 39 Years of age │ 2017  │ 8,627         │ 5,835      │\n",
       "│ 52  │ 40 to 49 Years of age │ 2017  │ 8,408         │ 5,462      │\n",
       "│ 53  │ 50 to 59 Years of age │ 2017  │ 7,262         │ 5,100      │\n",
       "│ 54  │ 60 to 69 Years of age │ 2017  │ 4,244         │ 3,259      │\n",
       "│ 55  │ 70 to 79 Years of age │ 2017  │ 2,096         │ 1,781      │\n",
       "│ 56  │ 80 Years and older    │ 2017  │ 965           │ 853        │"
      ]
     },
     "execution_count": 37,
     "metadata": {},
     "output_type": "execute_result"
    }
   ],
   "source": [
    "# Merge active and new claims data into one for age\n",
    "age =  join(age_long_df, age_long_df2,  on=[:years,:features], kind=:inner)\n",
    "rename!(age, Dict(:features => :age))"
   ]
  },
  {
   "cell_type": "code",
   "execution_count": 38,
   "metadata": {},
   "outputs": [
    {
     "data": {
      "text/html": [
       "<table class=\"data-frame\"><thead><tr><th></th><th>ethnicity</th><th>years</th><th>active_claims</th><th>new_claims</th></tr><tr><th></th><th>String?</th><th>Cat…</th><th>String?</th><th>String?</th></tr></thead><tbody><p>35 rows × 4 columns</p><tr><th>1</th><td>Asian</td><td>2011</td><td>3,281</td><td>2,784</td></tr><tr><th>2</th><td>European</td><td>2011</td><td>33,137</td><td>21,170</td></tr><tr><th>3</th><td>Maori</td><td>2011</td><td>6,887</td><td>4,450</td></tr><tr><th>4</th><td>Other Ethnicities /Not stated</td><td>2011</td><td>3,707</td><td>2,320</td></tr><tr><th>5</th><td>Pacific Peoples</td><td>2011</td><td>1,946</td><td>1,575</td></tr><tr><th>6</th><td>Asian</td><td>2012</td><td>3,376</td><td>2,917</td></tr><tr><th>7</th><td>European</td><td>2012</td><td>32,324</td><td>20,661</td></tr><tr><th>8</th><td>Maori</td><td>2012</td><td>6,695</td><td>4,311</td></tr><tr><th>9</th><td>Other Ethnicities /Not stated</td><td>2012</td><td>3,599</td><td>2,271</td></tr><tr><th>10</th><td>Pacific Peoples</td><td>2012</td><td>1,922</td><td>1,521</td></tr><tr><th>11</th><td>Asian</td><td>2013</td><td>3,533</td><td>2,982</td></tr><tr><th>12</th><td>European</td><td>2013</td><td>33,100</td><td>21,079</td></tr><tr><th>13</th><td>Maori</td><td>2013</td><td>6,859</td><td>4,347</td></tr><tr><th>14</th><td>Other Ethnicities /Not stated</td><td>2013</td><td>3,632</td><td>2,322</td></tr><tr><th>15</th><td>Pacific Peoples</td><td>2013</td><td>2,075</td><td>1,715</td></tr><tr><th>16</th><td>Asian</td><td>2014</td><td>3,570</td><td>3,191</td></tr><tr><th>17</th><td>European</td><td>2014</td><td>31,964</td><td>20,784</td></tr><tr><th>18</th><td>Maori</td><td>2014</td><td>6,615</td><td>4,564</td></tr><tr><th>19</th><td>Other Ethnicities /Not stated</td><td>2014</td><td>3,406</td><td>2,206</td></tr><tr><th>20</th><td>Pacific Peoples</td><td>2014</td><td>1,986</td><td>1,753</td></tr><tr><th>21</th><td>Asian</td><td>2015</td><td>3,956</td><td>3,874</td></tr><tr><th>22</th><td>European</td><td>2015</td><td>32,460</td><td>22,567</td></tr><tr><th>23</th><td>Maori</td><td>2015</td><td>6,858</td><td>5,399</td></tr><tr><th>24</th><td>Other Ethnicities /Not stated</td><td>2015</td><td>3,216</td><td>2,256</td></tr><tr><th>25</th><td>Pacific Peoples</td><td>2015</td><td>2,100</td><td>2,049</td></tr><tr><th>26</th><td>Asian</td><td>2016</td><td>4,247</td><td>4,042</td></tr><tr><th>27</th><td>European</td><td>2016</td><td>33,858</td><td>23,416</td></tr><tr><th>28</th><td>Maori</td><td>2016</td><td>7,343</td><td>5,842</td></tr><tr><th>29</th><td>Other Ethnicities /Not stated</td><td>2016</td><td>3,291</td><td>2,368</td></tr><tr><th>30</th><td>Pacific Peoples</td><td>2016</td><td>2,284</td><td>2,210</td></tr><tr><th>&vellip;</th><td>&vellip;</td><td>&vellip;</td><td>&vellip;</td><td>&vellip;</td></tr></tbody></table>"
      ],
      "text/latex": [
       "\\begin{tabular}{r|cccc}\n",
       "\t& ethnicity & years & active\\_claims & new\\_claims\\\\\n",
       "\t\\hline\n",
       "\t& String? & Cat… & String? & String?\\\\\n",
       "\t\\hline\n",
       "\t1 & Asian & 2011 & 3,281 & 2,784 \\\\\n",
       "\t2 & European & 2011 & 33,137 & 21,170 \\\\\n",
       "\t3 & Maori & 2011 & 6,887 & 4,450 \\\\\n",
       "\t4 & Other Ethnicities /Not stated & 2011 & 3,707 & 2,320 \\\\\n",
       "\t5 & Pacific Peoples & 2011 & 1,946 & 1,575 \\\\\n",
       "\t6 & Asian & 2012 & 3,376 & 2,917 \\\\\n",
       "\t7 & European & 2012 & 32,324 & 20,661 \\\\\n",
       "\t8 & Maori & 2012 & 6,695 & 4,311 \\\\\n",
       "\t9 & Other Ethnicities /Not stated & 2012 & 3,599 & 2,271 \\\\\n",
       "\t10 & Pacific Peoples & 2012 & 1,922 & 1,521 \\\\\n",
       "\t11 & Asian & 2013 & 3,533 & 2,982 \\\\\n",
       "\t12 & European & 2013 & 33,100 & 21,079 \\\\\n",
       "\t13 & Maori & 2013 & 6,859 & 4,347 \\\\\n",
       "\t14 & Other Ethnicities /Not stated & 2013 & 3,632 & 2,322 \\\\\n",
       "\t15 & Pacific Peoples & 2013 & 2,075 & 1,715 \\\\\n",
       "\t16 & Asian & 2014 & 3,570 & 3,191 \\\\\n",
       "\t17 & European & 2014 & 31,964 & 20,784 \\\\\n",
       "\t18 & Maori & 2014 & 6,615 & 4,564 \\\\\n",
       "\t19 & Other Ethnicities /Not stated & 2014 & 3,406 & 2,206 \\\\\n",
       "\t20 & Pacific Peoples & 2014 & 1,986 & 1,753 \\\\\n",
       "\t21 & Asian & 2015 & 3,956 & 3,874 \\\\\n",
       "\t22 & European & 2015 & 32,460 & 22,567 \\\\\n",
       "\t23 & Maori & 2015 & 6,858 & 5,399 \\\\\n",
       "\t24 & Other Ethnicities /Not stated & 2015 & 3,216 & 2,256 \\\\\n",
       "\t25 & Pacific Peoples & 2015 & 2,100 & 2,049 \\\\\n",
       "\t26 & Asian & 2016 & 4,247 & 4,042 \\\\\n",
       "\t27 & European & 2016 & 33,858 & 23,416 \\\\\n",
       "\t28 & Maori & 2016 & 7,343 & 5,842 \\\\\n",
       "\t29 & Other Ethnicities /Not stated & 2016 & 3,291 & 2,368 \\\\\n",
       "\t30 & Pacific Peoples & 2016 & 2,284 & 2,210 \\\\\n",
       "\t$\\dots$ & $\\dots$ & $\\dots$ & $\\dots$ & $\\dots$ \\\\\n",
       "\\end{tabular}\n"
      ],
      "text/plain": [
       "35×4 DataFrame\n",
       "│ Row │ ethnicity                     │ years │ active_claims │ new_claims │\n",
       "│     │ \u001b[90mUnion{Missing, String}\u001b[39m        │ \u001b[90mCat…\u001b[39m  │ \u001b[90mString?\u001b[39m       │ \u001b[90mString?\u001b[39m    │\n",
       "├─────┼───────────────────────────────┼───────┼───────────────┼────────────┤\n",
       "│ 1   │ Asian                         │ 2011  │ 3,281         │ 2,784      │\n",
       "│ 2   │ European                      │ 2011  │ 33,137        │ 21,170     │\n",
       "│ 3   │ Maori                         │ 2011  │ 6,887         │ 4,450      │\n",
       "│ 4   │ Other Ethnicities /Not stated │ 2011  │ 3,707         │ 2,320      │\n",
       "│ 5   │ Pacific Peoples               │ 2011  │ 1,946         │ 1,575      │\n",
       "│ 6   │ Asian                         │ 2012  │ 3,376         │ 2,917      │\n",
       "│ 7   │ European                      │ 2012  │ 32,324        │ 20,661     │\n",
       "│ 8   │ Maori                         │ 2012  │ 6,695         │ 4,311      │\n",
       "│ 9   │ Other Ethnicities /Not stated │ 2012  │ 3,599         │ 2,271      │\n",
       "│ 10  │ Pacific Peoples               │ 2012  │ 1,922         │ 1,521      │\n",
       "⋮\n",
       "│ 25  │ Pacific Peoples               │ 2015  │ 2,100         │ 2,049      │\n",
       "│ 26  │ Asian                         │ 2016  │ 4,247         │ 4,042      │\n",
       "│ 27  │ European                      │ 2016  │ 33,858        │ 23,416     │\n",
       "│ 28  │ Maori                         │ 2016  │ 7,343         │ 5,842      │\n",
       "│ 29  │ Other Ethnicities /Not stated │ 2016  │ 3,291         │ 2,368      │\n",
       "│ 30  │ Pacific Peoples               │ 2016  │ 2,284         │ 2,210      │\n",
       "│ 31  │ Asian                         │ 2017  │ 4,646         │ 4,401      │\n",
       "│ 32  │ European                      │ 2017  │ 34,186        │ 23,420     │\n",
       "│ 33  │ Maori                         │ 2017  │ 7,601         │ 6,015      │\n",
       "│ 34  │ Other Ethnicities /Not stated │ 2017  │ 3,401         │ 2,596      │\n",
       "│ 35  │ Pacific Peoples               │ 2017  │ 2,370         │ 2,164      │"
      ]
     },
     "execution_count": 38,
     "metadata": {},
     "output_type": "execute_result"
    }
   ],
   "source": [
    "# Merge active and new claims data into one for ethnicity\n",
    "ethnicity =  join(ethnicity_long_df, ethnicity_long_df2,  on=[:years,:features], kind=:inner)\n",
    "rename!(ethnicity, Dict(:features => :ethnicity))"
   ]
  },
  {
   "cell_type": "code",
   "execution_count": 39,
   "metadata": {},
   "outputs": [
    {
     "data": {
      "text/html": [
       "<table class=\"data-frame\"><thead><tr><th></th><th>months</th><th>years</th><th>active_claims</th><th>new_claims</th></tr><tr><th></th><th>String?</th><th>Cat…</th><th>String?</th><th>String?</th></tr></thead><tbody><p>84 rows × 4 columns</p><tr><th>1</th><td>January </td><td>2011</td><td>12,004</td><td>2,416</td></tr><tr><th>2</th><td>February</td><td>2011</td><td>12,521</td><td>2,723</td></tr><tr><th>3</th><td>March</td><td>2011</td><td>13,474</td><td>3,075</td></tr><tr><th>4</th><td>April</td><td>2011</td><td>12,078</td><td>2,510</td></tr><tr><th>5</th><td>May</td><td>2011</td><td>13,810</td><td>2,989</td></tr><tr><th>6</th><td>June</td><td>2011</td><td>13,128</td><td>2,597</td></tr><tr><th>7</th><td>July</td><td>2011</td><td>13,372</td><td>2,652</td></tr><tr><th>8</th><td>August</td><td>2011</td><td>13,266</td><td>2,839</td></tr><tr><th>9</th><td>September</td><td>2011</td><td>13,495</td><td>2,679</td></tr><tr><th>10</th><td>October</td><td>2011</td><td>12,720</td><td>2,510</td></tr><tr><th>11</th><td>November</td><td>2011</td><td>13,523</td><td>2,698</td></tr><tr><th>12</th><td>December</td><td>2011</td><td>12,970</td><td>2,611</td></tr><tr><th>13</th><td>January </td><td>2012</td><td>11,750</td><td>2,575</td></tr><tr><th>14</th><td>February</td><td>2012</td><td>11,957</td><td>2,549</td></tr><tr><th>15</th><td>March</td><td>2012</td><td>12,645</td><td>2,982</td></tr><tr><th>16</th><td>April</td><td>2012</td><td>13,393</td><td>2,855</td></tr><tr><th>17</th><td>May</td><td>2012</td><td>13,387</td><td>2,853</td></tr><tr><th>18</th><td>June</td><td>2012</td><td>12,792</td><td>2,509</td></tr><tr><th>19</th><td>July</td><td>2012</td><td>13,183</td><td>2,755</td></tr><tr><th>20</th><td>August</td><td>2012</td><td>13,184</td><td>2,565</td></tr><tr><th>21</th><td>September</td><td>2012</td><td>12,484</td><td>2,186</td></tr><tr><th>22</th><td>October</td><td>2012</td><td>12,562</td><td>2,574</td></tr><tr><th>23</th><td>November</td><td>2012</td><td>12,949</td><td>2,819</td></tr><tr><th>24</th><td>December</td><td>2012</td><td>12,484</td><td>2,459</td></tr><tr><th>25</th><td>January </td><td>2013</td><td>12,035</td><td>2,578</td></tr><tr><th>26</th><td>February</td><td>2013</td><td>12,276</td><td>2,583</td></tr><tr><th>27</th><td>March</td><td>2013</td><td>12,724</td><td>2,928</td></tr><tr><th>28</th><td>April</td><td>2013</td><td>12,929</td><td>2,695</td></tr><tr><th>29</th><td>May</td><td>2013</td><td>13,694</td><td>2,899</td></tr><tr><th>30</th><td>June</td><td>2013</td><td>13,132</td><td>2,808</td></tr><tr><th>&vellip;</th><td>&vellip;</td><td>&vellip;</td><td>&vellip;</td><td>&vellip;</td></tr></tbody></table>"
      ],
      "text/latex": [
       "\\begin{tabular}{r|cccc}\n",
       "\t& months & years & active\\_claims & new\\_claims\\\\\n",
       "\t\\hline\n",
       "\t& String? & Cat… & String? & String?\\\\\n",
       "\t\\hline\n",
       "\t1 & January  & 2011 & 12,004 & 2,416 \\\\\n",
       "\t2 & February & 2011 & 12,521 & 2,723 \\\\\n",
       "\t3 & March & 2011 & 13,474 & 3,075 \\\\\n",
       "\t4 & April & 2011 & 12,078 & 2,510 \\\\\n",
       "\t5 & May & 2011 & 13,810 & 2,989 \\\\\n",
       "\t6 & June & 2011 & 13,128 & 2,597 \\\\\n",
       "\t7 & July & 2011 & 13,372 & 2,652 \\\\\n",
       "\t8 & August & 2011 & 13,266 & 2,839 \\\\\n",
       "\t9 & September & 2011 & 13,495 & 2,679 \\\\\n",
       "\t10 & October & 2011 & 12,720 & 2,510 \\\\\n",
       "\t11 & November & 2011 & 13,523 & 2,698 \\\\\n",
       "\t12 & December & 2011 & 12,970 & 2,611 \\\\\n",
       "\t13 & January  & 2012 & 11,750 & 2,575 \\\\\n",
       "\t14 & February & 2012 & 11,957 & 2,549 \\\\\n",
       "\t15 & March & 2012 & 12,645 & 2,982 \\\\\n",
       "\t16 & April & 2012 & 13,393 & 2,855 \\\\\n",
       "\t17 & May & 2012 & 13,387 & 2,853 \\\\\n",
       "\t18 & June & 2012 & 12,792 & 2,509 \\\\\n",
       "\t19 & July & 2012 & 13,183 & 2,755 \\\\\n",
       "\t20 & August & 2012 & 13,184 & 2,565 \\\\\n",
       "\t21 & September & 2012 & 12,484 & 2,186 \\\\\n",
       "\t22 & October & 2012 & 12,562 & 2,574 \\\\\n",
       "\t23 & November & 2012 & 12,949 & 2,819 \\\\\n",
       "\t24 & December & 2012 & 12,484 & 2,459 \\\\\n",
       "\t25 & January  & 2013 & 12,035 & 2,578 \\\\\n",
       "\t26 & February & 2013 & 12,276 & 2,583 \\\\\n",
       "\t27 & March & 2013 & 12,724 & 2,928 \\\\\n",
       "\t28 & April & 2013 & 12,929 & 2,695 \\\\\n",
       "\t29 & May & 2013 & 13,694 & 2,899 \\\\\n",
       "\t30 & June & 2013 & 13,132 & 2,808 \\\\\n",
       "\t$\\dots$ & $\\dots$ & $\\dots$ & $\\dots$ & $\\dots$ \\\\\n",
       "\\end{tabular}\n"
      ],
      "text/plain": [
       "84×4 DataFrame\n",
       "│ Row │ months    │ years │ active_claims │ new_claims │\n",
       "│     │ \u001b[90mString?\u001b[39m   │ \u001b[90mCat…\u001b[39m  │ \u001b[90mString?\u001b[39m       │ \u001b[90mString?\u001b[39m    │\n",
       "├─────┼───────────┼───────┼───────────────┼────────────┤\n",
       "│ 1   │ January   │ 2011  │ 12,004        │ 2,416      │\n",
       "│ 2   │ February  │ 2011  │ 12,521        │ 2,723      │\n",
       "│ 3   │ March     │ 2011  │ 13,474        │ 3,075      │\n",
       "│ 4   │ April     │ 2011  │ 12,078        │ 2,510      │\n",
       "│ 5   │ May       │ 2011  │ 13,810        │ 2,989      │\n",
       "│ 6   │ June      │ 2011  │ 13,128        │ 2,597      │\n",
       "│ 7   │ July      │ 2011  │ 13,372        │ 2,652      │\n",
       "│ 8   │ August    │ 2011  │ 13,266        │ 2,839      │\n",
       "│ 9   │ September │ 2011  │ 13,495        │ 2,679      │\n",
       "│ 10  │ October   │ 2011  │ 12,720        │ 2,510      │\n",
       "⋮\n",
       "│ 74  │ February  │ 2017  │ 13,865        │ 3,387      │\n",
       "│ 75  │ March     │ 2017  │ 15,011        │ 3,400      │\n",
       "│ 76  │ April     │ 2017  │ 14,844        │ 3,045      │\n",
       "│ 77  │ May       │ 2017  │ 15,808        │ 3,707      │\n",
       "│ 78  │ June      │ 2017  │ 15,236        │ 3,182      │\n",
       "│ 79  │ July      │ 2017  │ 14,255        │ 3,155      │\n",
       "│ 80  │ August    │ 2017  │ 14,914        │ 3,238      │\n",
       "│ 81  │ September │ 2017  │ 14,409        │ 3,108      │\n",
       "│ 82  │ October   │ 2017  │ 14,464        │ 3,028      │\n",
       "│ 83  │ November  │ 2017  │ 14,624        │ 3,190      │\n",
       "│ 84  │ December  │ 2017  │ 14,789        │ 3,021      │"
      ]
     },
     "execution_count": 39,
     "metadata": {},
     "output_type": "execute_result"
    }
   ],
   "source": [
    "# Merge active and new claims data into one for months\n",
    "months =  join(months_long_df, months_long_df2,  on=[:years,:features], kind=:inner)\n",
    "rename!(months, Dict(:features => :months))"
   ]
  },
  {
   "cell_type": "code",
   "execution_count": 40,
   "metadata": {},
   "outputs": [
    {
     "data": {
      "text/html": [
       "<table class=\"data-frame\"><thead><tr><th></th><th>road_factor</th><th>years</th><th>active_claims</th><th>new_claims</th></tr><tr><th></th><th>String?</th><th>Cat…</th><th>String?</th><th>String?</th></tr></thead><tbody><p>70 rows × 4 columns</p><tr><th>1</th><td>ATV</td><td>2011</td><td>20</td><td>10</td></tr><tr><th>2</th><td>Cycling</td><td>2011</td><td>2,470</td><td>1,708</td></tr><tr><th>3</th><td>Driving/Passenger - Bus</td><td>2011</td><td>730</td><td>574</td></tr><tr><th>4</th><td>Driving/Passenger - Car</td><td>2011</td><td>32,777</td><td>22,939</td></tr><tr><th>5</th><td>Driving/Passenger - Motorcycle</td><td>2011</td><td>7,113</td><td>3,644</td></tr><tr><th>6</th><td>Driving/Passenger - Truck</td><td>2011</td><td>1,044</td><td>481</td></tr><tr><th>7</th><td>Driving/Passenger-Other Veh</td><td>2011</td><td>868</td><td>618</td></tr><tr><th>8</th><td>Not Obtainable</td><td>2011</td><td>399</td><td>22</td></tr><tr><th>9</th><td>Other</td><td>2011</td><td>196</td><td>150</td></tr><tr><th>10</th><td>Pedestrian</td><td>2011</td><td>3,341</td><td>2,153</td></tr><tr><th>11</th><td>ATV</td><td>2012</td><td>24</td><td>18</td></tr><tr><th>12</th><td>Cycling</td><td>2012</td><td>2,501</td><td>1,747</td></tr><tr><th>13</th><td>Driving/Passenger - Bus</td><td>2012</td><td>741</td><td>587</td></tr><tr><th>14</th><td>Driving/Passenger - Car</td><td>2012</td><td>32,004</td><td>22,412</td></tr><tr><th>15</th><td>Driving/Passenger - Motorcycle</td><td>2012</td><td>6,933</td><td>3,524</td></tr><tr><th>16</th><td>Driving/Passenger - Truck</td><td>2012</td><td>990</td><td>494</td></tr><tr><th>17</th><td>Driving/Passenger-Other Veh</td><td>2012</td><td>989</td><td>731</td></tr><tr><th>18</th><td>Not Obtainable</td><td>2012</td><td>388</td><td>28</td></tr><tr><th>19</th><td>Other</td><td>2012</td><td>231</td><td>177</td></tr><tr><th>20</th><td>Pedestrian</td><td>2012</td><td>3,115</td><td>1,963</td></tr><tr><th>21</th><td>ATV</td><td>2013</td><td>42</td><td>43</td></tr><tr><th>22</th><td>Cycling</td><td>2013</td><td>2,508</td><td>1,680</td></tr><tr><th>23</th><td>Driving/Passenger - Bus</td><td>2013</td><td>674</td><td>556</td></tr><tr><th>24</th><td>Driving/Passenger - Car</td><td>2013</td><td>32,970</td><td>23,057</td></tr><tr><th>25</th><td>Driving/Passenger - Motorcycle</td><td>2013</td><td>7,099</td><td>3,687</td></tr><tr><th>26</th><td>Driving/Passenger - Truck</td><td>2013</td><td>1,056</td><td>507</td></tr><tr><th>27</th><td>Driving/Passenger-Other Veh</td><td>2013</td><td>1,106</td><td>866</td></tr><tr><th>28</th><td>Not Obtainable</td><td>2013</td><td>420</td><td>22</td></tr><tr><th>29</th><td>Other</td><td>2013</td><td>273</td><td>205</td></tr><tr><th>30</th><td>Pedestrian</td><td>2013</td><td>3,051</td><td>1,822</td></tr><tr><th>&vellip;</th><td>&vellip;</td><td>&vellip;</td><td>&vellip;</td><td>&vellip;</td></tr></tbody></table>"
      ],
      "text/latex": [
       "\\begin{tabular}{r|cccc}\n",
       "\t& road\\_factor & years & active\\_claims & new\\_claims\\\\\n",
       "\t\\hline\n",
       "\t& String? & Cat… & String? & String?\\\\\n",
       "\t\\hline\n",
       "\t1 & ATV & 2011 & 20 & 10 \\\\\n",
       "\t2 & Cycling & 2011 & 2,470 & 1,708 \\\\\n",
       "\t3 & Driving/Passenger - Bus & 2011 & 730 & 574 \\\\\n",
       "\t4 & Driving/Passenger - Car & 2011 & 32,777 & 22,939 \\\\\n",
       "\t5 & Driving/Passenger - Motorcycle & 2011 & 7,113 & 3,644 \\\\\n",
       "\t6 & Driving/Passenger - Truck & 2011 & 1,044 & 481 \\\\\n",
       "\t7 & Driving/Passenger-Other Veh & 2011 & 868 & 618 \\\\\n",
       "\t8 & Not Obtainable & 2011 & 399 & 22 \\\\\n",
       "\t9 & Other & 2011 & 196 & 150 \\\\\n",
       "\t10 & Pedestrian & 2011 & 3,341 & 2,153 \\\\\n",
       "\t11 & ATV & 2012 & 24 & 18 \\\\\n",
       "\t12 & Cycling & 2012 & 2,501 & 1,747 \\\\\n",
       "\t13 & Driving/Passenger - Bus & 2012 & 741 & 587 \\\\\n",
       "\t14 & Driving/Passenger - Car & 2012 & 32,004 & 22,412 \\\\\n",
       "\t15 & Driving/Passenger - Motorcycle & 2012 & 6,933 & 3,524 \\\\\n",
       "\t16 & Driving/Passenger - Truck & 2012 & 990 & 494 \\\\\n",
       "\t17 & Driving/Passenger-Other Veh & 2012 & 989 & 731 \\\\\n",
       "\t18 & Not Obtainable & 2012 & 388 & 28 \\\\\n",
       "\t19 & Other & 2012 & 231 & 177 \\\\\n",
       "\t20 & Pedestrian & 2012 & 3,115 & 1,963 \\\\\n",
       "\t21 & ATV & 2013 & 42 & 43 \\\\\n",
       "\t22 & Cycling & 2013 & 2,508 & 1,680 \\\\\n",
       "\t23 & Driving/Passenger - Bus & 2013 & 674 & 556 \\\\\n",
       "\t24 & Driving/Passenger - Car & 2013 & 32,970 & 23,057 \\\\\n",
       "\t25 & Driving/Passenger - Motorcycle & 2013 & 7,099 & 3,687 \\\\\n",
       "\t26 & Driving/Passenger - Truck & 2013 & 1,056 & 507 \\\\\n",
       "\t27 & Driving/Passenger-Other Veh & 2013 & 1,106 & 866 \\\\\n",
       "\t28 & Not Obtainable & 2013 & 420 & 22 \\\\\n",
       "\t29 & Other & 2013 & 273 & 205 \\\\\n",
       "\t30 & Pedestrian & 2013 & 3,051 & 1,822 \\\\\n",
       "\t$\\dots$ & $\\dots$ & $\\dots$ & $\\dots$ & $\\dots$ \\\\\n",
       "\\end{tabular}\n"
      ],
      "text/plain": [
       "70×4 DataFrame\n",
       "│ Row │ road_factor                    │ years │ active_claims │ new_claims │\n",
       "│     │ \u001b[90mUnion{Missing, String}\u001b[39m         │ \u001b[90mCat…\u001b[39m  │ \u001b[90mString?\u001b[39m       │ \u001b[90mString?\u001b[39m    │\n",
       "├─────┼────────────────────────────────┼───────┼───────────────┼────────────┤\n",
       "│ 1   │ ATV                            │ 2011  │ 20            │ 10         │\n",
       "│ 2   │ Cycling                        │ 2011  │ 2,470         │ 1,708      │\n",
       "│ 3   │ Driving/Passenger - Bus        │ 2011  │ 730           │ 574        │\n",
       "│ 4   │ Driving/Passenger - Car        │ 2011  │ 32,777        │ 22,939     │\n",
       "│ 5   │ Driving/Passenger - Motorcycle │ 2011  │ 7,113         │ 3,644      │\n",
       "│ 6   │ Driving/Passenger - Truck      │ 2011  │ 1,044         │ 481        │\n",
       "│ 7   │ Driving/Passenger-Other Veh    │ 2011  │ 868           │ 618        │\n",
       "│ 8   │ Not Obtainable                 │ 2011  │ 399           │ 22         │\n",
       "│ 9   │ Other                          │ 2011  │ 196           │ 150        │\n",
       "│ 10  │ Pedestrian                     │ 2011  │ 3,341         │ 2,153      │\n",
       "⋮\n",
       "│ 60  │ Pedestrian                     │ 2016  │ 2,984         │ 2,017      │\n",
       "│ 61  │ ATV                            │ 2017  │ 52            │ 45         │\n",
       "│ 62  │ Cycling                        │ 2017  │ 2,182         │ 1,461      │\n",
       "│ 63  │ Driving/Passenger - Bus        │ 2017  │ 767           │ 587        │\n",
       "│ 64  │ Driving/Passenger - Car        │ 2017  │ 34,122        │ 26,712     │\n",
       "│ 65  │ Driving/Passenger - Motorcycle │ 2017  │ 7,589         │ 4,205      │\n",
       "│ 66  │ Driving/Passenger - Truck      │ 2017  │ 1,111         │ 613        │\n",
       "│ 67  │ Driving/Passenger-Other Veh    │ 2017  │ 2,584         │ 2,581      │\n",
       "│ 68  │ Not Obtainable                 │ 2017  │ 511           │ 198        │\n",
       "│ 69  │ Other                          │ 2017  │ 282           │ 210        │\n",
       "│ 70  │ Pedestrian                     │ 2017  │ 3,004         │ 1,984      │"
      ]
     },
     "execution_count": 40,
     "metadata": {},
     "output_type": "execute_result"
    }
   ],
   "source": [
    "# Merge active and new claims data into one for road factor\n",
    "road =  join(road_factor_long_df, road_factor_long_df2,  on=[:years,:features], kind=:inner)\n",
    "rename!(road, Dict(:features => :road_factor))"
   ]
  },
  {
   "cell_type": "code",
   "execution_count": 41,
   "metadata": {},
   "outputs": [
    {
     "data": {
      "text/html": [
       "<table class=\"data-frame\"><thead><tr><th></th><th>region</th><th>years</th><th>active_claims</th><th>new_claims</th></tr><tr><th></th><th>String?</th><th>Cat…</th><th>String?</th><th>String?</th></tr></thead><tbody><p>119 rows × 4 columns</p><tr><th>1</th><td>Northland</td><td>2011</td><td>2,168</td><td>1,411</td></tr><tr><th>2</th><td>Auckland</td><td>2011</td><td>13,615</td><td>10,461</td></tr><tr><th>3</th><td>Waikato</td><td>2011</td><td>4,954</td><td>3,254</td></tr><tr><th>4</th><td>Bay of Plenty</td><td>2011</td><td>2,769</td><td>1,931</td></tr><tr><th>5</th><td>Gisborne</td><td>2011</td><td>472</td><td>312</td></tr><tr><th>6</th><td>Hawkes Bay</td><td>2011</td><td>1,846</td><td>1,190</td></tr><tr><th>7</th><td>Taranaki</td><td>2011</td><td>1,115</td><td>828</td></tr><tr><th>8</th><td>Manawatu-Wanganui</td><td>2011</td><td>2,780</td><td>1,739</td></tr><tr><th>9</th><td>Wellington</td><td>2011</td><td>3,706</td><td>2,679</td></tr><tr><th>10</th><td>Tasman</td><td>2011</td><td>359</td><td>246</td></tr><tr><th>11</th><td>Nelson</td><td>2011</td><td>547</td><td>363</td></tr><tr><th>12</th><td>Marlborough</td><td>2011</td><td>420</td><td>329</td></tr><tr><th>13</th><td>Canterbury</td><td>2011</td><td>6,613</td><td>4,812</td></tr><tr><th>14</th><td>West Coast</td><td>2011</td><td>476</td><td>346</td></tr><tr><th>15</th><td>Otago</td><td>2011</td><td>2,128</td><td>1,479</td></tr><tr><th>16</th><td>Southland</td><td>2011</td><td>945</td><td>677</td></tr><tr><th>17</th><td>Other</td><td>2011</td><td>417</td><td>242</td></tr><tr><th>18</th><td>Northland</td><td>2012</td><td>2,296</td><td>1,488</td></tr><tr><th>19</th><td>Auckland</td><td>2012</td><td>13,612</td><td>10,465</td></tr><tr><th>20</th><td>Waikato</td><td>2012</td><td>5,021</td><td>3,281</td></tr><tr><th>21</th><td>Bay of Plenty</td><td>2012</td><td>2,775</td><td>1,847</td></tr><tr><th>22</th><td>Gisborne</td><td>2012</td><td>482</td><td>331</td></tr><tr><th>23</th><td>Hawkes Bay</td><td>2012</td><td>1,754</td><td>1,109</td></tr><tr><th>24</th><td>Taranaki</td><td>2012</td><td>1,090</td><td>802</td></tr><tr><th>25</th><td>Manawatu-Wanganui</td><td>2012</td><td>2,568</td><td>1,599</td></tr><tr><th>26</th><td>Wellington</td><td>2012</td><td>3,462</td><td>2,492</td></tr><tr><th>27</th><td>Tasman</td><td>2012</td><td>363</td><td>286</td></tr><tr><th>28</th><td>Nelson</td><td>2012</td><td>538</td><td>352</td></tr><tr><th>29</th><td>Marlborough</td><td>2012</td><td>390</td><td>261</td></tr><tr><th>30</th><td>Canterbury</td><td>2012</td><td>6,341</td><td>4,720</td></tr><tr><th>&vellip;</th><td>&vellip;</td><td>&vellip;</td><td>&vellip;</td><td>&vellip;</td></tr></tbody></table>"
      ],
      "text/latex": [
       "\\begin{tabular}{r|cccc}\n",
       "\t& region & years & active\\_claims & new\\_claims\\\\\n",
       "\t\\hline\n",
       "\t& String? & Cat… & String? & String?\\\\\n",
       "\t\\hline\n",
       "\t1 & Northland & 2011 & 2,168 & 1,411 \\\\\n",
       "\t2 & Auckland & 2011 & 13,615 & 10,461 \\\\\n",
       "\t3 & Waikato & 2011 & 4,954 & 3,254 \\\\\n",
       "\t4 & Bay of Plenty & 2011 & 2,769 & 1,931 \\\\\n",
       "\t5 & Gisborne & 2011 & 472 & 312 \\\\\n",
       "\t6 & Hawkes Bay & 2011 & 1,846 & 1,190 \\\\\n",
       "\t7 & Taranaki & 2011 & 1,115 & 828 \\\\\n",
       "\t8 & Manawatu-Wanganui & 2011 & 2,780 & 1,739 \\\\\n",
       "\t9 & Wellington & 2011 & 3,706 & 2,679 \\\\\n",
       "\t10 & Tasman & 2011 & 359 & 246 \\\\\n",
       "\t11 & Nelson & 2011 & 547 & 363 \\\\\n",
       "\t12 & Marlborough & 2011 & 420 & 329 \\\\\n",
       "\t13 & Canterbury & 2011 & 6,613 & 4,812 \\\\\n",
       "\t14 & West Coast & 2011 & 476 & 346 \\\\\n",
       "\t15 & Otago & 2011 & 2,128 & 1,479 \\\\\n",
       "\t16 & Southland & 2011 & 945 & 677 \\\\\n",
       "\t17 & Other & 2011 & 417 & 242 \\\\\n",
       "\t18 & Northland & 2012 & 2,296 & 1,488 \\\\\n",
       "\t19 & Auckland & 2012 & 13,612 & 10,465 \\\\\n",
       "\t20 & Waikato & 2012 & 5,021 & 3,281 \\\\\n",
       "\t21 & Bay of Plenty & 2012 & 2,775 & 1,847 \\\\\n",
       "\t22 & Gisborne & 2012 & 482 & 331 \\\\\n",
       "\t23 & Hawkes Bay & 2012 & 1,754 & 1,109 \\\\\n",
       "\t24 & Taranaki & 2012 & 1,090 & 802 \\\\\n",
       "\t25 & Manawatu-Wanganui & 2012 & 2,568 & 1,599 \\\\\n",
       "\t26 & Wellington & 2012 & 3,462 & 2,492 \\\\\n",
       "\t27 & Tasman & 2012 & 363 & 286 \\\\\n",
       "\t28 & Nelson & 2012 & 538 & 352 \\\\\n",
       "\t29 & Marlborough & 2012 & 390 & 261 \\\\\n",
       "\t30 & Canterbury & 2012 & 6,341 & 4,720 \\\\\n",
       "\t$\\dots$ & $\\dots$ & $\\dots$ & $\\dots$ & $\\dots$ \\\\\n",
       "\\end{tabular}\n"
      ],
      "text/plain": [
       "119×4 DataFrame\n",
       "│ Row │ region            │ years │ active_claims │ new_claims │\n",
       "│     │ \u001b[90mString?\u001b[39m           │ \u001b[90mCat…\u001b[39m  │ \u001b[90mString?\u001b[39m       │ \u001b[90mString?\u001b[39m    │\n",
       "├─────┼───────────────────┼───────┼───────────────┼────────────┤\n",
       "│ 1   │ Northland         │ 2011  │ 2,168         │ 1,411      │\n",
       "│ 2   │ Auckland          │ 2011  │ 13,615        │ 10,461     │\n",
       "│ 3   │ Waikato           │ 2011  │ 4,954         │ 3,254      │\n",
       "│ 4   │ Bay of Plenty     │ 2011  │ 2,769         │ 1,931      │\n",
       "│ 5   │ Gisborne          │ 2011  │ 472           │ 312        │\n",
       "│ 6   │ Hawkes Bay        │ 2011  │ 1,846         │ 1,190      │\n",
       "│ 7   │ Taranaki          │ 2011  │ 1,115         │ 828        │\n",
       "│ 8   │ Manawatu-Wanganui │ 2011  │ 2,780         │ 1,739      │\n",
       "│ 9   │ Wellington        │ 2011  │ 3,706         │ 2,679      │\n",
       "│ 10  │ Tasman            │ 2011  │ 359           │ 246        │\n",
       "⋮\n",
       "│ 109 │ Taranaki          │ 2017  │ 1,149         │ 896        │\n",
       "│ 110 │ Manawatu-Wanganui │ 2017  │ 2,593         │ 1,945      │\n",
       "│ 111 │ Wellington        │ 2017  │ 3,640         │ 2,873      │\n",
       "│ 112 │ Tasman            │ 2017  │ 375           │ 281        │\n",
       "│ 113 │ Nelson            │ 2017  │ 605           │ 446        │\n",
       "│ 114 │ Marlborough       │ 2017  │ 458           │ 404        │\n",
       "│ 115 │ Canterbury        │ 2017  │ 6,191         │ 5,095      │\n",
       "│ 116 │ West Coast        │ 2017  │ 462           │ 374        │\n",
       "│ 117 │ Otago             │ 2017  │ 2,404         │ 1,955      │\n",
       "│ 118 │ Southland         │ 2017  │ 1,036         │ 849        │\n",
       "│ 119 │ Other             │ 2017  │ 618           │ 344        │"
      ]
     },
     "execution_count": 41,
     "metadata": {},
     "output_type": "execute_result"
    }
   ],
   "source": [
    "# Merge active and new claims data into one for region\n",
    "region =  join(region_long_df, region_long_df2,  on=[:years,:features], kind=:inner)\n",
    "rename!(region, Dict(:features => :region))"
   ]
  },
  {
   "cell_type": "markdown",
   "metadata": {},
   "source": [
    "## Write the dataframes to csv for use in further notebooks"
   ]
  },
  {
   "cell_type": "code",
   "execution_count": 44,
   "metadata": {},
   "outputs": [
    {
     "data": {
      "text/plain": [
       "\"region.csv\""
      ]
     },
     "execution_count": 44,
     "metadata": {},
     "output_type": "execute_result"
    }
   ],
   "source": [
    "gender |> CSV.write(\"gender.csv\") \n",
    "age |> CSV.write(\"age.csv\")\n",
    "ethnicity |> CSV.write(\"ethnicity.csv\")\n",
    "months |> CSV.write(\"months.csv\")\n",
    "road |> CSV.write(\"road.csv\")\n",
    "region |> CSV.write(\"region.csv\")"
   ]
  },
  {
   "cell_type": "code",
   "execution_count": null,
   "metadata": {},
   "outputs": [],
   "source": []
  }
 ],
 "metadata": {
  "kernelspec": {
   "display_name": "Julia 1.5.0",
   "language": "julia",
   "name": "julia-1.5"
  },
  "language_info": {
   "file_extension": ".jl",
   "mimetype": "application/julia",
   "name": "julia",
   "version": "1.5.0"
  }
 },
 "nbformat": 4,
 "nbformat_minor": 2
}
